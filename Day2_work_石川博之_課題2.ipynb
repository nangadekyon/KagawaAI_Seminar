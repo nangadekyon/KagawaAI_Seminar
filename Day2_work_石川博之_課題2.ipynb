{
 "cells": [
  {
   "cell_type": "markdown",
   "metadata": {},
   "source": [
    "# かがわAIゼミナール2019\n",
    "## 課題2 : Car Fuel Consumption\n",
    "## 100kmあたりのガソリン消費量(consume)を予測"
   ]
  },
  {
   "cell_type": "markdown",
   "metadata": {},
   "source": [
    "#### DATA:kaggle    https://www.kaggle.com/anderas/car-consume"
   ]
  },
  {
   "cell_type": "code",
   "execution_count": 1,
   "metadata": {},
   "outputs": [],
   "source": [
    "%matplotlib inline\n",
    "import pandas as pd\n",
    "import numpy as np\n",
    "from sklearn.linear_model import LinearRegression, LassoCV\n",
    "import seaborn as sns\n",
    "import matplotlib.pyplot as plt\n",
    "from sklearn.metrics import mean_squared_error, mean_absolute_error # 回帰問題における性能評価に関する関数\n",
    "from sklearn.model_selection import train_test_split # ホールドアウト法に関する関数\n",
    "from sklearn.model_selection import KFold # 交差検証法に関する関数\n",
    "from sklearn.model_selection import GridSearchCV\n",
    "from sklearn.preprocessing import StandardScaler, MinMaxScaler\n",
    "from sklearn.feature_selection import RFECV, SelectFromModel\n",
    "# 決定木\n",
    "import graphviz\n",
    "import pydotplus\n",
    "from IPython.display import Image\n",
    "from sklearn.externals.six import StringIO\n",
    "from sklearn.tree import DecisionTreeRegressor, export_graphviz"
   ]
  },
  {
   "cell_type": "code",
   "execution_count": 2,
   "metadata": {},
   "outputs": [
    {
     "data": {
      "text/html": [
       "<div>\n",
       "<style scoped>\n",
       "    .dataframe tbody tr th:only-of-type {\n",
       "        vertical-align: middle;\n",
       "    }\n",
       "\n",
       "    .dataframe tbody tr th {\n",
       "        vertical-align: top;\n",
       "    }\n",
       "\n",
       "    .dataframe thead th {\n",
       "        text-align: right;\n",
       "    }\n",
       "</style>\n",
       "<table border=\"1\" class=\"dataframe\">\n",
       "  <thead>\n",
       "    <tr style=\"text-align: right;\">\n",
       "      <th></th>\n",
       "      <th>distance</th>\n",
       "      <th>consume</th>\n",
       "      <th>speed</th>\n",
       "      <th>temp_inside</th>\n",
       "      <th>temp_outside</th>\n",
       "      <th>specials</th>\n",
       "      <th>gas_type</th>\n",
       "      <th>AC</th>\n",
       "      <th>rain</th>\n",
       "      <th>sun</th>\n",
       "      <th>refill liters</th>\n",
       "      <th>refill gas</th>\n",
       "    </tr>\n",
       "  </thead>\n",
       "  <tbody>\n",
       "    <tr>\n",
       "      <th>0</th>\n",
       "      <td>28</td>\n",
       "      <td>5</td>\n",
       "      <td>26</td>\n",
       "      <td>21,5</td>\n",
       "      <td>12</td>\n",
       "      <td>NaN</td>\n",
       "      <td>E10</td>\n",
       "      <td>0</td>\n",
       "      <td>0</td>\n",
       "      <td>0</td>\n",
       "      <td>45</td>\n",
       "      <td>E10</td>\n",
       "    </tr>\n",
       "    <tr>\n",
       "      <th>1</th>\n",
       "      <td>12</td>\n",
       "      <td>4,2</td>\n",
       "      <td>30</td>\n",
       "      <td>21,5</td>\n",
       "      <td>13</td>\n",
       "      <td>NaN</td>\n",
       "      <td>E10</td>\n",
       "      <td>0</td>\n",
       "      <td>0</td>\n",
       "      <td>0</td>\n",
       "      <td>NaN</td>\n",
       "      <td>NaN</td>\n",
       "    </tr>\n",
       "    <tr>\n",
       "      <th>2</th>\n",
       "      <td>11,2</td>\n",
       "      <td>5,5</td>\n",
       "      <td>38</td>\n",
       "      <td>21,5</td>\n",
       "      <td>15</td>\n",
       "      <td>NaN</td>\n",
       "      <td>E10</td>\n",
       "      <td>0</td>\n",
       "      <td>0</td>\n",
       "      <td>0</td>\n",
       "      <td>NaN</td>\n",
       "      <td>NaN</td>\n",
       "    </tr>\n",
       "    <tr>\n",
       "      <th>3</th>\n",
       "      <td>12,9</td>\n",
       "      <td>3,9</td>\n",
       "      <td>36</td>\n",
       "      <td>21,5</td>\n",
       "      <td>14</td>\n",
       "      <td>NaN</td>\n",
       "      <td>E10</td>\n",
       "      <td>0</td>\n",
       "      <td>0</td>\n",
       "      <td>0</td>\n",
       "      <td>NaN</td>\n",
       "      <td>NaN</td>\n",
       "    </tr>\n",
       "    <tr>\n",
       "      <th>4</th>\n",
       "      <td>18,5</td>\n",
       "      <td>4,5</td>\n",
       "      <td>46</td>\n",
       "      <td>21,5</td>\n",
       "      <td>15</td>\n",
       "      <td>NaN</td>\n",
       "      <td>E10</td>\n",
       "      <td>0</td>\n",
       "      <td>0</td>\n",
       "      <td>0</td>\n",
       "      <td>NaN</td>\n",
       "      <td>NaN</td>\n",
       "    </tr>\n",
       "  </tbody>\n",
       "</table>\n",
       "</div>"
      ],
      "text/plain": [
       "  distance consume  speed temp_inside  temp_outside specials gas_type  AC  \\\n",
       "0       28       5     26        21,5            12      NaN      E10   0   \n",
       "1       12     4,2     30        21,5            13      NaN      E10   0   \n",
       "2     11,2     5,5     38        21,5            15      NaN      E10   0   \n",
       "3     12,9     3,9     36        21,5            14      NaN      E10   0   \n",
       "4     18,5     4,5     46        21,5            15      NaN      E10   0   \n",
       "\n",
       "   rain  sun refill liters refill gas  \n",
       "0     0    0            45        E10  \n",
       "1     0    0           NaN        NaN  \n",
       "2     0    0           NaN        NaN  \n",
       "3     0    0           NaN        NaN  \n",
       "4     0    0           NaN        NaN  "
      ]
     },
     "metadata": {},
     "output_type": "display_data"
    },
    {
     "data": {
      "text/html": [
       "<div>\n",
       "<style scoped>\n",
       "    .dataframe tbody tr th:only-of-type {\n",
       "        vertical-align: middle;\n",
       "    }\n",
       "\n",
       "    .dataframe tbody tr th {\n",
       "        vertical-align: top;\n",
       "    }\n",
       "\n",
       "    .dataframe thead th {\n",
       "        text-align: right;\n",
       "    }\n",
       "</style>\n",
       "<table border=\"1\" class=\"dataframe\">\n",
       "  <thead>\n",
       "    <tr style=\"text-align: right;\">\n",
       "      <th></th>\n",
       "      <th>speed</th>\n",
       "      <th>temp_outside</th>\n",
       "      <th>AC</th>\n",
       "      <th>rain</th>\n",
       "      <th>sun</th>\n",
       "    </tr>\n",
       "  </thead>\n",
       "  <tbody>\n",
       "    <tr>\n",
       "      <th>count</th>\n",
       "      <td>388.000000</td>\n",
       "      <td>388.000000</td>\n",
       "      <td>388.000000</td>\n",
       "      <td>388.000000</td>\n",
       "      <td>388.000000</td>\n",
       "    </tr>\n",
       "    <tr>\n",
       "      <th>mean</th>\n",
       "      <td>41.927835</td>\n",
       "      <td>11.358247</td>\n",
       "      <td>0.077320</td>\n",
       "      <td>0.123711</td>\n",
       "      <td>0.082474</td>\n",
       "    </tr>\n",
       "    <tr>\n",
       "      <th>std</th>\n",
       "      <td>13.598524</td>\n",
       "      <td>6.991542</td>\n",
       "      <td>0.267443</td>\n",
       "      <td>0.329677</td>\n",
       "      <td>0.275441</td>\n",
       "    </tr>\n",
       "    <tr>\n",
       "      <th>min</th>\n",
       "      <td>14.000000</td>\n",
       "      <td>-5.000000</td>\n",
       "      <td>0.000000</td>\n",
       "      <td>0.000000</td>\n",
       "      <td>0.000000</td>\n",
       "    </tr>\n",
       "    <tr>\n",
       "      <th>25%</th>\n",
       "      <td>32.750000</td>\n",
       "      <td>7.000000</td>\n",
       "      <td>0.000000</td>\n",
       "      <td>0.000000</td>\n",
       "      <td>0.000000</td>\n",
       "    </tr>\n",
       "    <tr>\n",
       "      <th>50%</th>\n",
       "      <td>40.500000</td>\n",
       "      <td>10.000000</td>\n",
       "      <td>0.000000</td>\n",
       "      <td>0.000000</td>\n",
       "      <td>0.000000</td>\n",
       "    </tr>\n",
       "    <tr>\n",
       "      <th>75%</th>\n",
       "      <td>50.000000</td>\n",
       "      <td>16.000000</td>\n",
       "      <td>0.000000</td>\n",
       "      <td>0.000000</td>\n",
       "      <td>0.000000</td>\n",
       "    </tr>\n",
       "    <tr>\n",
       "      <th>max</th>\n",
       "      <td>90.000000</td>\n",
       "      <td>31.000000</td>\n",
       "      <td>1.000000</td>\n",
       "      <td>1.000000</td>\n",
       "      <td>1.000000</td>\n",
       "    </tr>\n",
       "  </tbody>\n",
       "</table>\n",
       "</div>"
      ],
      "text/plain": [
       "            speed  temp_outside          AC        rain         sun\n",
       "count  388.000000    388.000000  388.000000  388.000000  388.000000\n",
       "mean    41.927835     11.358247    0.077320    0.123711    0.082474\n",
       "std     13.598524      6.991542    0.267443    0.329677    0.275441\n",
       "min     14.000000     -5.000000    0.000000    0.000000    0.000000\n",
       "25%     32.750000      7.000000    0.000000    0.000000    0.000000\n",
       "50%     40.500000     10.000000    0.000000    0.000000    0.000000\n",
       "75%     50.000000     16.000000    0.000000    0.000000    0.000000\n",
       "max     90.000000     31.000000    1.000000    1.000000    1.000000"
      ]
     },
     "execution_count": 2,
     "metadata": {},
     "output_type": "execute_result"
    }
   ],
   "source": [
    "# データ読み込み\n",
    "df_data_csv = pd.read_csv(\"./car-consume/measurements.csv\") \n",
    "\n",
    "display(df_data_csv.head())\n",
    "df_data_csv.describe()"
   ]
  },
  {
   "cell_type": "code",
   "execution_count": 3,
   "metadata": {},
   "outputs": [],
   "source": [
    "# distance : 距離km\n",
    "# consume : 100kmあたりの消費リッター\n",
    "# speed : 平均スピード\n",
    "# temp_inside : エアコンの設定またはoffになっている場合は「Nan」\n",
    "# temp_outside : 外気温\n",
    "# specials : 雨、雪など気候変動がある場合は「AC」\n",
    "# gas_type : \n",
    "# AC : one hot encoded, the special \"AC\". 1 for on, 0 for off\n",
    "# rain : rain and snow is 1, good whather is 0"
   ]
  },
  {
   "cell_type": "code",
   "execution_count": 4,
   "metadata": {},
   "outputs": [
    {
     "name": "stdout",
     "output_type": "stream",
     "text": [
      "<class 'pandas.core.frame.DataFrame'>\n",
      "RangeIndex: 388 entries, 0 to 387\n",
      "Data columns (total 12 columns):\n",
      "distance         388 non-null object\n",
      "consume          388 non-null object\n",
      "speed            388 non-null int64\n",
      "temp_inside      376 non-null object\n",
      "temp_outside     388 non-null int64\n",
      "specials         93 non-null object\n",
      "gas_type         388 non-null object\n",
      "AC               388 non-null int64\n",
      "rain             388 non-null int64\n",
      "sun              388 non-null int64\n",
      "refill liters    13 non-null object\n",
      "refill gas       13 non-null object\n",
      "dtypes: int64(5), object(7)\n",
      "memory usage: 36.5+ KB\n"
     ]
    }
   ],
   "source": [
    "# データ型確認\n",
    "df_data_csv.info()"
   ]
  },
  {
   "cell_type": "code",
   "execution_count": 5,
   "metadata": {},
   "outputs": [
    {
     "data": {
      "text/plain": [
       "(388, 12)"
      ]
     },
     "execution_count": 5,
     "metadata": {},
     "output_type": "execute_result"
    }
   ],
   "source": [
    "# 行列数確認\n",
    "df_data_csv.shape"
   ]
  },
  {
   "cell_type": "markdown",
   "metadata": {},
   "source": [
    "### データの整理（前処理）\n",
    "\n",
    "- 小数点の文字を','を '.'に変換\n",
    "- 欠損値Nanチェック\n",
    "- カテゴリ変数をダミー変数に変換　gas_type\n",
    "- 外れ値チェック"
   ]
  },
  {
   "cell_type": "code",
   "execution_count": 6,
   "metadata": {},
   "outputs": [
    {
     "data": {
      "text/html": [
       "<div>\n",
       "<style scoped>\n",
       "    .dataframe tbody tr th:only-of-type {\n",
       "        vertical-align: middle;\n",
       "    }\n",
       "\n",
       "    .dataframe tbody tr th {\n",
       "        vertical-align: top;\n",
       "    }\n",
       "\n",
       "    .dataframe thead th {\n",
       "        text-align: right;\n",
       "    }\n",
       "</style>\n",
       "<table border=\"1\" class=\"dataframe\">\n",
       "  <thead>\n",
       "    <tr style=\"text-align: right;\">\n",
       "      <th></th>\n",
       "      <th>distance</th>\n",
       "      <th>consume</th>\n",
       "      <th>speed</th>\n",
       "      <th>temp_inside</th>\n",
       "      <th>temp_outside</th>\n",
       "      <th>specials</th>\n",
       "      <th>gas_type</th>\n",
       "      <th>AC</th>\n",
       "      <th>rain</th>\n",
       "      <th>sun</th>\n",
       "      <th>refill liters</th>\n",
       "      <th>refill gas</th>\n",
       "    </tr>\n",
       "  </thead>\n",
       "  <tbody>\n",
       "    <tr>\n",
       "      <th>0</th>\n",
       "      <td>28.0</td>\n",
       "      <td>5.0</td>\n",
       "      <td>26</td>\n",
       "      <td>21.5</td>\n",
       "      <td>12</td>\n",
       "      <td>NaN</td>\n",
       "      <td>E10</td>\n",
       "      <td>0</td>\n",
       "      <td>0</td>\n",
       "      <td>0</td>\n",
       "      <td>45</td>\n",
       "      <td>E10</td>\n",
       "    </tr>\n",
       "    <tr>\n",
       "      <th>1</th>\n",
       "      <td>12.0</td>\n",
       "      <td>4.2</td>\n",
       "      <td>30</td>\n",
       "      <td>21.5</td>\n",
       "      <td>13</td>\n",
       "      <td>NaN</td>\n",
       "      <td>E10</td>\n",
       "      <td>0</td>\n",
       "      <td>0</td>\n",
       "      <td>0</td>\n",
       "      <td>NaN</td>\n",
       "      <td>NaN</td>\n",
       "    </tr>\n",
       "    <tr>\n",
       "      <th>2</th>\n",
       "      <td>11.2</td>\n",
       "      <td>5.5</td>\n",
       "      <td>38</td>\n",
       "      <td>21.5</td>\n",
       "      <td>15</td>\n",
       "      <td>NaN</td>\n",
       "      <td>E10</td>\n",
       "      <td>0</td>\n",
       "      <td>0</td>\n",
       "      <td>0</td>\n",
       "      <td>NaN</td>\n",
       "      <td>NaN</td>\n",
       "    </tr>\n",
       "    <tr>\n",
       "      <th>3</th>\n",
       "      <td>12.9</td>\n",
       "      <td>3.9</td>\n",
       "      <td>36</td>\n",
       "      <td>21.5</td>\n",
       "      <td>14</td>\n",
       "      <td>NaN</td>\n",
       "      <td>E10</td>\n",
       "      <td>0</td>\n",
       "      <td>0</td>\n",
       "      <td>0</td>\n",
       "      <td>NaN</td>\n",
       "      <td>NaN</td>\n",
       "    </tr>\n",
       "    <tr>\n",
       "      <th>4</th>\n",
       "      <td>18.5</td>\n",
       "      <td>4.5</td>\n",
       "      <td>46</td>\n",
       "      <td>21.5</td>\n",
       "      <td>15</td>\n",
       "      <td>NaN</td>\n",
       "      <td>E10</td>\n",
       "      <td>0</td>\n",
       "      <td>0</td>\n",
       "      <td>0</td>\n",
       "      <td>NaN</td>\n",
       "      <td>NaN</td>\n",
       "    </tr>\n",
       "  </tbody>\n",
       "</table>\n",
       "</div>"
      ],
      "text/plain": [
       "   distance  consume  speed  temp_inside  temp_outside specials gas_type  AC  \\\n",
       "0      28.0      5.0     26         21.5            12      NaN      E10   0   \n",
       "1      12.0      4.2     30         21.5            13      NaN      E10   0   \n",
       "2      11.2      5.5     38         21.5            15      NaN      E10   0   \n",
       "3      12.9      3.9     36         21.5            14      NaN      E10   0   \n",
       "4      18.5      4.5     46         21.5            15      NaN      E10   0   \n",
       "\n",
       "   rain  sun refill liters refill gas  \n",
       "0     0    0            45        E10  \n",
       "1     0    0           NaN        NaN  \n",
       "2     0    0           NaN        NaN  \n",
       "3     0    0           NaN        NaN  \n",
       "4     0    0           NaN        NaN  "
      ]
     },
     "execution_count": 6,
     "metadata": {},
     "output_type": "execute_result"
    }
   ],
   "source": [
    "# 小数点についてドイツ形式の\",\"から\".\"に変換\n",
    "# distance, consume, temp_inside\n",
    "df_data_csv['distance'] = df_data_csv['distance'].apply(lambda x: x.replace(\",\", \".\")).astype(np.float)\n",
    "df_data_csv['consume'] = df_data_csv['consume'].apply(lambda x: x.replace(\",\", \".\")).astype(np.float)\n",
    "df_data_csv['temp_inside'] = df_data_csv['temp_inside'].apply(lambda x: str(x).replace(\",\", \".\")).astype(np.float)\n",
    "df_data = df_data_csv\n",
    "df_data.head()"
   ]
  },
  {
   "cell_type": "code",
   "execution_count": 7,
   "metadata": {
    "scrolled": true
   },
   "outputs": [
    {
     "name": "stdout",
     "output_type": "stream",
     "text": [
      "distance           0\n",
      "consume            0\n",
      "speed              0\n",
      "temp_inside       12\n",
      "temp_outside       0\n",
      "specials         295\n",
      "gas_type           0\n",
      "AC                 0\n",
      "rain               0\n",
      "sun                0\n",
      "refill liters    375\n",
      "refill gas       375\n",
      "dtype: int64\n"
     ]
    }
   ],
   "source": [
    "# 欠損値確認\n",
    "print(df_data.isnull().sum())"
   ]
  },
  {
   "cell_type": "markdown",
   "metadata": {},
   "source": [
    "temp_insideの欠損値を処理するにあたり、off時をどうするか\n",
    "- 外気温とエアコンの温度差を出してみる →　説明変数の追加"
   ]
  },
  {
   "cell_type": "code",
   "execution_count": 8,
   "metadata": {},
   "outputs": [],
   "source": [
    "df_data['temp_diff'] = abs(df_data['temp_inside'].astype(np.float32) - df_data['temp_outside'])"
   ]
  },
  {
   "cell_type": "code",
   "execution_count": 9,
   "metadata": {},
   "outputs": [],
   "source": [
    "df_data[\"temp_diff\"] = df_data[\"temp_diff\"].fillna(0)"
   ]
  },
  {
   "cell_type": "code",
   "execution_count": 10,
   "metadata": {},
   "outputs": [
    {
     "name": "stdout",
     "output_type": "stream",
     "text": [
      "distance           0\n",
      "consume            0\n",
      "speed              0\n",
      "temp_inside       12\n",
      "temp_outside       0\n",
      "specials         295\n",
      "gas_type           0\n",
      "AC                 0\n",
      "rain               0\n",
      "sun                0\n",
      "refill liters    375\n",
      "refill gas       375\n",
      "temp_diff          0\n",
      "dtype: int64\n"
     ]
    }
   ],
   "source": [
    "print(df_data.isnull().sum())"
   ]
  },
  {
   "cell_type": "code",
   "execution_count": 11,
   "metadata": {},
   "outputs": [
    {
     "data": {
      "text/html": [
       "<div>\n",
       "<style scoped>\n",
       "    .dataframe tbody tr th:only-of-type {\n",
       "        vertical-align: middle;\n",
       "    }\n",
       "\n",
       "    .dataframe tbody tr th {\n",
       "        vertical-align: top;\n",
       "    }\n",
       "\n",
       "    .dataframe thead th {\n",
       "        text-align: right;\n",
       "    }\n",
       "</style>\n",
       "<table border=\"1\" class=\"dataframe\">\n",
       "  <thead>\n",
       "    <tr style=\"text-align: right;\">\n",
       "      <th></th>\n",
       "      <th>distance</th>\n",
       "      <th>consume</th>\n",
       "      <th>speed</th>\n",
       "      <th>temp_inside</th>\n",
       "      <th>temp_outside</th>\n",
       "      <th>specials</th>\n",
       "      <th>gas_type</th>\n",
       "      <th>AC</th>\n",
       "      <th>rain</th>\n",
       "      <th>sun</th>\n",
       "      <th>refill liters</th>\n",
       "      <th>refill gas</th>\n",
       "      <th>temp_diff</th>\n",
       "    </tr>\n",
       "  </thead>\n",
       "  <tbody>\n",
       "    <tr>\n",
       "      <th>93</th>\n",
       "      <td>12.4</td>\n",
       "      <td>4.7</td>\n",
       "      <td>43</td>\n",
       "      <td>NaN</td>\n",
       "      <td>10</td>\n",
       "      <td>NaN</td>\n",
       "      <td>SP98</td>\n",
       "      <td>0</td>\n",
       "      <td>0</td>\n",
       "      <td>0</td>\n",
       "      <td>NaN</td>\n",
       "      <td>NaN</td>\n",
       "      <td>0.0</td>\n",
       "    </tr>\n",
       "    <tr>\n",
       "      <th>95</th>\n",
       "      <td>11.8</td>\n",
       "      <td>5.3</td>\n",
       "      <td>52</td>\n",
       "      <td>NaN</td>\n",
       "      <td>11</td>\n",
       "      <td>NaN</td>\n",
       "      <td>SP98</td>\n",
       "      <td>0</td>\n",
       "      <td>0</td>\n",
       "      <td>0</td>\n",
       "      <td>NaN</td>\n",
       "      <td>NaN</td>\n",
       "      <td>0.0</td>\n",
       "    </tr>\n",
       "    <tr>\n",
       "      <th>97</th>\n",
       "      <td>15.7</td>\n",
       "      <td>5.3</td>\n",
       "      <td>33</td>\n",
       "      <td>NaN</td>\n",
       "      <td>9</td>\n",
       "      <td>NaN</td>\n",
       "      <td>SP98</td>\n",
       "      <td>0</td>\n",
       "      <td>0</td>\n",
       "      <td>0</td>\n",
       "      <td>NaN</td>\n",
       "      <td>NaN</td>\n",
       "      <td>0.0</td>\n",
       "    </tr>\n",
       "    <tr>\n",
       "      <th>98</th>\n",
       "      <td>12.9</td>\n",
       "      <td>5.7</td>\n",
       "      <td>35</td>\n",
       "      <td>NaN</td>\n",
       "      <td>9</td>\n",
       "      <td>NaN</td>\n",
       "      <td>SP98</td>\n",
       "      <td>0</td>\n",
       "      <td>0</td>\n",
       "      <td>0</td>\n",
       "      <td>NaN</td>\n",
       "      <td>NaN</td>\n",
       "      <td>0.0</td>\n",
       "    </tr>\n",
       "    <tr>\n",
       "      <th>99</th>\n",
       "      <td>6.4</td>\n",
       "      <td>4.4</td>\n",
       "      <td>37</td>\n",
       "      <td>NaN</td>\n",
       "      <td>10</td>\n",
       "      <td>NaN</td>\n",
       "      <td>SP98</td>\n",
       "      <td>0</td>\n",
       "      <td>0</td>\n",
       "      <td>0</td>\n",
       "      <td>NaN</td>\n",
       "      <td>NaN</td>\n",
       "      <td>0.0</td>\n",
       "    </tr>\n",
       "    <tr>\n",
       "      <th>100</th>\n",
       "      <td>5.3</td>\n",
       "      <td>4.1</td>\n",
       "      <td>34</td>\n",
       "      <td>NaN</td>\n",
       "      <td>9</td>\n",
       "      <td>NaN</td>\n",
       "      <td>SP98</td>\n",
       "      <td>0</td>\n",
       "      <td>0</td>\n",
       "      <td>0</td>\n",
       "      <td>NaN</td>\n",
       "      <td>NaN</td>\n",
       "      <td>0.0</td>\n",
       "    </tr>\n",
       "    <tr>\n",
       "      <th>102</th>\n",
       "      <td>18.8</td>\n",
       "      <td>5.0</td>\n",
       "      <td>62</td>\n",
       "      <td>NaN</td>\n",
       "      <td>9</td>\n",
       "      <td>rain</td>\n",
       "      <td>SP98</td>\n",
       "      <td>0</td>\n",
       "      <td>1</td>\n",
       "      <td>0</td>\n",
       "      <td>NaN</td>\n",
       "      <td>NaN</td>\n",
       "      <td>0.0</td>\n",
       "    </tr>\n",
       "    <tr>\n",
       "      <th>201</th>\n",
       "      <td>22.2</td>\n",
       "      <td>3.8</td>\n",
       "      <td>42</td>\n",
       "      <td>NaN</td>\n",
       "      <td>15</td>\n",
       "      <td>NaN</td>\n",
       "      <td>SP98</td>\n",
       "      <td>0</td>\n",
       "      <td>0</td>\n",
       "      <td>0</td>\n",
       "      <td>NaN</td>\n",
       "      <td>NaN</td>\n",
       "      <td>0.0</td>\n",
       "    </tr>\n",
       "    <tr>\n",
       "      <th>203</th>\n",
       "      <td>12.6</td>\n",
       "      <td>4.1</td>\n",
       "      <td>33</td>\n",
       "      <td>NaN</td>\n",
       "      <td>17</td>\n",
       "      <td>NaN</td>\n",
       "      <td>SP98</td>\n",
       "      <td>0</td>\n",
       "      <td>0</td>\n",
       "      <td>0</td>\n",
       "      <td>NaN</td>\n",
       "      <td>NaN</td>\n",
       "      <td>0.0</td>\n",
       "    </tr>\n",
       "    <tr>\n",
       "      <th>261</th>\n",
       "      <td>24.5</td>\n",
       "      <td>3.9</td>\n",
       "      <td>50</td>\n",
       "      <td>NaN</td>\n",
       "      <td>15</td>\n",
       "      <td>sun</td>\n",
       "      <td>E10</td>\n",
       "      <td>0</td>\n",
       "      <td>0</td>\n",
       "      <td>1</td>\n",
       "      <td>NaN</td>\n",
       "      <td>NaN</td>\n",
       "      <td>0.0</td>\n",
       "    </tr>\n",
       "    <tr>\n",
       "      <th>267</th>\n",
       "      <td>22.9</td>\n",
       "      <td>4.0</td>\n",
       "      <td>29</td>\n",
       "      <td>NaN</td>\n",
       "      <td>21</td>\n",
       "      <td>NaN</td>\n",
       "      <td>E10</td>\n",
       "      <td>0</td>\n",
       "      <td>0</td>\n",
       "      <td>0</td>\n",
       "      <td>NaN</td>\n",
       "      <td>NaN</td>\n",
       "      <td>0.0</td>\n",
       "    </tr>\n",
       "    <tr>\n",
       "      <th>268</th>\n",
       "      <td>16.0</td>\n",
       "      <td>3.8</td>\n",
       "      <td>42</td>\n",
       "      <td>NaN</td>\n",
       "      <td>8</td>\n",
       "      <td>NaN</td>\n",
       "      <td>E10</td>\n",
       "      <td>0</td>\n",
       "      <td>0</td>\n",
       "      <td>0</td>\n",
       "      <td>NaN</td>\n",
       "      <td>NaN</td>\n",
       "      <td>0.0</td>\n",
       "    </tr>\n",
       "  </tbody>\n",
       "</table>\n",
       "</div>"
      ],
      "text/plain": [
       "     distance  consume  speed  temp_inside  temp_outside specials gas_type  \\\n",
       "93       12.4      4.7     43          NaN            10      NaN     SP98   \n",
       "95       11.8      5.3     52          NaN            11      NaN     SP98   \n",
       "97       15.7      5.3     33          NaN             9      NaN     SP98   \n",
       "98       12.9      5.7     35          NaN             9      NaN     SP98   \n",
       "99        6.4      4.4     37          NaN            10      NaN     SP98   \n",
       "100       5.3      4.1     34          NaN             9      NaN     SP98   \n",
       "102      18.8      5.0     62          NaN             9     rain     SP98   \n",
       "201      22.2      3.8     42          NaN            15      NaN     SP98   \n",
       "203      12.6      4.1     33          NaN            17      NaN     SP98   \n",
       "261      24.5      3.9     50          NaN            15      sun      E10   \n",
       "267      22.9      4.0     29          NaN            21      NaN      E10   \n",
       "268      16.0      3.8     42          NaN             8      NaN      E10   \n",
       "\n",
       "     AC  rain  sun refill liters refill gas  temp_diff  \n",
       "93    0     0    0           NaN        NaN        0.0  \n",
       "95    0     0    0           NaN        NaN        0.0  \n",
       "97    0     0    0           NaN        NaN        0.0  \n",
       "98    0     0    0           NaN        NaN        0.0  \n",
       "99    0     0    0           NaN        NaN        0.0  \n",
       "100   0     0    0           NaN        NaN        0.0  \n",
       "102   0     1    0           NaN        NaN        0.0  \n",
       "201   0     0    0           NaN        NaN        0.0  \n",
       "203   0     0    0           NaN        NaN        0.0  \n",
       "261   0     0    1           NaN        NaN        0.0  \n",
       "267   0     0    0           NaN        NaN        0.0  \n",
       "268   0     0    0           NaN        NaN        0.0  "
      ]
     },
     "execution_count": 11,
     "metadata": {},
     "output_type": "execute_result"
    }
   ],
   "source": [
    "# temp_inside がNan値の行について追加した説明変数temp_diffの所が0埋めできていることを確認\n",
    "df_data[pd.isnull(df_data['temp_inside'])]"
   ]
  },
  {
   "cell_type": "markdown",
   "metadata": {},
   "source": [
    "gas_type を0,1に変換する"
   ]
  },
  {
   "cell_type": "code",
   "execution_count": 12,
   "metadata": {},
   "outputs": [
    {
     "name": "stdout",
     "output_type": "stream",
     "text": [
      "SP98    228\n",
      "E10     160\n",
      "Name: gas_type, dtype: int64\n"
     ]
    }
   ],
   "source": [
    "# gas_typeを1:SP98, 0:E10 に変換\n",
    "print(df_data['gas_type'].value_counts())\n",
    "\n",
    "df_data['gas_type'] = np.where(df_data['gas_type'] == \"SP98\", 1, 0)\n"
   ]
  },
  {
   "cell_type": "code",
   "execution_count": 13,
   "metadata": {},
   "outputs": [
    {
     "data": {
      "text/html": [
       "<div>\n",
       "<style scoped>\n",
       "    .dataframe tbody tr th:only-of-type {\n",
       "        vertical-align: middle;\n",
       "    }\n",
       "\n",
       "    .dataframe tbody tr th {\n",
       "        vertical-align: top;\n",
       "    }\n",
       "\n",
       "    .dataframe thead th {\n",
       "        text-align: right;\n",
       "    }\n",
       "</style>\n",
       "<table border=\"1\" class=\"dataframe\">\n",
       "  <thead>\n",
       "    <tr style=\"text-align: right;\">\n",
       "      <th></th>\n",
       "      <th>distance</th>\n",
       "      <th>consume</th>\n",
       "      <th>speed</th>\n",
       "      <th>temp_inside</th>\n",
       "      <th>temp_outside</th>\n",
       "      <th>specials</th>\n",
       "      <th>gas_type</th>\n",
       "      <th>AC</th>\n",
       "      <th>rain</th>\n",
       "      <th>sun</th>\n",
       "      <th>refill liters</th>\n",
       "      <th>refill gas</th>\n",
       "      <th>temp_diff</th>\n",
       "    </tr>\n",
       "  </thead>\n",
       "  <tbody>\n",
       "    <tr>\n",
       "      <th>0</th>\n",
       "      <td>28.0</td>\n",
       "      <td>5.0</td>\n",
       "      <td>26</td>\n",
       "      <td>21.5</td>\n",
       "      <td>12</td>\n",
       "      <td>NaN</td>\n",
       "      <td>0</td>\n",
       "      <td>0</td>\n",
       "      <td>0</td>\n",
       "      <td>0</td>\n",
       "      <td>45</td>\n",
       "      <td>E10</td>\n",
       "      <td>9.5</td>\n",
       "    </tr>\n",
       "    <tr>\n",
       "      <th>1</th>\n",
       "      <td>12.0</td>\n",
       "      <td>4.2</td>\n",
       "      <td>30</td>\n",
       "      <td>21.5</td>\n",
       "      <td>13</td>\n",
       "      <td>NaN</td>\n",
       "      <td>0</td>\n",
       "      <td>0</td>\n",
       "      <td>0</td>\n",
       "      <td>0</td>\n",
       "      <td>NaN</td>\n",
       "      <td>NaN</td>\n",
       "      <td>8.5</td>\n",
       "    </tr>\n",
       "    <tr>\n",
       "      <th>2</th>\n",
       "      <td>11.2</td>\n",
       "      <td>5.5</td>\n",
       "      <td>38</td>\n",
       "      <td>21.5</td>\n",
       "      <td>15</td>\n",
       "      <td>NaN</td>\n",
       "      <td>0</td>\n",
       "      <td>0</td>\n",
       "      <td>0</td>\n",
       "      <td>0</td>\n",
       "      <td>NaN</td>\n",
       "      <td>NaN</td>\n",
       "      <td>6.5</td>\n",
       "    </tr>\n",
       "    <tr>\n",
       "      <th>3</th>\n",
       "      <td>12.9</td>\n",
       "      <td>3.9</td>\n",
       "      <td>36</td>\n",
       "      <td>21.5</td>\n",
       "      <td>14</td>\n",
       "      <td>NaN</td>\n",
       "      <td>0</td>\n",
       "      <td>0</td>\n",
       "      <td>0</td>\n",
       "      <td>0</td>\n",
       "      <td>NaN</td>\n",
       "      <td>NaN</td>\n",
       "      <td>7.5</td>\n",
       "    </tr>\n",
       "    <tr>\n",
       "      <th>4</th>\n",
       "      <td>18.5</td>\n",
       "      <td>4.5</td>\n",
       "      <td>46</td>\n",
       "      <td>21.5</td>\n",
       "      <td>15</td>\n",
       "      <td>NaN</td>\n",
       "      <td>0</td>\n",
       "      <td>0</td>\n",
       "      <td>0</td>\n",
       "      <td>0</td>\n",
       "      <td>NaN</td>\n",
       "      <td>NaN</td>\n",
       "      <td>6.5</td>\n",
       "    </tr>\n",
       "  </tbody>\n",
       "</table>\n",
       "</div>"
      ],
      "text/plain": [
       "   distance  consume  speed  temp_inside  temp_outside specials  gas_type  AC  \\\n",
       "0      28.0      5.0     26         21.5            12      NaN         0   0   \n",
       "1      12.0      4.2     30         21.5            13      NaN         0   0   \n",
       "2      11.2      5.5     38         21.5            15      NaN         0   0   \n",
       "3      12.9      3.9     36         21.5            14      NaN         0   0   \n",
       "4      18.5      4.5     46         21.5            15      NaN         0   0   \n",
       "\n",
       "   rain  sun refill liters refill gas  temp_diff  \n",
       "0     0    0            45        E10        9.5  \n",
       "1     0    0           NaN        NaN        8.5  \n",
       "2     0    0           NaN        NaN        6.5  \n",
       "3     0    0           NaN        NaN        7.5  \n",
       "4     0    0           NaN        NaN        6.5  "
      ]
     },
     "execution_count": 13,
     "metadata": {},
     "output_type": "execute_result"
    }
   ],
   "source": [
    "df_data.head()"
   ]
  },
  {
   "cell_type": "code",
   "execution_count": 14,
   "metadata": {},
   "outputs": [
    {
     "data": {
      "text/html": [
       "<div>\n",
       "<style scoped>\n",
       "    .dataframe tbody tr th:only-of-type {\n",
       "        vertical-align: middle;\n",
       "    }\n",
       "\n",
       "    .dataframe tbody tr th {\n",
       "        vertical-align: top;\n",
       "    }\n",
       "\n",
       "    .dataframe thead th {\n",
       "        text-align: right;\n",
       "    }\n",
       "</style>\n",
       "<table border=\"1\" class=\"dataframe\">\n",
       "  <thead>\n",
       "    <tr style=\"text-align: right;\">\n",
       "      <th></th>\n",
       "      <th>distance</th>\n",
       "      <th>consume</th>\n",
       "      <th>speed</th>\n",
       "      <th>temp_inside</th>\n",
       "      <th>temp_outside</th>\n",
       "      <th>gas_type</th>\n",
       "      <th>AC</th>\n",
       "      <th>rain</th>\n",
       "      <th>sun</th>\n",
       "      <th>temp_diff</th>\n",
       "    </tr>\n",
       "  </thead>\n",
       "  <tbody>\n",
       "    <tr>\n",
       "      <th>count</th>\n",
       "      <td>388.000000</td>\n",
       "      <td>388.000000</td>\n",
       "      <td>388.000000</td>\n",
       "      <td>376.000000</td>\n",
       "      <td>388.000000</td>\n",
       "      <td>388.000000</td>\n",
       "      <td>388.000000</td>\n",
       "      <td>388.000000</td>\n",
       "      <td>388.000000</td>\n",
       "      <td>388.000000</td>\n",
       "    </tr>\n",
       "    <tr>\n",
       "      <th>mean</th>\n",
       "      <td>19.652835</td>\n",
       "      <td>4.912371</td>\n",
       "      <td>41.927835</td>\n",
       "      <td>21.929521</td>\n",
       "      <td>11.358247</td>\n",
       "      <td>0.587629</td>\n",
       "      <td>0.077320</td>\n",
       "      <td>0.123711</td>\n",
       "      <td>0.082474</td>\n",
       "      <td>10.800258</td>\n",
       "    </tr>\n",
       "    <tr>\n",
       "      <th>std</th>\n",
       "      <td>22.667837</td>\n",
       "      <td>1.033172</td>\n",
       "      <td>13.598524</td>\n",
       "      <td>1.010455</td>\n",
       "      <td>6.991542</td>\n",
       "      <td>0.492897</td>\n",
       "      <td>0.267443</td>\n",
       "      <td>0.329677</td>\n",
       "      <td>0.275441</td>\n",
       "      <td>6.031414</td>\n",
       "    </tr>\n",
       "    <tr>\n",
       "      <th>min</th>\n",
       "      <td>1.300000</td>\n",
       "      <td>3.300000</td>\n",
       "      <td>14.000000</td>\n",
       "      <td>19.000000</td>\n",
       "      <td>-5.000000</td>\n",
       "      <td>0.000000</td>\n",
       "      <td>0.000000</td>\n",
       "      <td>0.000000</td>\n",
       "      <td>0.000000</td>\n",
       "      <td>0.000000</td>\n",
       "    </tr>\n",
       "    <tr>\n",
       "      <th>25%</th>\n",
       "      <td>11.800000</td>\n",
       "      <td>4.300000</td>\n",
       "      <td>32.750000</td>\n",
       "      <td>21.500000</td>\n",
       "      <td>7.000000</td>\n",
       "      <td>0.000000</td>\n",
       "      <td>0.000000</td>\n",
       "      <td>0.000000</td>\n",
       "      <td>0.000000</td>\n",
       "      <td>6.000000</td>\n",
       "    </tr>\n",
       "    <tr>\n",
       "      <th>50%</th>\n",
       "      <td>14.600000</td>\n",
       "      <td>4.700000</td>\n",
       "      <td>40.500000</td>\n",
       "      <td>22.000000</td>\n",
       "      <td>10.000000</td>\n",
       "      <td>1.000000</td>\n",
       "      <td>0.000000</td>\n",
       "      <td>0.000000</td>\n",
       "      <td>0.000000</td>\n",
       "      <td>11.500000</td>\n",
       "    </tr>\n",
       "    <tr>\n",
       "      <th>75%</th>\n",
       "      <td>19.000000</td>\n",
       "      <td>5.300000</td>\n",
       "      <td>50.000000</td>\n",
       "      <td>22.500000</td>\n",
       "      <td>16.000000</td>\n",
       "      <td>1.000000</td>\n",
       "      <td>0.000000</td>\n",
       "      <td>0.000000</td>\n",
       "      <td>0.000000</td>\n",
       "      <td>14.625000</td>\n",
       "    </tr>\n",
       "    <tr>\n",
       "      <th>max</th>\n",
       "      <td>216.100000</td>\n",
       "      <td>12.200000</td>\n",
       "      <td>90.000000</td>\n",
       "      <td>25.500000</td>\n",
       "      <td>31.000000</td>\n",
       "      <td>1.000000</td>\n",
       "      <td>1.000000</td>\n",
       "      <td>1.000000</td>\n",
       "      <td>1.000000</td>\n",
       "      <td>26.000000</td>\n",
       "    </tr>\n",
       "  </tbody>\n",
       "</table>\n",
       "</div>"
      ],
      "text/plain": [
       "         distance     consume       speed  temp_inside  temp_outside  \\\n",
       "count  388.000000  388.000000  388.000000   376.000000    388.000000   \n",
       "mean    19.652835    4.912371   41.927835    21.929521     11.358247   \n",
       "std     22.667837    1.033172   13.598524     1.010455      6.991542   \n",
       "min      1.300000    3.300000   14.000000    19.000000     -5.000000   \n",
       "25%     11.800000    4.300000   32.750000    21.500000      7.000000   \n",
       "50%     14.600000    4.700000   40.500000    22.000000     10.000000   \n",
       "75%     19.000000    5.300000   50.000000    22.500000     16.000000   \n",
       "max    216.100000   12.200000   90.000000    25.500000     31.000000   \n",
       "\n",
       "         gas_type          AC        rain         sun   temp_diff  \n",
       "count  388.000000  388.000000  388.000000  388.000000  388.000000  \n",
       "mean     0.587629    0.077320    0.123711    0.082474   10.800258  \n",
       "std      0.492897    0.267443    0.329677    0.275441    6.031414  \n",
       "min      0.000000    0.000000    0.000000    0.000000    0.000000  \n",
       "25%      0.000000    0.000000    0.000000    0.000000    6.000000  \n",
       "50%      1.000000    0.000000    0.000000    0.000000   11.500000  \n",
       "75%      1.000000    0.000000    0.000000    0.000000   14.625000  \n",
       "max      1.000000    1.000000    1.000000    1.000000   26.000000  "
      ]
     },
     "execution_count": 14,
     "metadata": {},
     "output_type": "execute_result"
    }
   ],
   "source": [
    "df_data.describe()"
   ]
  },
  {
   "cell_type": "code",
   "execution_count": 15,
   "metadata": {},
   "outputs": [
    {
     "data": {
      "image/png": "[encoded data removed]",
      "text/plain": [
       "<matplotlib.figure.Figure at 0x114673dd8>"
      ]
     },
     "metadata": {},
     "output_type": "display_data"
    }
   ],
   "source": [
    "# 散布図行列\n",
    "pd.plotting.scatter_matrix(df_data, figsize=(10,10))\n",
    "plt.show()"
   ]
  },
  {
   "cell_type": "markdown",
   "metadata": {},
   "source": [
    "→　temp_diff と temp_outside に強い相関が見られる。\n",
    "speed と distance ／ temp と consume も相関が高い。"
   ]
  },
  {
   "cell_type": "code",
   "execution_count": 16,
   "metadata": {},
   "outputs": [
    {
     "data": {
      "text/html": [
       "<div>\n",
       "<style scoped>\n",
       "    .dataframe tbody tr th:only-of-type {\n",
       "        vertical-align: middle;\n",
       "    }\n",
       "\n",
       "    .dataframe tbody tr th {\n",
       "        vertical-align: top;\n",
       "    }\n",
       "\n",
       "    .dataframe thead th {\n",
       "        text-align: right;\n",
       "    }\n",
       "</style>\n",
       "<table border=\"1\" class=\"dataframe\">\n",
       "  <thead>\n",
       "    <tr style=\"text-align: right;\">\n",
       "      <th></th>\n",
       "      <th>distance</th>\n",
       "      <th>consume</th>\n",
       "      <th>speed</th>\n",
       "      <th>temp_inside</th>\n",
       "      <th>temp_outside</th>\n",
       "      <th>gas_type</th>\n",
       "      <th>AC</th>\n",
       "      <th>rain</th>\n",
       "      <th>sun</th>\n",
       "      <th>temp_diff</th>\n",
       "    </tr>\n",
       "  </thead>\n",
       "  <tbody>\n",
       "    <tr>\n",
       "      <th>distance</th>\n",
       "      <td>1.000000</td>\n",
       "      <td>-0.128967</td>\n",
       "      <td>0.562299</td>\n",
       "      <td>0.075305</td>\n",
       "      <td>0.088175</td>\n",
       "      <td>-0.053411</td>\n",
       "      <td>-0.025738</td>\n",
       "      <td>-0.019791</td>\n",
       "      <td>0.081120</td>\n",
       "      <td>-0.086600</td>\n",
       "    </tr>\n",
       "    <tr>\n",
       "      <th>consume</th>\n",
       "      <td>-0.128967</td>\n",
       "      <td>1.000000</td>\n",
       "      <td>-0.227866</td>\n",
       "      <td>-0.161991</td>\n",
       "      <td>-0.320811</td>\n",
       "      <td>-0.015327</td>\n",
       "      <td>0.096591</td>\n",
       "      <td>0.248118</td>\n",
       "      <td>-0.170667</td>\n",
       "      <td>0.315895</td>\n",
       "    </tr>\n",
       "    <tr>\n",
       "      <th>speed</th>\n",
       "      <td>0.562299</td>\n",
       "      <td>-0.227866</td>\n",
       "      <td>1.000000</td>\n",
       "      <td>0.059725</td>\n",
       "      <td>0.015411</td>\n",
       "      <td>-0.097360</td>\n",
       "      <td>-0.035408</td>\n",
       "      <td>0.009489</td>\n",
       "      <td>0.081618</td>\n",
       "      <td>-0.023726</td>\n",
       "    </tr>\n",
       "    <tr>\n",
       "      <th>temp_inside</th>\n",
       "      <td>0.075305</td>\n",
       "      <td>-0.161991</td>\n",
       "      <td>0.059725</td>\n",
       "      <td>1.000000</td>\n",
       "      <td>0.361308</td>\n",
       "      <td>0.010340</td>\n",
       "      <td>0.297775</td>\n",
       "      <td>-0.037356</td>\n",
       "      <td>0.246120</td>\n",
       "      <td>-0.150228</td>\n",
       "    </tr>\n",
       "    <tr>\n",
       "      <th>temp_outside</th>\n",
       "      <td>0.088175</td>\n",
       "      <td>-0.320811</td>\n",
       "      <td>0.015411</td>\n",
       "      <td>0.361308</td>\n",
       "      <td>1.000000</td>\n",
       "      <td>0.148705</td>\n",
       "      <td>0.167562</td>\n",
       "      <td>-0.186315</td>\n",
       "      <td>0.346903</td>\n",
       "      <td>-0.888989</td>\n",
       "    </tr>\n",
       "    <tr>\n",
       "      <th>gas_type</th>\n",
       "      <td>-0.053411</td>\n",
       "      <td>-0.015327</td>\n",
       "      <td>-0.097360</td>\n",
       "      <td>0.010340</td>\n",
       "      <td>0.148705</td>\n",
       "      <td>1.000000</td>\n",
       "      <td>0.105285</td>\n",
       "      <td>0.060328</td>\n",
       "      <td>0.022761</td>\n",
       "      <td>-0.151203</td>\n",
       "    </tr>\n",
       "    <tr>\n",
       "      <th>AC</th>\n",
       "      <td>-0.025738</td>\n",
       "      <td>0.096591</td>\n",
       "      <td>-0.035408</td>\n",
       "      <td>0.297775</td>\n",
       "      <td>0.167562</td>\n",
       "      <td>0.105285</td>\n",
       "      <td>1.000000</td>\n",
       "      <td>0.242915</td>\n",
       "      <td>0.088598</td>\n",
       "      <td>-0.053676</td>\n",
       "    </tr>\n",
       "    <tr>\n",
       "      <th>rain</th>\n",
       "      <td>-0.019791</td>\n",
       "      <td>0.248118</td>\n",
       "      <td>0.009489</td>\n",
       "      <td>-0.037356</td>\n",
       "      <td>-0.186315</td>\n",
       "      <td>0.060328</td>\n",
       "      <td>0.242915</td>\n",
       "      <td>1.000000</td>\n",
       "      <td>-0.112650</td>\n",
       "      <td>0.178797</td>\n",
       "    </tr>\n",
       "    <tr>\n",
       "      <th>sun</th>\n",
       "      <td>0.081120</td>\n",
       "      <td>-0.170667</td>\n",
       "      <td>0.081618</td>\n",
       "      <td>0.246120</td>\n",
       "      <td>0.346903</td>\n",
       "      <td>0.022761</td>\n",
       "      <td>0.088598</td>\n",
       "      <td>-0.112650</td>\n",
       "      <td>1.000000</td>\n",
       "      <td>-0.280140</td>\n",
       "    </tr>\n",
       "    <tr>\n",
       "      <th>temp_diff</th>\n",
       "      <td>-0.086600</td>\n",
       "      <td>0.315895</td>\n",
       "      <td>-0.023726</td>\n",
       "      <td>-0.150228</td>\n",
       "      <td>-0.888989</td>\n",
       "      <td>-0.151203</td>\n",
       "      <td>-0.053676</td>\n",
       "      <td>0.178797</td>\n",
       "      <td>-0.280140</td>\n",
       "      <td>1.000000</td>\n",
       "    </tr>\n",
       "  </tbody>\n",
       "</table>\n",
       "</div>"
      ],
      "text/plain": [
       "              distance   consume     speed  temp_inside  temp_outside  \\\n",
       "distance      1.000000 -0.128967  0.562299     0.075305      0.088175   \n",
       "consume      -0.128967  1.000000 -0.227866    -0.161991     -0.320811   \n",
       "speed         0.562299 -0.227866  1.000000     0.059725      0.015411   \n",
       "temp_inside   0.075305 -0.161991  0.059725     1.000000      0.361308   \n",
       "temp_outside  0.088175 -0.320811  0.015411     0.361308      1.000000   \n",
       "gas_type     -0.053411 -0.015327 -0.097360     0.010340      0.148705   \n",
       "AC           -0.025738  0.096591 -0.035408     0.297775      0.167562   \n",
       "rain         -0.019791  0.248118  0.009489    -0.037356     -0.186315   \n",
       "sun           0.081120 -0.170667  0.081618     0.246120      0.346903   \n",
       "temp_diff    -0.086600  0.315895 -0.023726    -0.150228     -0.888989   \n",
       "\n",
       "              gas_type        AC      rain       sun  temp_diff  \n",
       "distance     -0.053411 -0.025738 -0.019791  0.081120  -0.086600  \n",
       "consume      -0.015327  0.096591  0.248118 -0.170667   0.315895  \n",
       "speed        -0.097360 -0.035408  0.009489  0.081618  -0.023726  \n",
       "temp_inside   0.010340  0.297775 -0.037356  0.246120  -0.150228  \n",
       "temp_outside  0.148705  0.167562 -0.186315  0.346903  -0.888989  \n",
       "gas_type      1.000000  0.105285  0.060328  0.022761  -0.151203  \n",
       "AC            0.105285  1.000000  0.242915  0.088598  -0.053676  \n",
       "rain          0.060328  0.242915  1.000000 -0.112650   0.178797  \n",
       "sun           0.022761  0.088598 -0.112650  1.000000  -0.280140  \n",
       "temp_diff    -0.151203 -0.053676  0.178797 -0.280140   1.000000  "
      ]
     },
     "execution_count": 16,
     "metadata": {},
     "output_type": "execute_result"
    }
   ],
   "source": [
    "# 相関係数を確認\n",
    "df_data.corr()"
   ]
  },
  {
   "cell_type": "code",
   "execution_count": 17,
   "metadata": {},
   "outputs": [
    {
     "data": {
      "image/png": "[encoded data removed]",
      "text/plain": [
       "<matplotlib.figure.Figure at 0x11a3aae48>"
      ]
     },
     "metadata": {},
     "output_type": "display_data"
    }
   ],
   "source": [
    "# 相関係数をヒートマップにして可視化\n",
    "sns.heatmap(df_data.corr())\n",
    "plt.show()"
   ]
  },
  {
   "cell_type": "code",
   "execution_count": 18,
   "metadata": {
    "scrolled": true
   },
   "outputs": [
    {
     "data": {
      "text/plain": [
       "<matplotlib.axes._subplots.AxesSubplot at 0x1a22b0a4a8>"
      ]
     },
     "execution_count": 18,
     "metadata": {},
     "output_type": "execute_result"
    },
    {
     "data": {
      "image/png": "[encoded data removed]",
      "text/plain": [
       "<matplotlib.figure.Figure at 0x1a228be240>"
      ]
     },
     "metadata": {},
     "output_type": "display_data"
    }
   ],
   "source": [
    "fig, ax = plt.subplots(1,3,figsize=(10,6))\n",
    "sns.boxplot(x='gas_type', y='consume', data=df_data, ax=ax[0])\n",
    "sns.boxplot(x='AC', y='consume', data=df_data, ax=ax[1])\n",
    "sns.boxplot(x='rain', y='consume', data=df_data, ax=ax[2])"
   ]
  },
  {
   "cell_type": "markdown",
   "metadata": {},
   "source": [
    "→　雨の日の方が平均的に燃費が良いことがわかる"
   ]
  },
  {
   "cell_type": "markdown",
   "metadata": {},
   "source": [
    "## 線形回帰モデルを使って学習"
   ]
  },
  {
   "cell_type": "code",
   "execution_count": 19,
   "metadata": {},
   "outputs": [
    {
     "data": {
      "text/plain": [
       "LinearRegression(copy_X=True, fit_intercept=True, n_jobs=1, normalize=False)"
      ]
     },
     "execution_count": 19,
     "metadata": {},
     "output_type": "execute_result"
    }
   ],
   "source": [
    "# consumeとの関係が大きそうな３つを選択。speed, temp_diff, rain\n",
    "# 係数を求める\n",
    "y = df_data['consume'].values\n",
    "X = df_data[['speed', 'temp_diff', 'rain']].values\n",
    "# X = df_data[['speed', 'temp_diff', 'temp_outside', 'rain']].values\n",
    "# 線形回帰\n",
    "regr = LinearRegression(fit_intercept=True)\n",
    "regr.fit(X, y)"
   ]
  },
  {
   "cell_type": "code",
   "execution_count": 20,
   "metadata": {},
   "outputs": [],
   "source": [
    "# 重みを取り出す\n",
    "w0 = regr.intercept_\n",
    "w1 = regr.coef_[0]\n",
    "w2 = regr.coef_[1]\n",
    "w3 = regr.coef_[2]\n",
    "# 変数の設定\n",
    "x1 = X[:,0]\n",
    "x2 = X[:,1]\n",
    "x3 = X[:,2]"
   ]
  },
  {
   "cell_type": "code",
   "execution_count": 21,
   "metadata": {},
   "outputs": [
    {
     "name": "stdout",
     "output_type": "stream",
     "text": [
      "w0 = 5.037, w1 = -0.017, w2 = 0.047, w3 = 0.630\n"
     ]
    }
   ],
   "source": [
    "# 重み確認\n",
    "y_est = w0 + w1 * x1 + w2 * x2 + w3 * x3\n",
    "print('w0 = {:.3f}, w1 = {:.3f}, w2 = {:.3f}, w3 = {:.3f}'.format(w0, w1, w2, w3))"
   ]
  },
  {
   "cell_type": "code",
   "execution_count": 22,
   "metadata": {},
   "outputs": [
    {
     "name": "stdout",
     "output_type": "stream",
     "text": [
      "MSE = 0.865\n",
      "RMSE = 0.93\n",
      "MAE = 0.614\n"
     ]
    }
   ],
   "source": [
    "# MSE, RMSE, MAEの確認\n",
    "# 値を予測\n",
    "y_pred = regr.predict(X)\n",
    "\n",
    "# 平均二乗誤差 MSEを計算\n",
    "mse = mean_squared_error(y, y_pred) \n",
    "print(\"MSE = %s\"%round(mse,3) )  \n",
    "\n",
    "# 平方根平均二乗誤差 RMSEを計算\n",
    "rmse = np.sqrt(mse)\n",
    "print(\"RMSE = %s\"%round(rmse, 3) )\n",
    "\n",
    "# 絶対値誤差 MAEを計算\n",
    "mae = mean_absolute_error(y, y_pred) \n",
    "print(\"MAE = %s\"%round(mae,3) )"
   ]
  },
  {
   "cell_type": "code",
   "execution_count": 23,
   "metadata": {},
   "outputs": [
    {
     "name": "stdout",
     "output_type": "stream",
     "text": [
      "MSE = 0.865\n",
      "RMSE = 0.930\n",
      "MAE = 0.614\n"
     ]
    }
   ],
   "source": [
    "# MSE, RMSE, MAEを式でも確認\n",
    "squared_error = 0.5 * np.sum((y - y_est) ** 2)\n",
    "mean_squared_error_val = squared_error * 2 / len(y)\n",
    "root_mean_squared_error_val = np.sqrt(mean_squared_error_val)\n",
    "mean_absoluted_error_val = 0.5 * np.sum(abs(y - y_est)) * 2 / len(y)\n",
    "\n",
    "print('MSE = {:.3f}'.format(mean_squared_error_val))\n",
    "print('RMSE = {:.3f}'.format(root_mean_squared_error_val))\n",
    "print('MAE = {:.3f}'.format(mean_absoluted_error_val))"
   ]
  },
  {
   "cell_type": "markdown",
   "metadata": {},
   "source": [
    "### 説明変数を減らしてみる"
   ]
  },
  {
   "cell_type": "markdown",
   "metadata": {},
   "source": [
    "'speed', 'temp_diff'の時"
   ]
  },
  {
   "cell_type": "code",
   "execution_count": 24,
   "metadata": {},
   "outputs": [
    {
     "name": "stdout",
     "output_type": "stream",
     "text": [
      "w0 = 5.040, w1 = -0.017, w2 = 0.053\n",
      "MSE = 0.907\n",
      "RMSE = 0.952\n",
      "MAE = 0.63\n"
     ]
    }
   ],
   "source": [
    "X = df_data[['speed', 'temp_diff']].values\n",
    "# 線形回帰\n",
    "regr.fit(X, y)\n",
    "\n",
    "# 重みを取り出す\n",
    "w0 = regr.intercept_\n",
    "w1 = regr.coef_[0]\n",
    "w2 = regr.coef_[1]\n",
    "# 変数の設定\n",
    "x1 = X[:,0]\n",
    "x2 = X[:,1]\n",
    "\n",
    "# 重み確認\n",
    "y_est = w0 + w1 * x1 + w2 * x2\n",
    "print('w0 = {:.3f}, w1 = {:.3f}, w2 = {:.3f}'.format(w0, w1, w2))\n",
    "\n",
    "# MSE, RMSE, MAEの確認\n",
    "y_pred = regr.predict(X)\n",
    "mse = mean_squared_error(y, y_pred) \n",
    "print(\"MSE = %s\"%round(mse,3) )  \n",
    "rmse = np.sqrt(mse)\n",
    "print(\"RMSE = %s\"%round(rmse, 3) )\n",
    "mae = mean_absolute_error(y, y_pred) \n",
    "print(\"MAE = %s\"%round(mae,3) )"
   ]
  },
  {
   "cell_type": "markdown",
   "metadata": {},
   "source": [
    "'speed', 'rain'の時"
   ]
  },
  {
   "cell_type": "code",
   "execution_count": 25,
   "metadata": {},
   "outputs": [
    {
     "name": "stdout",
     "output_type": "stream",
     "text": [
      "w0 = 5.549, w1 = -0.017, w2 = 0.784\n",
      "MSE = 0.943\n",
      "RMSE = 0.971\n",
      "MAE = 0.659\n"
     ]
    }
   ],
   "source": [
    "X = df_data[['speed', 'rain']].values\n",
    "# 線形回帰\n",
    "regr.fit(X, y)\n",
    "\n",
    "# 重みを取り出す\n",
    "w0 = regr.intercept_\n",
    "w1 = regr.coef_[0]\n",
    "w2 = regr.coef_[1]\n",
    "# 変数の設定\n",
    "x1 = X[:,0]\n",
    "x2 = X[:,1]\n",
    "\n",
    "# 重み確認\n",
    "y_est = w0 + w1 * x1 + w2 * x2\n",
    "print('w0 = {:.3f}, w1 = {:.3f}, w2 = {:.3f}'.format(w0, w1, w2))\n",
    "\n",
    "# MSE, RMSE, MAEの確認\n",
    "y_pred = regr.predict(X)\n",
    "mse = mean_squared_error(y, y_pred) \n",
    "print(\"MSE = %s\"%round(mse,3) )  \n",
    "rmse = np.sqrt(mse)\n",
    "print(\"RMSE = %s\"%round(rmse, 3) )\n",
    "mae = mean_absolute_error(y, y_pred) \n",
    "print(\"MAE = %s\"%round(mae,3) )"
   ]
  },
  {
   "cell_type": "markdown",
   "metadata": {},
   "source": [
    "'temp_diff', 'rain'の時"
   ]
  },
  {
   "cell_type": "code",
   "execution_count": 26,
   "metadata": {},
   "outputs": [
    {
     "name": "stdout",
     "output_type": "stream",
     "text": [
      "w0 = 4.317, w1 = 0.048, w2 = 0.620\n",
      "MSE = 0.918\n",
      "RMSE = 0.958\n",
      "MAE = 0.607\n"
     ]
    }
   ],
   "source": [
    "X = df_data[['temp_diff', 'rain']].values\n",
    "# 線形回帰\n",
    "regr.fit(X, y)\n",
    "\n",
    "# 重みを取り出す\n",
    "w0 = regr.intercept_\n",
    "w1 = regr.coef_[0]\n",
    "w2 = regr.coef_[1]\n",
    "# 変数の設定\n",
    "x1 = X[:,0]\n",
    "x2 = X[:,1]\n",
    "\n",
    "# 重み確認\n",
    "y_est = w0 + w1 * x1 + w2 * x2\n",
    "print('w0 = {:.3f}, w1 = {:.3f}, w2 = {:.3f}'.format(w0, w1, w2))\n",
    "\n",
    "# MSE, RMSE, MAEの確認\n",
    "y_pred = regr.predict(X)\n",
    "mse = mean_squared_error(y, y_pred) \n",
    "print(\"MSE = %s\"%round(mse,3) )  \n",
    "rmse = np.sqrt(mse)\n",
    "print(\"RMSE = %s\"%round(rmse, 3) )\n",
    "mae = mean_absolute_error(y, y_pred) \n",
    "print(\"MAE = %s\"%round(mae,3) )"
   ]
  },
  {
   "cell_type": "markdown",
   "metadata": {},
   "source": [
    "→　'speed', 'rain'の時が最も精度が高い。DAY１の説明変数３つ(speed, temp_outside, rain)の時の結果（MSE = 0.862、RMSE = 0.928、MAE = 0.619）と比較しても精度が良くなっている"
   ]
  },
  {
   "cell_type": "code",
   "execution_count": 27,
   "metadata": {},
   "outputs": [],
   "source": [
    "X = df_data[['speed', 'rain']].values"
   ]
  },
  {
   "cell_type": "markdown",
   "metadata": {},
   "source": [
    "## Day2 ホールドアウト法を試す"
   ]
  },
  {
   "cell_type": "code",
   "execution_count": 28,
   "metadata": {},
   "outputs": [],
   "source": [
    "test_size = 0.1        # 全データのうち、何%をテストデータにするか（今回は10%に設定）\n",
    "X_train, X_test, y_train, y_test = train_test_split(X, y, test_size=test_size, random_state=123) "
   ]
  },
  {
   "cell_type": "code",
   "execution_count": 29,
   "metadata": {},
   "outputs": [
    {
     "name": "stdout",
     "output_type": "stream",
     "text": [
      "MAE = 0.65\n"
     ]
    }
   ],
   "source": [
    "# 学習用データを使って線形回帰モデルを学習\n",
    "regr = LinearRegression(fit_intercept=True)\n",
    "regr.fit(X_train, y_train)\n",
    "\n",
    "# 学習用データに対する予測を実行\n",
    "y_pred_train = regr.predict(X_train)\n",
    "\n",
    "# 学習データに対するMAEを計算（訓練誤差の評価）\n",
    "mae = mean_absolute_error(y_train, y_pred_train)\n",
    "print(\"MAE = %s\"%round(mae,3) )"
   ]
  },
  {
   "cell_type": "code",
   "execution_count": 30,
   "metadata": {},
   "outputs": [
    {
     "name": "stdout",
     "output_type": "stream",
     "text": [
      "MAE = 0.678\n"
     ]
    }
   ],
   "source": [
    "# テストデータに対する予測を実行\n",
    "y_pred_test = regr.predict(X_test)\n",
    "\n",
    "# テストデータに対するMAEを計算（汎化誤差の評価）\n",
    "mae = mean_absolute_error(y_test, y_pred_test)\n",
    "print(\"MAE = %s\"%round(mae,3) )"
   ]
  },
  {
   "cell_type": "code",
   "execution_count": 31,
   "metadata": {
    "scrolled": true
   },
   "outputs": [
    {
     "data": {
      "text/plain": [
       "(array([11., 55., 62., 94., 47., 46., 17.,  5.,  8.,  4.]),\n",
       " array([14. , 21.6, 29.2, 36.8, 44.4, 52. , 59.6, 67.2, 74.8, 82.4, 90. ]),\n",
       " <a list of 10 Patch objects>)"
      ]
     },
     "execution_count": 31,
     "metadata": {},
     "output_type": "execute_result"
    },
    {
     "data": {
      "image/png": "[encoded data removed]",
      "text/plain": [
       "<matplotlib.figure.Figure at 0x10dfcd400>"
      ]
     },
     "metadata": {},
     "output_type": "display_data"
    }
   ],
   "source": [
    "# まずは標準化する前の1つ目の特徴に関するヒストグラムを出してみる\n",
    "plt.hist(X_train[:, 0]) # 学習用データ"
   ]
  },
  {
   "cell_type": "markdown",
   "metadata": {},
   "source": [
    "### 標準化"
   ]
  },
  {
   "cell_type": "code",
   "execution_count": 32,
   "metadata": {},
   "outputs": [
    {
     "name": "stderr",
     "output_type": "stream",
     "text": [
      "/Users/giraffe/.pyenv/versions/anaconda3-5.1.0/lib/python3.6/site-packages/sklearn/utils/validation.py:475: DataConversionWarning: Data with input dtype int64 was converted to float64 by StandardScaler.\n",
      "  warnings.warn(msg, DataConversionWarning)\n"
     ]
    },
    {
     "data": {
      "text/plain": [
       "(array([11., 55., 62., 94., 54., 39., 17.,  5.,  8.,  4.]),\n",
       " array([-2.03624543, -1.48591556, -0.93558569, -0.38525581,  0.16507406,\n",
       "         0.71540394,  1.26573381,  1.81606369,  2.36639356,  2.91672344,\n",
       "         3.46705331]),\n",
       " <a list of 10 Patch objects>)"
      ]
     },
     "execution_count": 32,
     "metadata": {},
     "output_type": "execute_result"
    },
    {
     "data": {
      "image/png": "[encoded data removed]",
      "text/plain": [
       "<matplotlib.figure.Figure at 0x1a22ced198>"
      ]
     },
     "metadata": {},
     "output_type": "display_data"
    }
   ],
   "source": [
    "#標準化\n",
    "stdsc = StandardScaler()\n",
    "X_train_std = stdsc.fit_transform(X_train)\n",
    "plt.hist(X_train_std[:, 0]) #標準化後の1つ目の特徴に関するヒストグラム（学習用データ）"
   ]
  },
  {
   "cell_type": "code",
   "execution_count": 33,
   "metadata": {},
   "outputs": [
    {
     "name": "stderr",
     "output_type": "stream",
     "text": [
      "/Users/giraffe/.pyenv/versions/anaconda3-5.1.0/lib/python3.6/site-packages/sklearn/utils/validation.py:475: DataConversionWarning: Data with input dtype int64 was converted to float64 by StandardScaler.\n",
      "  warnings.warn(msg, DataConversionWarning)\n"
     ]
    },
    {
     "data": {
      "text/plain": [
       "(array([3., 7., 1., 3., 7., 7., 2., 1., 7., 1.]),\n",
       " array([-1.52936266, -1.23247417, -0.93558569, -0.6386972 , -0.34180871,\n",
       "        -0.04492023,  0.25196826,  0.54885674,  0.84574523,  1.14263371,\n",
       "         1.4395222 ]),\n",
       " <a list of 10 Patch objects>)"
      ]
     },
     "execution_count": 33,
     "metadata": {},
     "output_type": "execute_result"
    },
    {
     "data": {
      "image/png": "[encoded data removed]",
      "text/plain": [
       "<matplotlib.figure.Figure at 0x1a22da7780>"
      ]
     },
     "metadata": {},
     "output_type": "display_data"
    }
   ],
   "source": [
    "X_test_std = stdsc.transform(X_test)\n",
    "plt.hist(X_test_std[:, 0]) #標準化後の1つ目の特徴に関するヒストグラム（テストデータ）"
   ]
  },
  {
   "cell_type": "code",
   "execution_count": 34,
   "metadata": {},
   "outputs": [
    {
     "name": "stdout",
     "output_type": "stream",
     "text": [
      "MAE = 0.65\n"
     ]
    }
   ],
   "source": [
    "regr.fit(X_train_std, y_train)\n",
    "\n",
    "# 学習用データに対する予測を実行\n",
    "y_pred_train_std = regr.predict(X_train_std)\n",
    "\n",
    "# 学習データに対するMAEを計算（訓練誤差の評価）\n",
    "mae = mean_absolute_error(y_train, y_pred_train_std)\n",
    "print(\"MAE = %s\"%round(mae,3) )"
   ]
  },
  {
   "cell_type": "code",
   "execution_count": 35,
   "metadata": {},
   "outputs": [
    {
     "name": "stdout",
     "output_type": "stream",
     "text": [
      "MAE = 0.678\n"
     ]
    }
   ],
   "source": [
    "# テストデータに対する予測を実行\n",
    "y_pred_test_std = regr.predict(X_test_std)\n",
    "\n",
    "# テストデータに対するMAEを計算（汎化誤差の評価）\n",
    "mae = mean_absolute_error(y_test, y_pred_test_std)\n",
    "print(\"MAE = %s\"%round(mae,3) )"
   ]
  },
  {
   "cell_type": "markdown",
   "metadata": {},
   "source": [
    "### →　標準化する事で評価値（MAE）は変わらないが重みwを同じスケールで比較できるようになるメリットがある"
   ]
  },
  {
   "cell_type": "code",
   "execution_count": null,
   "metadata": {},
   "outputs": [],
   "source": []
  },
  {
   "cell_type": "markdown",
   "metadata": {},
   "source": [
    "## クロスバリデーション"
   ]
  },
  {
   "cell_type": "code",
   "execution_count": 36,
   "metadata": {},
   "outputs": [
    {
     "name": "stdout",
     "output_type": "stream",
     "text": [
      "Fold 1\n",
      "MAE = 0.678\n",
      "\n",
      "Fold 2\n",
      "MAE = 0.507\n",
      "\n",
      "Fold 3\n",
      "MAE = 0.654\n",
      "\n",
      "Fold 4\n",
      "MAE = 0.713\n",
      "\n",
      "Fold 5\n",
      "MAE = 0.783\n",
      "\n",
      "Fold 6\n",
      "MAE = 0.722\n",
      "\n",
      "Fold 7\n",
      "MAE = 0.626\n",
      "\n",
      "Fold 8\n",
      "MAE = 0.834\n",
      "\n",
      "Fold 9\n",
      "MAE = 0.519\n",
      "\n",
      "Fold 10\n",
      "MAE = 0.684\n",
      "\n",
      "Cross Validation MAE = 0.672\n"
     ]
    }
   ],
   "source": [
    "n_split = 10 # グループ数を設定（今回は10分割）\n",
    "\n",
    "cross_valid_mae = 0\n",
    "split_num = 1\n",
    "\n",
    "# テスト役を交代させながら学習と評価を繰り返す\n",
    "for train_idx, test_idx in KFold(n_splits=n_split, shuffle=True, random_state=123).split(X, y):\n",
    "    X_train, y_train = X[train_idx], y[train_idx] #学習用データ\n",
    "    X_test, y_test = X[test_idx], y[test_idx]     #テスト用データ\n",
    "    \n",
    "    # 学習用データを使って線形回帰モデルを学習\n",
    "    regr = LinearRegression(fit_intercept=True)\n",
    "    regr.fit(X_train, y_train)\n",
    "\n",
    "    # テストデータに対する予測を実行\n",
    "    y_pred_test = regr.predict(X_test)\n",
    "    \n",
    "    # テストデータに対するMAEを計算\n",
    "    mae = mean_absolute_error(y_test, y_pred_test)\n",
    "    print(\"Fold %s\"%split_num)\n",
    "    print(\"MAE = %s\"%round(mae, 3))\n",
    "    print()\n",
    "    \n",
    "    cross_valid_mae += mae #後で平均を取るためにMAEを加算\n",
    "    split_num += 1\n",
    "\n",
    "# MAEの平均値を最終的な汎化誤差値とする\n",
    "final_mae = cross_valid_mae / n_split\n",
    "print(\"Cross Validation MAE = %s\"%round(final_mae, 3))"
   ]
  },
  {
   "cell_type": "markdown",
   "metadata": {},
   "source": [
    "→　ホールドアウト法とあまり変わらない結果となった"
   ]
  },
  {
   "cell_type": "code",
   "execution_count": null,
   "metadata": {},
   "outputs": [],
   "source": []
  },
  {
   "cell_type": "markdown",
   "metadata": {},
   "source": [
    "ステップワイズ法による特徴選択"
   ]
  },
  {
   "cell_type": "code",
   "execution_count": 37,
   "metadata": {},
   "outputs": [],
   "source": [
    "# estimatorにモデルをセット\n",
    "# 今回は回帰問題であるためLinearRegressionを使用\n",
    "estimator = LinearRegression(normalize=False)\n",
    "\n",
    "# RFECVは交差検証によってステップワイズ法による特徴選択を行う\n",
    "# cvにはFold（=グループ）の数，scoringには評価指標を指定する\n",
    "# 今回は回帰なのでneg_mean_absolute_errorを評価指標に指定（分類ならaccuracy）\n",
    "rfecv = RFECV(estimator, cv=10, scoring='neg_mean_absolute_error')"
   ]
  },
  {
   "cell_type": "code",
   "execution_count": 38,
   "metadata": {},
   "outputs": [
    {
     "data": {
      "text/plain": [
       "Index(['distance', 'consume', 'speed', 'temp_inside', 'temp_outside',\n",
       "       'specials', 'gas_type', 'AC', 'rain', 'sun', 'refill liters',\n",
       "       'refill gas', 'temp_diff'],\n",
       "      dtype='object')"
      ]
     },
     "execution_count": 38,
     "metadata": {},
     "output_type": "execute_result"
    }
   ],
   "source": [
    "df_data.columns"
   ]
  },
  {
   "cell_type": "code",
   "execution_count": 39,
   "metadata": {},
   "outputs": [
    {
     "data": {
      "text/plain": [
       "RFECV(cv=10,\n",
       "   estimator=LinearRegression(copy_X=True, fit_intercept=True, n_jobs=1, normalize=False),\n",
       "   n_jobs=1, scoring='neg_mean_absolute_error', step=1, verbose=0)"
      ]
     },
     "execution_count": 39,
     "metadata": {},
     "output_type": "execute_result"
    }
   ],
   "source": [
    "y = df_data['consume'].values\n",
    "X = df_data[['distance','speed', 'temp_outside', 'gas_type', 'rain','temp_diff']].values\n",
    "\n",
    "# fitで特徴選択を実行\n",
    "rfecv.fit(X, y)"
   ]
  },
  {
   "cell_type": "code",
   "execution_count": 40,
   "metadata": {},
   "outputs": [
    {
     "name": "stdout",
     "output_type": "stream",
     "text": [
      "Feature ranking: \n",
      "[3 1 1 2 1 1]\n"
     ]
    }
   ],
   "source": [
    "# 特徴のランキングを表示（1が最も重要な特徴）\n",
    "print('Feature ranking: \\n{}'.format(rfecv.ranking_))"
   ]
  },
  {
   "cell_type": "code",
   "execution_count": 41,
   "metadata": {},
   "outputs": [
    {
     "data": {
      "image/png": "[encoded data removed]",
      "text/plain": [
       "<matplotlib.figure.Figure at 0x1a22dcac50>"
      ]
     },
     "metadata": {},
     "output_type": "display_data"
    }
   ],
   "source": [
    "# 特徴数とスコアの変化をプロット\n",
    "# 負のMAEが評価基準になっており，値がゼロに近いほど汎化誤差は小さい\n",
    "plt.plot(range(1, len(rfecv.grid_scores_) + 1), rfecv.grid_scores_)\n",
    "plt.show()"
   ]
  },
  {
   "cell_type": "markdown",
   "metadata": {},
   "source": [
    "→　概ね相関関係から選んだ特徴と同じような結果となった。"
   ]
  },
  {
   "cell_type": "markdown",
   "metadata": {},
   "source": [
    "LASSOによる特徴選択"
   ]
  },
  {
   "cell_type": "code",
   "execution_count": 42,
   "metadata": {},
   "outputs": [],
   "source": [
    "# estimatorにモデルをセット\n",
    "# LassoCVを使って、正則化の強さは自動決定\n",
    "estimator = LassoCV(normalize=True, cv=10)\n",
    "\n",
    "# モデルの情報を使って特徴選択を行う場合は、SelectFromModelを使う\n",
    "# 今回は係数が1e-5以下である特徴を削除する\n",
    "# 係数のしきい値はthresholdで指定する\n",
    "sfm = SelectFromModel(estimator, threshold=1e-5)"
   ]
  },
  {
   "cell_type": "code",
   "execution_count": 43,
   "metadata": {},
   "outputs": [],
   "source": [
    "df_data_lasso = df_data[['consume','distance','speed', 'temp_outside', 'gas_type', 'rain','temp_diff']]"
   ]
  },
  {
   "cell_type": "code",
   "execution_count": 44,
   "metadata": {},
   "outputs": [
    {
     "data": {
      "text/plain": [
       "SelectFromModel(estimator=LassoCV(alphas=None, copy_X=True, cv=10, eps=0.001, fit_intercept=True,\n",
       "    max_iter=1000, n_alphas=100, n_jobs=1, normalize=True, positive=False,\n",
       "    precompute='auto', random_state=None, selection='cyclic', tol=0.0001,\n",
       "    verbose=False),\n",
       "        norm_order=1, prefit=False, threshold=1e-05)"
      ]
     },
     "execution_count": 44,
     "metadata": {},
     "output_type": "execute_result"
    }
   ],
   "source": [
    "y = df_data_lasso['consume'].values\n",
    "df_df_data_lasso_X = df_data_lasso.drop('consume', axis = 1)\n",
    "X = df_df_data_lasso_X.values\n",
    "# fitで特徴選択を実行\n",
    "sfm.fit(X, y)"
   ]
  },
  {
   "cell_type": "code",
   "execution_count": 45,
   "metadata": {},
   "outputs": [
    {
     "data": {
      "text/plain": [
       "array([False,  True,  True, False,  True,  True])"
      ]
     },
     "execution_count": 45,
     "metadata": {},
     "output_type": "execute_result"
    }
   ],
   "source": [
    "# get_support関数で使用する特徴のインデックスを使用\n",
    "# Trueになっている特徴が使用する特徴\n",
    "sfm.get_support()"
   ]
  },
  {
   "cell_type": "code",
   "execution_count": 46,
   "metadata": {},
   "outputs": [
    {
     "data": {
      "text/plain": [
       "Index(['distance', 'gas_type'], dtype='object')"
      ]
     },
     "execution_count": 46,
     "metadata": {},
     "output_type": "execute_result"
    }
   ],
   "source": [
    "# 削除すべき特徴の名前を取得 \n",
    "removed_idx  = ~sfm.get_support()\n",
    "df_df_data_lasso_X.columns[removed_idx]"
   ]
  },
  {
   "cell_type": "code",
   "execution_count": 47,
   "metadata": {},
   "outputs": [
    {
     "data": {
      "text/plain": [
       "array([0.        , 0.01444126, 0.02303354, 0.        , 0.52359766,\n",
       "       0.01859397])"
      ]
     },
     "execution_count": 47,
     "metadata": {},
     "output_type": "execute_result"
    }
   ],
   "source": [
    "# LASSOで得た各特徴の係数の値を確認してみよう\n",
    "# 係数の絶対値を取得\n",
    "abs_coef = np.abs(sfm.estimator_.coef_)\n",
    "abs_coef"
   ]
  },
  {
   "cell_type": "code",
   "execution_count": 48,
   "metadata": {},
   "outputs": [
    {
     "data": {
      "image/png": "[encoded data removed]",
      "text/plain": [
       "<matplotlib.figure.Figure at 0x1a22b13e48>"
      ]
     },
     "metadata": {},
     "output_type": "display_data"
    }
   ],
   "source": [
    "# 係数を棒グラフで表示\n",
    "plt.barh(np.arange(0, len(abs_coef)), abs_coef, tick_label=df_df_data_lasso_X.columns.values)\n",
    "plt.show()"
   ]
  },
  {
   "cell_type": "markdown",
   "metadata": {},
   "source": [
    "rain が最も高い"
   ]
  },
  {
   "cell_type": "code",
   "execution_count": null,
   "metadata": {},
   "outputs": [],
   "source": []
  },
  {
   "cell_type": "markdown",
   "metadata": {},
   "source": [
    "## 決定木"
   ]
  },
  {
   "cell_type": "code",
   "execution_count": 49,
   "metadata": {},
   "outputs": [],
   "source": [
    "y = df_data['consume'].values\n",
    "X = df_data[['speed', 'rain']].values\n",
    "X_train, X_test, y_train, y_test = train_test_split(X, y, test_size=test_size, random_state=123) "
   ]
  },
  {
   "cell_type": "markdown",
   "metadata": {},
   "source": [
    "決定木のグリッドサーチ"
   ]
  },
  {
   "cell_type": "code",
   "execution_count": 50,
   "metadata": {},
   "outputs": [],
   "source": [
    "clf_tree = DecisionTreeRegressor(random_state=123)"
   ]
  },
  {
   "cell_type": "code",
   "execution_count": 51,
   "metadata": {},
   "outputs": [],
   "source": [
    "param_grid = {\"max_depth\": [2,4,6,8,10], \"criterion\": [\"mse\", \"mae\"], \"splitter\":[\"best\", \"random\"]}"
   ]
  },
  {
   "cell_type": "code",
   "execution_count": 52,
   "metadata": {},
   "outputs": [
    {
     "name": "stdout",
     "output_type": "stream",
     "text": [
      "{'criterion': 'mse', 'max_depth': 4, 'splitter': 'best'} 0.0742645277076653\n"
     ]
    }
   ],
   "source": [
    "tree_grid = GridSearchCV(clf_tree, param_grid = param_grid, cv=10)\n",
    "\n",
    "tree_grid.fit(X_train, y_train) #fit\n",
    "print(tree_grid.best_params_, tree_grid.best_score_)"
   ]
  },
  {
   "cell_type": "code",
   "execution_count": 53,
   "metadata": {},
   "outputs": [],
   "source": [
    "clf = DecisionTreeRegressor(criterion=\"mae\", max_depth=4, splitter=\"random\", random_state=123)\n",
    "clf = clf.fit(X_train, y_train)"
   ]
  },
  {
   "cell_type": "code",
   "execution_count": 54,
   "metadata": {},
   "outputs": [
    {
     "data": {
      "text/plain": [
       "0.2595998861341222"
      ]
     },
     "execution_count": 54,
     "metadata": {},
     "output_type": "execute_result"
    }
   ],
   "source": [
    "clf.score(X_train, y_train)"
   ]
  },
  {
   "cell_type": "code",
   "execution_count": 55,
   "metadata": {},
   "outputs": [
    {
     "data": {
      "text/plain": [
       "0.1445136976373389"
      ]
     },
     "execution_count": 55,
     "metadata": {},
     "output_type": "execute_result"
    }
   ],
   "source": [
    "clf.score(X_test, y_test)"
   ]
  },
  {
   "cell_type": "code",
   "execution_count": null,
   "metadata": {},
   "outputs": [],
   "source": []
  }
 ],
 "metadata": {
  "kernelspec": {
   "display_name": "Python 3",
   "language": "python",
   "name": "python3"
  },
  "language_info": {
   "codemirror_mode": {
    "name": "ipython",
    "version": 3
   },
   "file_extension": ".py",
   "mimetype": "text/x-python",
   "name": "python",
   "nbconvert_exporter": "python",
   "pygments_lexer": "ipython3",
   "version": "3.6.4"
  }
 },
 "nbformat": 4,
 "nbformat_minor": 2
}
