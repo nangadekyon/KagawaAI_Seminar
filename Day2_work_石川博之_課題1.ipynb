{
 "cells": [
  {
   "cell_type": "markdown",
   "metadata": {},
   "source": [
    "# かがわAIゼミナール2019\n",
    "## 課題１ : kickstarter-projects\n",
    "## クラウドファンデイングが成功するか(state)を予測"
   ]
  },
  {
   "cell_type": "markdown",
   "metadata": {},
   "source": [
    "#### DATA:kaggle   https://www.kaggle.com/kemical/kickstarter-projects\n",
    "#### 注意点）　説明変数は現時点でわかっている情報だけを使用すること"
   ]
  },
  {
   "cell_type": "code",
   "execution_count": 1,
   "metadata": {},
   "outputs": [],
   "source": [
    "%matplotlib inline\n",
    "import pandas as pd\n",
    "import numpy as np\n",
    "import matplotlib.pyplot as plt\n",
    "import seaborn as sns\n",
    "from sklearn.linear_model import SGDClassifier, LogisticRegression\n",
    "from sklearn.linear_model import Ridge,Lasso,ElasticNet #正則化項付き最小二乗法を行うためのライブラリ\n",
    "from sklearn.metrics import log_loss, accuracy_score, precision_recall_fscore_support, confusion_matrix\n",
    "from sklearn.model_selection import train_test_split, GridSearchCV\n",
    "from sklearn.preprocessing import StandardScaler, PolynomialFeatures\n",
    "from sklearn.pipeline import make_pipeline\n",
    "from sklearn.svm import SVC\n",
    "from datetime import datetime, date"
   ]
  },
  {
   "cell_type": "code",
   "execution_count": 2,
   "metadata": {},
   "outputs": [
    {
     "data": {
      "text/html": [
       "<div>\n",
       "<style scoped>\n",
       "    .dataframe tbody tr th:only-of-type {\n",
       "        vertical-align: middle;\n",
       "    }\n",
       "\n",
       "    .dataframe tbody tr th {\n",
       "        vertical-align: top;\n",
       "    }\n",
       "\n",
       "    .dataframe thead th {\n",
       "        text-align: right;\n",
       "    }\n",
       "</style>\n",
       "<table border=\"1\" class=\"dataframe\">\n",
       "  <thead>\n",
       "    <tr style=\"text-align: right;\">\n",
       "      <th></th>\n",
       "      <th>ID</th>\n",
       "      <th>name</th>\n",
       "      <th>category</th>\n",
       "      <th>main_category</th>\n",
       "      <th>currency</th>\n",
       "      <th>deadline</th>\n",
       "      <th>goal</th>\n",
       "      <th>launched</th>\n",
       "      <th>pledged</th>\n",
       "      <th>state</th>\n",
       "      <th>backers</th>\n",
       "      <th>country</th>\n",
       "      <th>usd pledged</th>\n",
       "      <th>usd_pledged_real</th>\n",
       "      <th>usd_goal_real</th>\n",
       "    </tr>\n",
       "  </thead>\n",
       "  <tbody>\n",
       "    <tr>\n",
       "      <th>0</th>\n",
       "      <td>1000002330</td>\n",
       "      <td>The Songs of Adelaide &amp; Abullah</td>\n",
       "      <td>Poetry</td>\n",
       "      <td>Publishing</td>\n",
       "      <td>GBP</td>\n",
       "      <td>2015-10-09</td>\n",
       "      <td>1000.0</td>\n",
       "      <td>2015-08-11 12:12:28</td>\n",
       "      <td>0.0</td>\n",
       "      <td>failed</td>\n",
       "      <td>0</td>\n",
       "      <td>GB</td>\n",
       "      <td>0.0</td>\n",
       "      <td>0.0</td>\n",
       "      <td>1533.95</td>\n",
       "    </tr>\n",
       "    <tr>\n",
       "      <th>1</th>\n",
       "      <td>1000003930</td>\n",
       "      <td>Greeting From Earth: ZGAC Arts Capsule For ET</td>\n",
       "      <td>Narrative Film</td>\n",
       "      <td>Film &amp; Video</td>\n",
       "      <td>USD</td>\n",
       "      <td>2017-11-01</td>\n",
       "      <td>30000.0</td>\n",
       "      <td>2017-09-02 04:43:57</td>\n",
       "      <td>2421.0</td>\n",
       "      <td>failed</td>\n",
       "      <td>15</td>\n",
       "      <td>US</td>\n",
       "      <td>100.0</td>\n",
       "      <td>2421.0</td>\n",
       "      <td>30000.00</td>\n",
       "    </tr>\n",
       "    <tr>\n",
       "      <th>2</th>\n",
       "      <td>1000004038</td>\n",
       "      <td>Where is Hank?</td>\n",
       "      <td>Narrative Film</td>\n",
       "      <td>Film &amp; Video</td>\n",
       "      <td>USD</td>\n",
       "      <td>2013-02-26</td>\n",
       "      <td>45000.0</td>\n",
       "      <td>2013-01-12 00:20:50</td>\n",
       "      <td>220.0</td>\n",
       "      <td>failed</td>\n",
       "      <td>3</td>\n",
       "      <td>US</td>\n",
       "      <td>220.0</td>\n",
       "      <td>220.0</td>\n",
       "      <td>45000.00</td>\n",
       "    </tr>\n",
       "    <tr>\n",
       "      <th>3</th>\n",
       "      <td>1000007540</td>\n",
       "      <td>ToshiCapital Rekordz Needs Help to Complete Album</td>\n",
       "      <td>Music</td>\n",
       "      <td>Music</td>\n",
       "      <td>USD</td>\n",
       "      <td>2012-04-16</td>\n",
       "      <td>5000.0</td>\n",
       "      <td>2012-03-17 03:24:11</td>\n",
       "      <td>1.0</td>\n",
       "      <td>failed</td>\n",
       "      <td>1</td>\n",
       "      <td>US</td>\n",
       "      <td>1.0</td>\n",
       "      <td>1.0</td>\n",
       "      <td>5000.00</td>\n",
       "    </tr>\n",
       "    <tr>\n",
       "      <th>4</th>\n",
       "      <td>1000011046</td>\n",
       "      <td>Community Film Project: The Art of Neighborhoo...</td>\n",
       "      <td>Film &amp; Video</td>\n",
       "      <td>Film &amp; Video</td>\n",
       "      <td>USD</td>\n",
       "      <td>2015-08-29</td>\n",
       "      <td>19500.0</td>\n",
       "      <td>2015-07-04 08:35:03</td>\n",
       "      <td>1283.0</td>\n",
       "      <td>canceled</td>\n",
       "      <td>14</td>\n",
       "      <td>US</td>\n",
       "      <td>1283.0</td>\n",
       "      <td>1283.0</td>\n",
       "      <td>19500.00</td>\n",
       "    </tr>\n",
       "  </tbody>\n",
       "</table>\n",
       "</div>"
      ],
      "text/plain": [
       "           ID                                               name  \\\n",
       "0  1000002330                    The Songs of Adelaide & Abullah   \n",
       "1  1000003930      Greeting From Earth: ZGAC Arts Capsule For ET   \n",
       "2  1000004038                                     Where is Hank?   \n",
       "3  1000007540  ToshiCapital Rekordz Needs Help to Complete Album   \n",
       "4  1000011046  Community Film Project: The Art of Neighborhoo...   \n",
       "\n",
       "         category main_category currency    deadline     goal  \\\n",
       "0          Poetry    Publishing      GBP  2015-10-09   1000.0   \n",
       "1  Narrative Film  Film & Video      USD  2017-11-01  30000.0   \n",
       "2  Narrative Film  Film & Video      USD  2013-02-26  45000.0   \n",
       "3           Music         Music      USD  2012-04-16   5000.0   \n",
       "4    Film & Video  Film & Video      USD  2015-08-29  19500.0   \n",
       "\n",
       "              launched  pledged     state  backers country  usd pledged  \\\n",
       "0  2015-08-11 12:12:28      0.0    failed        0      GB          0.0   \n",
       "1  2017-09-02 04:43:57   2421.0    failed       15      US        100.0   \n",
       "2  2013-01-12 00:20:50    220.0    failed        3      US        220.0   \n",
       "3  2012-03-17 03:24:11      1.0    failed        1      US          1.0   \n",
       "4  2015-07-04 08:35:03   1283.0  canceled       14      US       1283.0   \n",
       "\n",
       "   usd_pledged_real  usd_goal_real  \n",
       "0               0.0        1533.95  \n",
       "1            2421.0       30000.00  \n",
       "2             220.0       45000.00  \n",
       "3               1.0        5000.00  \n",
       "4            1283.0       19500.00  "
      ]
     },
     "metadata": {},
     "output_type": "display_data"
    }
   ],
   "source": [
    "# データ読み込み\n",
    "df_data_csv = pd.read_csv(\"./kickstarter-projects/ks-projects-201801.csv\") \n",
    "display(df_data_csv.head())"
   ]
  },
  {
   "cell_type": "markdown",
   "metadata": {},
   "source": [
    "項目\n",
    "- ID\n",
    "- name\n",
    "- category\n",
    "- main_category\n",
    "- currency : 通貨\n",
    "- deadline : 締め切り日\n",
    "- goal : Goal amount in project currency : プロジェクト通過での目標額\n",
    "- launched : 開始日時\n",
    "- pledged : Pledged amount in the project currency : プロジェクト通貨での元本額\n",
    "- state : 状態\n",
    "- backers : 支援者数\n",
    "- country : 国\n",
    "- usd pledged : Pledged amount in USD (conversion made by KS) : 担保金額（米ドル）（KSによる変換）\n",
    "- usd_pledged_real : Pledged amount in USD (conversion made by fixer.io api) : 担保金額（米ドル）\n",
    "- usd_goal_real : Goal amount in USD : 目標額（米ドル）"
   ]
  },
  {
   "cell_type": "markdown",
   "metadata": {},
   "source": [
    "（プロジェクトスタート時に取得できない情報、backers と pledged　→　使用しない）"
   ]
  },
  {
   "cell_type": "code",
   "execution_count": 3,
   "metadata": {},
   "outputs": [
    {
     "name": "stdout",
     "output_type": "stream",
     "text": [
      "(378661, 15)\n"
     ]
    }
   ],
   "source": [
    "# 行列数確認\n",
    "print(df_data_csv.shape)"
   ]
  },
  {
   "cell_type": "code",
   "execution_count": 4,
   "metadata": {},
   "outputs": [
    {
     "name": "stdout",
     "output_type": "stream",
     "text": [
      "<class 'pandas.core.frame.DataFrame'>\n",
      "RangeIndex: 378661 entries, 0 to 378660\n",
      "Data columns (total 15 columns):\n",
      "ID                  378661 non-null int64\n",
      "name                378657 non-null object\n",
      "category            378661 non-null object\n",
      "main_category       378661 non-null object\n",
      "currency            378661 non-null object\n",
      "deadline            378661 non-null object\n",
      "goal                378661 non-null float64\n",
      "launched            378661 non-null object\n",
      "pledged             378661 non-null float64\n",
      "state               378661 non-null object\n",
      "backers             378661 non-null int64\n",
      "country             378661 non-null object\n",
      "usd pledged         374864 non-null float64\n",
      "usd_pledged_real    378661 non-null float64\n",
      "usd_goal_real       378661 non-null float64\n",
      "dtypes: float64(5), int64(2), object(8)\n",
      "memory usage: 43.3+ MB\n"
     ]
    }
   ],
   "source": [
    "# 基本情報\n",
    "df_data_csv.info()"
   ]
  },
  {
   "cell_type": "code",
   "execution_count": 5,
   "metadata": {},
   "outputs": [
    {
     "data": {
      "text/html": [
       "<div>\n",
       "<style scoped>\n",
       "    .dataframe tbody tr th:only-of-type {\n",
       "        vertical-align: middle;\n",
       "    }\n",
       "\n",
       "    .dataframe tbody tr th {\n",
       "        vertical-align: top;\n",
       "    }\n",
       "\n",
       "    .dataframe thead th {\n",
       "        text-align: right;\n",
       "    }\n",
       "</style>\n",
       "<table border=\"1\" class=\"dataframe\">\n",
       "  <thead>\n",
       "    <tr style=\"text-align: right;\">\n",
       "      <th></th>\n",
       "      <th>ID</th>\n",
       "      <th>goal</th>\n",
       "      <th>pledged</th>\n",
       "      <th>backers</th>\n",
       "      <th>usd pledged</th>\n",
       "      <th>usd_pledged_real</th>\n",
       "      <th>usd_goal_real</th>\n",
       "    </tr>\n",
       "  </thead>\n",
       "  <tbody>\n",
       "    <tr>\n",
       "      <th>count</th>\n",
       "      <td>3.786610e+05</td>\n",
       "      <td>3.786610e+05</td>\n",
       "      <td>3.786610e+05</td>\n",
       "      <td>378661.000000</td>\n",
       "      <td>3.748640e+05</td>\n",
       "      <td>3.786610e+05</td>\n",
       "      <td>3.786610e+05</td>\n",
       "    </tr>\n",
       "    <tr>\n",
       "      <th>mean</th>\n",
       "      <td>1.074731e+09</td>\n",
       "      <td>4.908079e+04</td>\n",
       "      <td>9.682979e+03</td>\n",
       "      <td>105.617476</td>\n",
       "      <td>7.036729e+03</td>\n",
       "      <td>9.058924e+03</td>\n",
       "      <td>4.545440e+04</td>\n",
       "    </tr>\n",
       "    <tr>\n",
       "      <th>std</th>\n",
       "      <td>6.190862e+08</td>\n",
       "      <td>1.183391e+06</td>\n",
       "      <td>9.563601e+04</td>\n",
       "      <td>907.185035</td>\n",
       "      <td>7.863975e+04</td>\n",
       "      <td>9.097334e+04</td>\n",
       "      <td>1.152950e+06</td>\n",
       "    </tr>\n",
       "    <tr>\n",
       "      <th>min</th>\n",
       "      <td>5.971000e+03</td>\n",
       "      <td>1.000000e-02</td>\n",
       "      <td>0.000000e+00</td>\n",
       "      <td>0.000000</td>\n",
       "      <td>0.000000e+00</td>\n",
       "      <td>0.000000e+00</td>\n",
       "      <td>1.000000e-02</td>\n",
       "    </tr>\n",
       "    <tr>\n",
       "      <th>25%</th>\n",
       "      <td>5.382635e+08</td>\n",
       "      <td>2.000000e+03</td>\n",
       "      <td>3.000000e+01</td>\n",
       "      <td>2.000000</td>\n",
       "      <td>1.698000e+01</td>\n",
       "      <td>3.100000e+01</td>\n",
       "      <td>2.000000e+03</td>\n",
       "    </tr>\n",
       "    <tr>\n",
       "      <th>50%</th>\n",
       "      <td>1.075276e+09</td>\n",
       "      <td>5.200000e+03</td>\n",
       "      <td>6.200000e+02</td>\n",
       "      <td>12.000000</td>\n",
       "      <td>3.947200e+02</td>\n",
       "      <td>6.243300e+02</td>\n",
       "      <td>5.500000e+03</td>\n",
       "    </tr>\n",
       "    <tr>\n",
       "      <th>75%</th>\n",
       "      <td>1.610149e+09</td>\n",
       "      <td>1.600000e+04</td>\n",
       "      <td>4.076000e+03</td>\n",
       "      <td>56.000000</td>\n",
       "      <td>3.034090e+03</td>\n",
       "      <td>4.050000e+03</td>\n",
       "      <td>1.550000e+04</td>\n",
       "    </tr>\n",
       "    <tr>\n",
       "      <th>max</th>\n",
       "      <td>2.147476e+09</td>\n",
       "      <td>1.000000e+08</td>\n",
       "      <td>2.033899e+07</td>\n",
       "      <td>219382.000000</td>\n",
       "      <td>2.033899e+07</td>\n",
       "      <td>2.033899e+07</td>\n",
       "      <td>1.663614e+08</td>\n",
       "    </tr>\n",
       "  </tbody>\n",
       "</table>\n",
       "</div>"
      ],
      "text/plain": [
       "                 ID          goal       pledged        backers   usd pledged  \\\n",
       "count  3.786610e+05  3.786610e+05  3.786610e+05  378661.000000  3.748640e+05   \n",
       "mean   1.074731e+09  4.908079e+04  9.682979e+03     105.617476  7.036729e+03   \n",
       "std    6.190862e+08  1.183391e+06  9.563601e+04     907.185035  7.863975e+04   \n",
       "min    5.971000e+03  1.000000e-02  0.000000e+00       0.000000  0.000000e+00   \n",
       "25%    5.382635e+08  2.000000e+03  3.000000e+01       2.000000  1.698000e+01   \n",
       "50%    1.075276e+09  5.200000e+03  6.200000e+02      12.000000  3.947200e+02   \n",
       "75%    1.610149e+09  1.600000e+04  4.076000e+03      56.000000  3.034090e+03   \n",
       "max    2.147476e+09  1.000000e+08  2.033899e+07  219382.000000  2.033899e+07   \n",
       "\n",
       "       usd_pledged_real  usd_goal_real  \n",
       "count      3.786610e+05   3.786610e+05  \n",
       "mean       9.058924e+03   4.545440e+04  \n",
       "std        9.097334e+04   1.152950e+06  \n",
       "min        0.000000e+00   1.000000e-02  \n",
       "25%        3.100000e+01   2.000000e+03  \n",
       "50%        6.243300e+02   5.500000e+03  \n",
       "75%        4.050000e+03   1.550000e+04  \n",
       "max        2.033899e+07   1.663614e+08  "
      ]
     },
     "execution_count": 5,
     "metadata": {},
     "output_type": "execute_result"
    }
   ],
   "source": [
    "# 統計量表示\n",
    "df_data_csv.describe()"
   ]
  },
  {
   "cell_type": "code",
   "execution_count": 6,
   "metadata": {
    "scrolled": true
   },
   "outputs": [
    {
     "name": "stdout",
     "output_type": "stream",
     "text": [
      "ID                     0\n",
      "name                   4\n",
      "category               0\n",
      "main_category          0\n",
      "currency               0\n",
      "deadline               0\n",
      "goal                   0\n",
      "launched               0\n",
      "pledged                0\n",
      "state                  0\n",
      "backers                0\n",
      "country                0\n",
      "usd pledged         3797\n",
      "usd_pledged_real       0\n",
      "usd_goal_real          0\n",
      "dtype: int64\n"
     ]
    }
   ],
   "source": [
    "# 欠損値がないか確認\n",
    "print(df_data_csv.isnull().sum())"
   ]
  },
  {
   "cell_type": "code",
   "execution_count": 7,
   "metadata": {},
   "outputs": [],
   "source": [
    "# 説明変数に使用予定のnameのnan値の行を除いておく\n",
    "df_data_csv = df_data_csv.dropna(subset=['name'])"
   ]
  },
  {
   "cell_type": "markdown",
   "metadata": {},
   "source": [
    "まずは、今回の目標である「成功するかしないか」の二値分類にするため、目的変数stateの中身を確認する"
   ]
  },
  {
   "cell_type": "code",
   "execution_count": 8,
   "metadata": {},
   "outputs": [
    {
     "name": "stdout",
     "output_type": "stream",
     "text": [
      "failed        197716\n",
      "successful    133956\n",
      "canceled       38779\n",
      "undefined       3562\n",
      "live            2799\n",
      "suspended       1845\n",
      "Name: state, dtype: int64\n"
     ]
    },
    {
     "data": {
      "text/plain": [
       "<matplotlib.axes._subplots.AxesSubplot at 0x1a138ed160>"
      ]
     },
     "execution_count": 8,
     "metadata": {},
     "output_type": "execute_result"
    },
    {
     "data": {
      "image/png": "[encoded data removed]",
      "text/plain": [
       "<matplotlib.figure.Figure at 0x1a138ddcc0>"
      ]
     },
     "metadata": {},
     "output_type": "display_data"
    }
   ],
   "source": [
    "print(df_data_csv['state'].value_counts())\n",
    "df_data_csv['state'].value_counts().plot.bar(figsize=(4, 2))"
   ]
  },
  {
   "cell_type": "markdown",
   "metadata": {},
   "source": [
    "- failed : 失敗\n",
    "- successful : 成功\n",
    "- canceled : 中止\n",
    "- undefined : 未定義\n",
    "- live : 進行中\n",
    "- suspended : 中断\n",
    "### → 成功successfulと失敗failedだけを使用し、それ以外を取り除く"
   ]
  },
  {
   "cell_type": "code",
   "execution_count": 9,
   "metadata": {},
   "outputs": [
    {
     "data": {
      "text/plain": [
       "(331672, 15)"
      ]
     },
     "execution_count": 9,
     "metadata": {},
     "output_type": "execute_result"
    }
   ],
   "source": [
    "df_data = df_data_csv[(df_data_csv['state'] == \"failed\") | (df_data_csv['state'] == \"successful\")]\n",
    "df_data.shape"
   ]
  },
  {
   "cell_type": "markdown",
   "metadata": {},
   "source": [
    "（成功'successful' : 1, その他（'failed'）：0） に置き換える"
   ]
  },
  {
   "cell_type": "code",
   "execution_count": 10,
   "metadata": {},
   "outputs": [
    {
     "name": "stderr",
     "output_type": "stream",
     "text": [
      "/Users/giraffe/.pyenv/versions/anaconda3-5.1.0/lib/python3.6/site-packages/ipykernel_launcher.py:2: SettingWithCopyWarning: \n",
      "A value is trying to be set on a copy of a slice from a DataFrame.\n",
      "Try using .loc[row_indexer,col_indexer] = value instead\n",
      "\n",
      "See the caveats in the documentation: http://pandas.pydata.org/pandas-docs/stable/indexing.html#indexing-view-versus-copy\n",
      "  \n"
     ]
    }
   ],
   "source": [
    "# クラウドファウンディングが成功：１、失敗：０に変換\n",
    "df_data['state'] = np.where(df_data['state'] == \"successful\", 1, 0)"
   ]
  },
  {
   "cell_type": "markdown",
   "metadata": {},
   "source": [
    "使えそうな説明変数をピックアップ\n",
    "- name\n",
    "- category\n",
    "- main_category\n",
    "- state\n",
    "- country\n",
    "- usd_goal_real\n",
    "- day_diff : 資金を集められる期間( = deadline - launched)（オリジナル）\n",
    "- launch_year : 開始年(launched)（オリジナル）"
   ]
  },
  {
   "cell_type": "code",
   "execution_count": 11,
   "metadata": {},
   "outputs": [
    {
     "name": "stderr",
     "output_type": "stream",
     "text": [
      "/Users/giraffe/.pyenv/versions/anaconda3-5.1.0/lib/python3.6/site-packages/ipykernel_launcher.py:3: SettingWithCopyWarning: \n",
      "A value is trying to be set on a copy of a slice from a DataFrame.\n",
      "Try using .loc[row_indexer,col_indexer] = value instead\n",
      "\n",
      "See the caveats in the documentation: http://pandas.pydata.org/pandas-docs/stable/indexing.html#indexing-view-versus-copy\n",
      "  This is separate from the ipykernel package so we can avoid doing imports until\n",
      "/Users/giraffe/.pyenv/versions/anaconda3-5.1.0/lib/python3.6/site-packages/ipykernel_launcher.py:4: SettingWithCopyWarning: \n",
      "A value is trying to be set on a copy of a slice from a DataFrame.\n",
      "Try using .loc[row_indexer,col_indexer] = value instead\n",
      "\n",
      "See the caveats in the documentation: http://pandas.pydata.org/pandas-docs/stable/indexing.html#indexing-view-versus-copy\n",
      "  after removing the cwd from sys.path.\n",
      "/Users/giraffe/.pyenv/versions/anaconda3-5.1.0/lib/python3.6/site-packages/ipykernel_launcher.py:8: SettingWithCopyWarning: \n",
      "A value is trying to be set on a copy of a slice from a DataFrame.\n",
      "Try using .loc[row_indexer,col_indexer] = value instead\n",
      "\n",
      "See the caveats in the documentation: http://pandas.pydata.org/pandas-docs/stable/indexing.html#indexing-view-versus-copy\n",
      "  \n",
      "/Users/giraffe/.pyenv/versions/anaconda3-5.1.0/lib/python3.6/site-packages/ipykernel_launcher.py:10: SettingWithCopyWarning: \n",
      "A value is trying to be set on a copy of a slice from a DataFrame.\n",
      "Try using .loc[row_indexer,col_indexer] = value instead\n",
      "\n",
      "See the caveats in the documentation: http://pandas.pydata.org/pandas-docs/stable/indexing.html#indexing-view-versus-copy\n",
      "  # Remove the CWD from sys.path while we load stuff.\n"
     ]
    }
   ],
   "source": [
    "# 資金を集められる期間（開始日と締め切り日の差(day_diff)）が関係ありそうなので表に追加\n",
    "# 文字列データをdatetimeに変換\n",
    "df_data['deadline'] = df_data['deadline'].apply(lambda x:datetime.strptime(x[:10], \"%Y-%m-%d\"))\n",
    "df_data['launched'] = df_data['launched'].apply(lambda x:datetime.strptime(x[:10], \"%Y-%m-%d\"))\n",
    "# 日数の差\n",
    "day_diff = (df_data['deadline'] - df_data['launched']).apply(lambda x: x.days)\n",
    "# 追加\n",
    "df_data['day_diff'] = day_diff\n",
    "# 募集を行った年を追加してみる\n",
    "df_data['launch_year']=pd.to_datetime(df_data['launched'], format=\"%Y/%m/%d\").dt.year"
   ]
  },
  {
   "cell_type": "code",
   "execution_count": 12,
   "metadata": {},
   "outputs": [
    {
     "data": {
      "text/html": [
       "<div>\n",
       "<style scoped>\n",
       "    .dataframe tbody tr th:only-of-type {\n",
       "        vertical-align: middle;\n",
       "    }\n",
       "\n",
       "    .dataframe tbody tr th {\n",
       "        vertical-align: top;\n",
       "    }\n",
       "\n",
       "    .dataframe thead th {\n",
       "        text-align: right;\n",
       "    }\n",
       "</style>\n",
       "<table border=\"1\" class=\"dataframe\">\n",
       "  <thead>\n",
       "    <tr style=\"text-align: right;\">\n",
       "      <th></th>\n",
       "      <th>name</th>\n",
       "      <th>category</th>\n",
       "      <th>main_category</th>\n",
       "      <th>state</th>\n",
       "      <th>country</th>\n",
       "      <th>usd_goal_real</th>\n",
       "      <th>day_diff</th>\n",
       "    </tr>\n",
       "  </thead>\n",
       "  <tbody>\n",
       "    <tr>\n",
       "      <th>0</th>\n",
       "      <td>The Songs of Adelaide &amp; Abullah</td>\n",
       "      <td>Poetry</td>\n",
       "      <td>Publishing</td>\n",
       "      <td>0</td>\n",
       "      <td>GB</td>\n",
       "      <td>1533.95</td>\n",
       "      <td>59</td>\n",
       "    </tr>\n",
       "    <tr>\n",
       "      <th>1</th>\n",
       "      <td>Greeting From Earth: ZGAC Arts Capsule For ET</td>\n",
       "      <td>Narrative Film</td>\n",
       "      <td>Film &amp; Video</td>\n",
       "      <td>0</td>\n",
       "      <td>US</td>\n",
       "      <td>30000.00</td>\n",
       "      <td>60</td>\n",
       "    </tr>\n",
       "    <tr>\n",
       "      <th>2</th>\n",
       "      <td>Where is Hank?</td>\n",
       "      <td>Narrative Film</td>\n",
       "      <td>Film &amp; Video</td>\n",
       "      <td>0</td>\n",
       "      <td>US</td>\n",
       "      <td>45000.00</td>\n",
       "      <td>45</td>\n",
       "    </tr>\n",
       "    <tr>\n",
       "      <th>3</th>\n",
       "      <td>ToshiCapital Rekordz Needs Help to Complete Album</td>\n",
       "      <td>Music</td>\n",
       "      <td>Music</td>\n",
       "      <td>0</td>\n",
       "      <td>US</td>\n",
       "      <td>5000.00</td>\n",
       "      <td>30</td>\n",
       "    </tr>\n",
       "    <tr>\n",
       "      <th>5</th>\n",
       "      <td>Monarch Espresso Bar</td>\n",
       "      <td>Restaurants</td>\n",
       "      <td>Food</td>\n",
       "      <td>1</td>\n",
       "      <td>US</td>\n",
       "      <td>50000.00</td>\n",
       "      <td>35</td>\n",
       "    </tr>\n",
       "  </tbody>\n",
       "</table>\n",
       "</div>"
      ],
      "text/plain": [
       "                                                name        category  \\\n",
       "0                    The Songs of Adelaide & Abullah          Poetry   \n",
       "1      Greeting From Earth: ZGAC Arts Capsule For ET  Narrative Film   \n",
       "2                                     Where is Hank?  Narrative Film   \n",
       "3  ToshiCapital Rekordz Needs Help to Complete Album           Music   \n",
       "5                               Monarch Espresso Bar     Restaurants   \n",
       "\n",
       "  main_category  state country  usd_goal_real  day_diff  \n",
       "0    Publishing      0      GB        1533.95        59  \n",
       "1  Film & Video      0      US       30000.00        60  \n",
       "2  Film & Video      0      US       45000.00        45  \n",
       "3         Music      0      US        5000.00        30  \n",
       "5          Food      1      US       50000.00        35  "
      ]
     },
     "execution_count": 12,
     "metadata": {},
     "output_type": "execute_result"
    }
   ],
   "source": [
    "# 使用するカラムを選択\n",
    "# df_data = df_data[['name','category','main_category', 'state', 'country', 'usd_goal_real', 'day_diff','launch_year']]\n",
    "# launch_yearを使わない方が精度が高い\n",
    "df_data = df_data[['name','category','main_category', 'state', 'country', 'usd_goal_real', 'day_diff']]\n",
    "\n",
    "df_data.head()"
   ]
  },
  {
   "cell_type": "code",
   "execution_count": null,
   "metadata": {},
   "outputs": [],
   "source": []
  },
  {
   "cell_type": "markdown",
   "metadata": {},
   "source": [
    "### データの整理（前処理）\n",
    "\n",
    "- 欠損値Nanチェック\n",
    "- 外れ値チェック\n",
    "- カテゴリ変数をダミー変数に変換　category, main_category, country\n",
    "- カテゴリはメインカテゴリを使うか詳細なカテゴリを使うか\n",
    "- データ数が37万件と多いため、ランダムにサンプリングする"
   ]
  },
  {
   "cell_type": "code",
   "execution_count": 13,
   "metadata": {},
   "outputs": [
    {
     "name": "stdout",
     "output_type": "stream",
     "text": [
      "name             0\n",
      "category         0\n",
      "main_category    0\n",
      "state            0\n",
      "country          0\n",
      "usd_goal_real    0\n",
      "day_diff         0\n",
      "dtype: int64\n"
     ]
    }
   ],
   "source": [
    "# 欠損値がないか確認\n",
    "print(df_data.isnull().sum())"
   ]
  },
  {
   "cell_type": "code",
   "execution_count": 14,
   "metadata": {
    "scrolled": false
   },
   "outputs": [
    {
     "data": {
      "text/plain": [
       "<matplotlib.axes._subplots.AxesSubplot at 0x1a2be58208>"
      ]
     },
     "execution_count": 14,
     "metadata": {},
     "output_type": "execute_result"
    },
    {
     "data": {
      "image/png": "[encoded data removed]",
      "text/plain": [
       "<matplotlib.figure.Figure at 0x1a138d9240>"
      ]
     },
     "metadata": {},
     "output_type": "display_data"
    }
   ],
   "source": [
    "# 外れ値がないか確認\n",
    "fig, ax = plt.subplots(1,2,figsize=(12,6))\n",
    "sns.boxplot(x='state', y='usd_goal_real',  data=df_data, ax=ax[0])\n",
    "sns.boxplot(x='state', y='day_diff',  data=df_data, ax=ax[1])"
   ]
  },
  {
   "cell_type": "markdown",
   "metadata": {},
   "source": [
    "箱ひげ図より外れ値が大きいことがわかるので、usd_goal_realとday_diffの外れ値を除く"
   ]
  },
  {
   "cell_type": "code",
   "execution_count": 15,
   "metadata": {},
   "outputs": [],
   "source": [
    "# 外れ値を除く\n",
    "df_data = df_data[df_data['usd_goal_real'] < 40000]\n",
    "# df_data = df_data[df_data['day_diff'] < 1000]"
   ]
  },
  {
   "cell_type": "code",
   "execution_count": 16,
   "metadata": {},
   "outputs": [
    {
     "data": {
      "text/html": [
       "<div>\n",
       "<style scoped>\n",
       "    .dataframe tbody tr th:only-of-type {\n",
       "        vertical-align: middle;\n",
       "    }\n",
       "\n",
       "    .dataframe tbody tr th {\n",
       "        vertical-align: top;\n",
       "    }\n",
       "\n",
       "    .dataframe thead th {\n",
       "        text-align: right;\n",
       "    }\n",
       "</style>\n",
       "<table border=\"1\" class=\"dataframe\">\n",
       "  <thead>\n",
       "    <tr style=\"text-align: right;\">\n",
       "      <th></th>\n",
       "      <th>state</th>\n",
       "      <th>usd_goal_real</th>\n",
       "      <th>day_diff</th>\n",
       "    </tr>\n",
       "  </thead>\n",
       "  <tbody>\n",
       "    <tr>\n",
       "      <th>count</th>\n",
       "      <td>297201.000000</td>\n",
       "      <td>297201.000000</td>\n",
       "      <td>297201.000000</td>\n",
       "    </tr>\n",
       "    <tr>\n",
       "      <th>mean</th>\n",
       "      <td>0.431711</td>\n",
       "      <td>7712.209993</td>\n",
       "      <td>33.513730</td>\n",
       "    </tr>\n",
       "    <tr>\n",
       "      <th>std</th>\n",
       "      <td>0.495316</td>\n",
       "      <td>8355.439676</td>\n",
       "      <td>12.658393</td>\n",
       "    </tr>\n",
       "    <tr>\n",
       "      <th>min</th>\n",
       "      <td>0.000000</td>\n",
       "      <td>0.010000</td>\n",
       "      <td>1.000000</td>\n",
       "    </tr>\n",
       "    <tr>\n",
       "      <th>25%</th>\n",
       "      <td>0.000000</td>\n",
       "      <td>1644.140000</td>\n",
       "      <td>30.000000</td>\n",
       "    </tr>\n",
       "    <tr>\n",
       "      <th>50%</th>\n",
       "      <td>0.000000</td>\n",
       "      <td>5000.000000</td>\n",
       "      <td>30.000000</td>\n",
       "    </tr>\n",
       "    <tr>\n",
       "      <th>75%</th>\n",
       "      <td>1.000000</td>\n",
       "      <td>10000.000000</td>\n",
       "      <td>35.000000</td>\n",
       "    </tr>\n",
       "    <tr>\n",
       "      <th>max</th>\n",
       "      <td>1.000000</td>\n",
       "      <td>39999.000000</td>\n",
       "      <td>92.000000</td>\n",
       "    </tr>\n",
       "  </tbody>\n",
       "</table>\n",
       "</div>"
      ],
      "text/plain": [
       "               state  usd_goal_real       day_diff\n",
       "count  297201.000000  297201.000000  297201.000000\n",
       "mean        0.431711    7712.209993      33.513730\n",
       "std         0.495316    8355.439676      12.658393\n",
       "min         0.000000       0.010000       1.000000\n",
       "25%         0.000000    1644.140000      30.000000\n",
       "50%         0.000000    5000.000000      30.000000\n",
       "75%         1.000000   10000.000000      35.000000\n",
       "max         1.000000   39999.000000      92.000000"
      ]
     },
     "execution_count": 16,
     "metadata": {},
     "output_type": "execute_result"
    }
   ],
   "source": [
    "# 統計量表示\n",
    "df_data.describe()"
   ]
  },
  {
   "cell_type": "code",
   "execution_count": 17,
   "metadata": {},
   "outputs": [
    {
     "data": {
      "text/plain": [
       "<matplotlib.axes._subplots.AxesSubplot at 0x1a14b93550>"
      ]
     },
     "execution_count": 17,
     "metadata": {},
     "output_type": "execute_result"
    },
    {
     "data": {
      "image/png": "[encoded data removed]",
      "text/plain": [
       "<matplotlib.figure.Figure at 0x1a14b33f60>"
      ]
     },
     "metadata": {},
     "output_type": "display_data"
    }
   ],
   "source": [
    "# 箱ひげ図をもう一度表示\n",
    "fig, ax = plt.subplots(1,2,figsize=(12,6))\n",
    "sns.boxplot(x='state', y='usd_goal_real',  data=df_data, ax=ax[0])\n",
    "sns.boxplot(x='state', y='day_diff',  data=df_data, ax=ax[1])"
   ]
  },
  {
   "cell_type": "code",
   "execution_count": 18,
   "metadata": {
    "scrolled": true
   },
   "outputs": [
    {
     "name": "stdout",
     "output_type": "stream",
     "text": [
      "Product Design       15439\n",
      "Documentary          12063\n",
      "Music                12000\n",
      "Shorts               11190\n",
      "Tabletop Games       11045\n",
      "Food                  9195\n",
      "Fiction               7900\n",
      "Video Games           7198\n",
      "Film & Video          7189\n",
      "Art                   7104\n",
      "Fashion               7057\n",
      "Nonfiction            7025\n",
      "Theater               6379\n",
      "Rock                  6126\n",
      "Children's Books      6062\n",
      "Apparel               5739\n",
      "Indie Rock            5277\n",
      "Photography           5097\n",
      "Webseries             4714\n",
      "Publishing            4670\n",
      "Comics                4447\n",
      "Country & Folk        4164\n",
      "Crafts                4005\n",
      "Apps                  3859\n",
      "Technology            3804\n",
      "Narrative Film        3677\n",
      "Web                   3418\n",
      "Hip-Hop               3280\n",
      "Design                3112\n",
      "Pop                   2950\n",
      "                     ...  \n",
      "Space Exploration      204\n",
      "Couture                201\n",
      "Civic Design           198\n",
      "Printing               191\n",
      "Stationery             188\n",
      "Puzzles                188\n",
      "Video Art              166\n",
      "Makerspaces            164\n",
      "Knitting               162\n",
      "Bacon                  159\n",
      "Photo                  153\n",
      "Crochet                150\n",
      "Fabrication Tools      142\n",
      "Workshops              139\n",
      "Romance                131\n",
      "Translations           124\n",
      "Glass                  116\n",
      "Latin                  114\n",
      "Movie Theaters         110\n",
      "Pet Fashion            109\n",
      "Embroidery             100\n",
      "Typography              93\n",
      "Pottery                 86\n",
      "Weaving                 79\n",
      "Quilts                  71\n",
      "Residencies             66\n",
      "Letterpress             45\n",
      "Chiptune                31\n",
      "Literary Spaces         17\n",
      "Taxidermy               10\n",
      "Name: category, Length: 159, dtype: int64\n",
      "Film & Video    48991\n",
      "Music           44433\n",
      "Publishing      33936\n",
      "Games           24797\n",
      "Art             24487\n",
      "Design          21313\n",
      "Technology      18878\n",
      "Food            18550\n",
      "Fashion         18420\n",
      "Theater          9720\n",
      "Comics           9596\n",
      "Photography      9339\n",
      "Crafts           7533\n",
      "Journalism       3728\n",
      "Dance            3480\n",
      "Name: main_category, dtype: int64\n"
     ]
    }
   ],
   "source": [
    "# カテゴリーについて、メインカテゴリを使うか詳細なカテゴリを使うか\n",
    "print(df_data['category'].value_counts())\n",
    "# 159種\n",
    "print(df_data['main_category'].value_counts())\n",
    "# 15種\n",
    "#  →　種類の少ないmain_categoryを使用してみる"
   ]
  },
  {
   "cell_type": "code",
   "execution_count": 19,
   "metadata": {},
   "outputs": [
    {
     "data": {
      "text/plain": [
       "<matplotlib.axes._subplots.AxesSubplot at 0x1a14bb5470>"
      ]
     },
     "execution_count": 19,
     "metadata": {},
     "output_type": "execute_result"
    },
    {
     "data": {
      "image/png": "[encoded data removed]",
      "text/plain": [
       "<matplotlib.figure.Figure at 0x1a13ef6160>"
      ]
     },
     "metadata": {},
     "output_type": "display_data"
    }
   ],
   "source": [
    "df_data['main_category'].value_counts().plot.bar(figsize=(8, 3))"
   ]
  },
  {
   "cell_type": "code",
   "execution_count": 20,
   "metadata": {},
   "outputs": [
    {
     "name": "stdout",
     "output_type": "stream",
     "text": [
      "state=1の時のmain_category毎のカウント\n"
     ]
    },
    {
     "data": {
      "text/plain": [
       "<matplotlib.axes._subplots.AxesSubplot at 0x1a16bc6160>"
      ]
     },
     "execution_count": 20,
     "metadata": {},
     "output_type": "execute_result"
    },
    {
     "data": {
      "image/png": "[encoded data removed]",
      "text/plain": [
       "<matplotlib.figure.Figure at 0x1a14bb5b70>"
      ]
     },
     "metadata": {},
     "output_type": "display_data"
    }
   ],
   "source": [
    "df_data_1 = df_data[df_data['state']==1] \n",
    "print(\"state=1の時のmain_category毎のカウント\")\n",
    "df_data_1['main_category'].value_counts().plot.bar(figsize=(8, 3))"
   ]
  },
  {
   "cell_type": "code",
   "execution_count": null,
   "metadata": {},
   "outputs": [],
   "source": []
  },
  {
   "cell_type": "code",
   "execution_count": 21,
   "metadata": {},
   "outputs": [
    {
     "data": {
      "text/html": [
       "<div>\n",
       "<style scoped>\n",
       "    .dataframe tbody tr th:only-of-type {\n",
       "        vertical-align: middle;\n",
       "    }\n",
       "\n",
       "    .dataframe tbody tr th {\n",
       "        vertical-align: top;\n",
       "    }\n",
       "\n",
       "    .dataframe thead th {\n",
       "        text-align: right;\n",
       "    }\n",
       "</style>\n",
       "<table border=\"1\" class=\"dataframe\">\n",
       "  <thead>\n",
       "    <tr style=\"text-align: right;\">\n",
       "      <th></th>\n",
       "      <th>name</th>\n",
       "      <th>state</th>\n",
       "      <th>country</th>\n",
       "      <th>usd_goal_real</th>\n",
       "      <th>day_diff</th>\n",
       "      <th>Art</th>\n",
       "      <th>Comics</th>\n",
       "      <th>Crafts</th>\n",
       "      <th>Dance</th>\n",
       "      <th>Design</th>\n",
       "      <th>Fashion</th>\n",
       "      <th>Film &amp; Video</th>\n",
       "      <th>Food</th>\n",
       "      <th>Games</th>\n",
       "      <th>Journalism</th>\n",
       "      <th>Music</th>\n",
       "      <th>Photography</th>\n",
       "      <th>Publishing</th>\n",
       "      <th>Technology</th>\n",
       "      <th>Theater</th>\n",
       "    </tr>\n",
       "  </thead>\n",
       "  <tbody>\n",
       "    <tr>\n",
       "      <th>0</th>\n",
       "      <td>The Songs of Adelaide &amp; Abullah</td>\n",
       "      <td>0</td>\n",
       "      <td>GB</td>\n",
       "      <td>1533.95</td>\n",
       "      <td>59</td>\n",
       "      <td>0</td>\n",
       "      <td>0</td>\n",
       "      <td>0</td>\n",
       "      <td>0</td>\n",
       "      <td>0</td>\n",
       "      <td>0</td>\n",
       "      <td>0</td>\n",
       "      <td>0</td>\n",
       "      <td>0</td>\n",
       "      <td>0</td>\n",
       "      <td>0</td>\n",
       "      <td>0</td>\n",
       "      <td>1</td>\n",
       "      <td>0</td>\n",
       "      <td>0</td>\n",
       "    </tr>\n",
       "    <tr>\n",
       "      <th>1</th>\n",
       "      <td>Greeting From Earth: ZGAC Arts Capsule For ET</td>\n",
       "      <td>0</td>\n",
       "      <td>US</td>\n",
       "      <td>30000.00</td>\n",
       "      <td>60</td>\n",
       "      <td>0</td>\n",
       "      <td>0</td>\n",
       "      <td>0</td>\n",
       "      <td>0</td>\n",
       "      <td>0</td>\n",
       "      <td>0</td>\n",
       "      <td>1</td>\n",
       "      <td>0</td>\n",
       "      <td>0</td>\n",
       "      <td>0</td>\n",
       "      <td>0</td>\n",
       "      <td>0</td>\n",
       "      <td>0</td>\n",
       "      <td>0</td>\n",
       "      <td>0</td>\n",
       "    </tr>\n",
       "    <tr>\n",
       "      <th>3</th>\n",
       "      <td>ToshiCapital Rekordz Needs Help to Complete Album</td>\n",
       "      <td>0</td>\n",
       "      <td>US</td>\n",
       "      <td>5000.00</td>\n",
       "      <td>30</td>\n",
       "      <td>0</td>\n",
       "      <td>0</td>\n",
       "      <td>0</td>\n",
       "      <td>0</td>\n",
       "      <td>0</td>\n",
       "      <td>0</td>\n",
       "      <td>0</td>\n",
       "      <td>0</td>\n",
       "      <td>0</td>\n",
       "      <td>0</td>\n",
       "      <td>1</td>\n",
       "      <td>0</td>\n",
       "      <td>0</td>\n",
       "      <td>0</td>\n",
       "      <td>0</td>\n",
       "    </tr>\n",
       "    <tr>\n",
       "      <th>6</th>\n",
       "      <td>Support Solar Roasted Coffee &amp; Green Energy!  ...</td>\n",
       "      <td>1</td>\n",
       "      <td>US</td>\n",
       "      <td>1000.00</td>\n",
       "      <td>20</td>\n",
       "      <td>0</td>\n",
       "      <td>0</td>\n",
       "      <td>0</td>\n",
       "      <td>0</td>\n",
       "      <td>0</td>\n",
       "      <td>0</td>\n",
       "      <td>0</td>\n",
       "      <td>1</td>\n",
       "      <td>0</td>\n",
       "      <td>0</td>\n",
       "      <td>0</td>\n",
       "      <td>0</td>\n",
       "      <td>0</td>\n",
       "      <td>0</td>\n",
       "      <td>0</td>\n",
       "    </tr>\n",
       "    <tr>\n",
       "      <th>7</th>\n",
       "      <td>Chaser Strips. Our Strips make Shots their B*tch!</td>\n",
       "      <td>0</td>\n",
       "      <td>US</td>\n",
       "      <td>25000.00</td>\n",
       "      <td>45</td>\n",
       "      <td>0</td>\n",
       "      <td>0</td>\n",
       "      <td>0</td>\n",
       "      <td>0</td>\n",
       "      <td>0</td>\n",
       "      <td>0</td>\n",
       "      <td>0</td>\n",
       "      <td>1</td>\n",
       "      <td>0</td>\n",
       "      <td>0</td>\n",
       "      <td>0</td>\n",
       "      <td>0</td>\n",
       "      <td>0</td>\n",
       "      <td>0</td>\n",
       "      <td>0</td>\n",
       "    </tr>\n",
       "  </tbody>\n",
       "</table>\n",
       "</div>"
      ],
      "text/plain": [
       "                                                name  state country  \\\n",
       "0                    The Songs of Adelaide & Abullah      0      GB   \n",
       "1      Greeting From Earth: ZGAC Arts Capsule For ET      0      US   \n",
       "3  ToshiCapital Rekordz Needs Help to Complete Album      0      US   \n",
       "6  Support Solar Roasted Coffee & Green Energy!  ...      1      US   \n",
       "7  Chaser Strips. Our Strips make Shots their B*tch!      0      US   \n",
       "\n",
       "   usd_goal_real  day_diff  Art  Comics  Crafts  Dance  Design  Fashion  \\\n",
       "0        1533.95        59    0       0       0      0       0        0   \n",
       "1       30000.00        60    0       0       0      0       0        0   \n",
       "3        5000.00        30    0       0       0      0       0        0   \n",
       "6        1000.00        20    0       0       0      0       0        0   \n",
       "7       25000.00        45    0       0       0      0       0        0   \n",
       "\n",
       "   Film & Video  Food  Games  Journalism  Music  Photography  Publishing  \\\n",
       "0             0     0      0           0      0            0           1   \n",
       "1             1     0      0           0      0            0           0   \n",
       "3             0     0      0           0      1            0           0   \n",
       "6             0     1      0           0      0            0           0   \n",
       "7             0     1      0           0      0            0           0   \n",
       "\n",
       "   Technology  Theater  \n",
       "0           0        0  \n",
       "1           0        0  \n",
       "3           0        0  \n",
       "6           0        0  \n",
       "7           0        0  "
      ]
     },
     "execution_count": 21,
     "metadata": {},
     "output_type": "execute_result"
    }
   ],
   "source": [
    "# カテゴリ変数をダミー変数に変換（One-Hotベクトル）\n",
    "\n",
    "# category\n",
    "df_data = pd.concat([df_data, pd.get_dummies(df_data['main_category'])], axis=1)\n",
    "df_data = df_data.drop(['category','main_category'], axis=1)\n",
    "df_data.head()"
   ]
  },
  {
   "cell_type": "markdown",
   "metadata": {},
   "source": [
    "次にcountryについて検討する"
   ]
  },
  {
   "cell_type": "code",
   "execution_count": 22,
   "metadata": {},
   "outputs": [
    {
     "name": "stdout",
     "output_type": "stream",
     "text": [
      "country毎のカウント\n"
     ]
    },
    {
     "data": {
      "text/plain": [
       "<matplotlib.axes._subplots.AxesSubplot at 0x1a193f29e8>"
      ]
     },
     "execution_count": 22,
     "metadata": {},
     "output_type": "execute_result"
    },
    {
     "data": {
      "image/png": "[encoded data removed]",
      "text/plain": [
       "<matplotlib.figure.Figure at 0x1a2be5e780>"
      ]
     },
     "metadata": {},
     "output_type": "display_data"
    }
   ],
   "source": [
    "print(\"country毎のカウント\")\n",
    "df_data['country'].value_counts().plot.bar(figsize=(8, 3))"
   ]
  },
  {
   "cell_type": "code",
   "execution_count": 23,
   "metadata": {},
   "outputs": [
    {
     "name": "stdout",
     "output_type": "stream",
     "text": [
      "state=1の時のcountry毎のカウント\n"
     ]
    },
    {
     "data": {
      "text/plain": [
       "<matplotlib.axes._subplots.AxesSubplot at 0x1a19920780>"
      ]
     },
     "execution_count": 23,
     "metadata": {},
     "output_type": "execute_result"
    },
    {
     "data": {
      "image/png": "[encoded data removed]",
      "text/plain": [
       "<matplotlib.figure.Figure at 0x1a19930518>"
      ]
     },
     "metadata": {},
     "output_type": "display_data"
    }
   ],
   "source": [
    "print(\"state=1の時のcountry毎のカウント\")\n",
    "df_data['country'].value_counts().plot.bar(figsize=(8, 3))\n",
    "df_data_1['country'].value_counts().plot.bar(figsize=(8, 3))"
   ]
  },
  {
   "cell_type": "markdown",
   "metadata": {},
   "source": [
    "→　USがデータの大部分を占めていることがわかる"
   ]
  },
  {
   "cell_type": "code",
   "execution_count": 24,
   "metadata": {
    "scrolled": true
   },
   "outputs": [
    {
     "data": {
      "text/html": [
       "<div>\n",
       "<style scoped>\n",
       "    .dataframe tbody tr th:only-of-type {\n",
       "        vertical-align: middle;\n",
       "    }\n",
       "\n",
       "    .dataframe tbody tr th {\n",
       "        vertical-align: top;\n",
       "    }\n",
       "\n",
       "    .dataframe thead th {\n",
       "        text-align: right;\n",
       "    }\n",
       "</style>\n",
       "<table border=\"1\" class=\"dataframe\">\n",
       "  <thead>\n",
       "    <tr style=\"text-align: right;\">\n",
       "      <th></th>\n",
       "      <th>name</th>\n",
       "      <th>state</th>\n",
       "      <th>usd_goal_real</th>\n",
       "      <th>day_diff</th>\n",
       "      <th>Art</th>\n",
       "      <th>Comics</th>\n",
       "      <th>Crafts</th>\n",
       "      <th>Dance</th>\n",
       "      <th>Design</th>\n",
       "      <th>Fashion</th>\n",
       "      <th>...</th>\n",
       "      <th>JP</th>\n",
       "      <th>LU</th>\n",
       "      <th>MX</th>\n",
       "      <th>N,0\"</th>\n",
       "      <th>NL</th>\n",
       "      <th>NO</th>\n",
       "      <th>NZ</th>\n",
       "      <th>SE</th>\n",
       "      <th>SG</th>\n",
       "      <th>US</th>\n",
       "    </tr>\n",
       "  </thead>\n",
       "  <tbody>\n",
       "    <tr>\n",
       "      <th>0</th>\n",
       "      <td>The Songs of Adelaide &amp; Abullah</td>\n",
       "      <td>0</td>\n",
       "      <td>1533.95</td>\n",
       "      <td>59</td>\n",
       "      <td>0</td>\n",
       "      <td>0</td>\n",
       "      <td>0</td>\n",
       "      <td>0</td>\n",
       "      <td>0</td>\n",
       "      <td>0</td>\n",
       "      <td>...</td>\n",
       "      <td>0</td>\n",
       "      <td>0</td>\n",
       "      <td>0</td>\n",
       "      <td>0</td>\n",
       "      <td>0</td>\n",
       "      <td>0</td>\n",
       "      <td>0</td>\n",
       "      <td>0</td>\n",
       "      <td>0</td>\n",
       "      <td>0</td>\n",
       "    </tr>\n",
       "    <tr>\n",
       "      <th>1</th>\n",
       "      <td>Greeting From Earth: ZGAC Arts Capsule For ET</td>\n",
       "      <td>0</td>\n",
       "      <td>30000.00</td>\n",
       "      <td>60</td>\n",
       "      <td>0</td>\n",
       "      <td>0</td>\n",
       "      <td>0</td>\n",
       "      <td>0</td>\n",
       "      <td>0</td>\n",
       "      <td>0</td>\n",
       "      <td>...</td>\n",
       "      <td>0</td>\n",
       "      <td>0</td>\n",
       "      <td>0</td>\n",
       "      <td>0</td>\n",
       "      <td>0</td>\n",
       "      <td>0</td>\n",
       "      <td>0</td>\n",
       "      <td>0</td>\n",
       "      <td>0</td>\n",
       "      <td>1</td>\n",
       "    </tr>\n",
       "    <tr>\n",
       "      <th>3</th>\n",
       "      <td>ToshiCapital Rekordz Needs Help to Complete Album</td>\n",
       "      <td>0</td>\n",
       "      <td>5000.00</td>\n",
       "      <td>30</td>\n",
       "      <td>0</td>\n",
       "      <td>0</td>\n",
       "      <td>0</td>\n",
       "      <td>0</td>\n",
       "      <td>0</td>\n",
       "      <td>0</td>\n",
       "      <td>...</td>\n",
       "      <td>0</td>\n",
       "      <td>0</td>\n",
       "      <td>0</td>\n",
       "      <td>0</td>\n",
       "      <td>0</td>\n",
       "      <td>0</td>\n",
       "      <td>0</td>\n",
       "      <td>0</td>\n",
       "      <td>0</td>\n",
       "      <td>1</td>\n",
       "    </tr>\n",
       "    <tr>\n",
       "      <th>6</th>\n",
       "      <td>Support Solar Roasted Coffee &amp; Green Energy!  ...</td>\n",
       "      <td>1</td>\n",
       "      <td>1000.00</td>\n",
       "      <td>20</td>\n",
       "      <td>0</td>\n",
       "      <td>0</td>\n",
       "      <td>0</td>\n",
       "      <td>0</td>\n",
       "      <td>0</td>\n",
       "      <td>0</td>\n",
       "      <td>...</td>\n",
       "      <td>0</td>\n",
       "      <td>0</td>\n",
       "      <td>0</td>\n",
       "      <td>0</td>\n",
       "      <td>0</td>\n",
       "      <td>0</td>\n",
       "      <td>0</td>\n",
       "      <td>0</td>\n",
       "      <td>0</td>\n",
       "      <td>1</td>\n",
       "    </tr>\n",
       "    <tr>\n",
       "      <th>7</th>\n",
       "      <td>Chaser Strips. Our Strips make Shots their B*tch!</td>\n",
       "      <td>0</td>\n",
       "      <td>25000.00</td>\n",
       "      <td>45</td>\n",
       "      <td>0</td>\n",
       "      <td>0</td>\n",
       "      <td>0</td>\n",
       "      <td>0</td>\n",
       "      <td>0</td>\n",
       "      <td>0</td>\n",
       "      <td>...</td>\n",
       "      <td>0</td>\n",
       "      <td>0</td>\n",
       "      <td>0</td>\n",
       "      <td>0</td>\n",
       "      <td>0</td>\n",
       "      <td>0</td>\n",
       "      <td>0</td>\n",
       "      <td>0</td>\n",
       "      <td>0</td>\n",
       "      <td>1</td>\n",
       "    </tr>\n",
       "  </tbody>\n",
       "</table>\n",
       "<p>5 rows × 42 columns</p>\n",
       "</div>"
      ],
      "text/plain": [
       "                                                name  state  usd_goal_real  \\\n",
       "0                    The Songs of Adelaide & Abullah      0        1533.95   \n",
       "1      Greeting From Earth: ZGAC Arts Capsule For ET      0       30000.00   \n",
       "3  ToshiCapital Rekordz Needs Help to Complete Album      0        5000.00   \n",
       "6  Support Solar Roasted Coffee & Green Energy!  ...      1        1000.00   \n",
       "7  Chaser Strips. Our Strips make Shots their B*tch!      0       25000.00   \n",
       "\n",
       "   day_diff  Art  Comics  Crafts  Dance  Design  Fashion ...  JP  LU  MX  \\\n",
       "0        59    0       0       0      0       0        0 ...   0   0   0   \n",
       "1        60    0       0       0      0       0        0 ...   0   0   0   \n",
       "3        30    0       0       0      0       0        0 ...   0   0   0   \n",
       "6        20    0       0       0      0       0        0 ...   0   0   0   \n",
       "7        45    0       0       0      0       0        0 ...   0   0   0   \n",
       "\n",
       "   N,0\"  NL  NO  NZ  SE  SG  US  \n",
       "0     0   0   0   0   0   0   0  \n",
       "1     0   0   0   0   0   0   1  \n",
       "3     0   0   0   0   0   0   1  \n",
       "6     0   0   0   0   0   0   1  \n",
       "7     0   0   0   0   0   0   1  \n",
       "\n",
       "[5 rows x 42 columns]"
      ]
     },
     "execution_count": 24,
     "metadata": {},
     "output_type": "execute_result"
    }
   ],
   "source": [
    "# country\n",
    "# df_data = pd.concat([df_data, pd.get_dummies(df_data['country'])['US']], axis=1)\n",
    "df_data = pd.concat([df_data, pd.get_dummies(df_data['country'])], axis=1)\n",
    "\n",
    "df_data = df_data.drop(['country'], axis=1)\n",
    "df_data.head()"
   ]
  },
  {
   "cell_type": "markdown",
   "metadata": {},
   "source": [
    "nameについて検討する"
   ]
  },
  {
   "cell_type": "code",
   "execution_count": 25,
   "metadata": {
    "scrolled": true
   },
   "outputs": [
    {
     "data": {
      "text/plain": [
       "New EP/Music Development                                                          15\n",
       "Music Video                                                                       11\n",
       "New EP / Music Development                                                        10\n",
       "Debut Album                                                                        9\n",
       "Pizza                                                                              8\n",
       "Reflections                                                                        8\n",
       "Pasta Salad                                                                        7\n",
       "A Midsummer Night's Dream                                                          7\n",
       "Chocolate Chip Cookies                                                             6\n",
       "Through My Eyes                                                                    6\n",
       "The Awakening                                                                      6\n",
       "Guacamole                                                                          6\n",
       "Romeo & Juliet                                                                     6\n",
       "The Other Side                                                                     6\n",
       "Wonderland                                                                         5\n",
       "My First Album                                                                     5\n",
       "Artist Residency at the Vermont Studio Center                                      5\n",
       "Bacon                                                                              5\n",
       "Redemption                                                                         5\n",
       "Nocturne                                                                           5\n",
       "Alone                                                                              5\n",
       "Thicker Than Water                                                                 5\n",
       "Macaroni Salad                                                                     5\n",
       "The Wall                                                                           5\n",
       "Legacy                                                                             5\n",
       "LOVE                                                                               5\n",
       "The Journey                                                                        5\n",
       "Aftermath                                                                          5\n",
       "The Bridge                                                                         5\n",
       "Homemade Pizza                                                                     5\n",
       "                                                                                  ..\n",
       "Peyton Vega's EP funding!                                                          1\n",
       "Erin Atlantis Book One                                                             1\n",
       "Spread Good Apparel                                                                1\n",
       "Djamga                                                                             1\n",
       "Lighting Up The Night With Scents                                                  1\n",
       "The Natural Hair Project                                                           1\n",
       "Catron Worship Project                                                             1\n",
       "Bloody Island - Horror Dark Comedy Feature Film                                    1\n",
       "BLOWN OFFSHORE Postcards & Apparel                                                 1\n",
       "Gaucho Grill                                                                       1\n",
       "Olamide Short Film                                                                 1\n",
       "@SheLovesMeechie Dance Video to \"Luongo\"!!!                                        1\n",
       "100 Greatest Games of All Time                                                     1\n",
       "No Handoffs: A Film About Running 202 miles in 50 hours                            1\n",
       "ZipTank - World's most useful Top                                                  1\n",
       "The Men of Last Call Present: The Traditional                                      1\n",
       "Invasive: A Novel - Editing Fundraising                                            1\n",
       "Mine Upgrade                                                                       1\n",
       "STORYTELLING | the movie                                                           1\n",
       "\"Gay For Pay\" and \"I Only F*ck Stupid Whores\" Play Fest                            1\n",
       "Surrendering to Serendipity                                                        1\n",
       "Galiwango, Obulamu Bw'ekisodde, An animated Mountain Gorilla Conservation Film     1\n",
       "Mosaic Stock                                                                       1\n",
       "Free RPG Day Pathfinder Adventure from Gaming Paper                                1\n",
       "2014 Fine Art Photography Calendar                                                 1\n",
       "English Seaside                                                                    1\n",
       "Hard Hat Art                                                                       1\n",
       "Hua Mulan--A Bilingual EBook                                                       1\n",
       "backeast music co-op                                                               1\n",
       "Pomodoro Penguin and the Christmas Countdown Picture Book                          1\n",
       "Name: name, Length: 295444, dtype: int64"
      ]
     },
     "execution_count": 25,
     "metadata": {},
     "output_type": "execute_result"
    }
   ],
   "source": [
    "df_data['name'].value_counts()"
   ]
  },
  {
   "cell_type": "code",
   "execution_count": 26,
   "metadata": {
    "scrolled": true
   },
   "outputs": [
    {
     "name": "stdout",
     "output_type": "stream",
     "text": [
      "state=1の時のname毎のカウント\n"
     ]
    },
    {
     "data": {
      "text/plain": [
       "Reflections                                                    5\n",
       "Artist Residency at the Vermont Studio Center                  5\n",
       "Debut Album                                                    5\n",
       "A Midsummer Night's Dream                                      5\n",
       "Nocturne                                                       4\n",
       "MFA Thesis Exhibition                                          4\n",
       "Gruesome Playground Injuries                                   4\n",
       "Terminus                                                       3\n",
       "Love Letters                                                   3\n",
       "Thicker Than Water                                             3\n",
       "The End                                                        3\n",
       "Collision                                                      3\n",
       "Slow Burn                                                      3\n",
       "Chocolate Chip Cookies                                         3\n",
       "Make-Believe                                                   3\n",
       "Ashes                                                          3\n",
       "Fly Away                                                       3\n",
       "Memento Mori                                                   3\n",
       "Beauty and the Beast                                           3\n",
       "In Transit                                                     3\n",
       "The Letter                                                     3\n",
       "Voiceless                                                      3\n",
       "Out There                                                      3\n",
       "Runaway                                                        3\n",
       "Aftermath                                                      3\n",
       "Friction                                                       3\n",
       "Arctic Circle Expedition                                       3\n",
       "Dreamer Heroes                                                 3\n",
       "Departure                                                      3\n",
       "Alone                                                          3\n",
       "                                                              ..\n",
       "Building An Elder God                                          1\n",
       "TMULE Folk Rock Songs & Poetry Book                            1\n",
       "Mizu | The Future of Towels                                    1\n",
       "New EP / Music Development                                     1\n",
       "Soap On and So Forth: A handcrafted bath experience.           1\n",
       "RAPTOR COMMAND - A Heavy Metal Tribute to Elon Musk            1\n",
       "House BROKEN Clothing Line                                     1\n",
       "Rivalry needs a stand for PAX Australia 2015                   1\n",
       "Brandeis Starving Artists is recording an A Cappella CD!!!     1\n",
       "ECEL's Quest to make it's own Argentinean Leathers             1\n",
       "One Long Journey                                               1\n",
       "Absence of Identity                                            1\n",
       "Bicycles                                                       1\n",
       "Documenting the Story of Middle East Peace                     1\n",
       "\"Vision\" - New Album - Brent Brown                             1\n",
       "NextGen™: The First Chef's Knife to Perfectly Fit Your Hand    1\n",
       "Tootie Bugs gets bigger!                                       1\n",
       "ARCANA: An Exhibition of Tarot                                 1\n",
       "6 hours left: The coolest app for DIYers & Makers              1\n",
       "SpeedGrip Socks: The Sock Remastered For Supreme Traction      1\n",
       "Lucy's Cabin - Handmade Soy Candles                            1\n",
       "RED UTOPIA: communist party offices around the world.          1\n",
       "Guldagergaard                                                  1\n",
       "Live fra Lolland: Kærester 2.0                                 1\n",
       "DREAMERS - Boston University MFA Thesis Film                   1\n",
       "Does it Hurt When I Do This?                                   1\n",
       "Weald at The Finborough Theatre                                1\n",
       "JammerUp: The Roller Derby Board Game                          1\n",
       "AdventureX 2017: The Narrative Games Convention                1\n",
       "Pomodoro Penguin and the Christmas Countdown Picture Book      1\n",
       "Name: name, Length: 127925, dtype: int64"
      ]
     },
     "execution_count": 26,
     "metadata": {},
     "output_type": "execute_result"
    }
   ],
   "source": [
    "print(\"state=1の時のname毎のカウント\")\n",
    "df_data_1['name'].value_counts()"
   ]
  },
  {
   "cell_type": "code",
   "execution_count": 27,
   "metadata": {},
   "outputs": [
    {
     "name": "stderr",
     "output_type": "stream",
     "text": [
      "/Users/giraffe/.pyenv/versions/anaconda3-5.1.0/lib/python3.6/site-packages/ipykernel_launcher.py:4: SettingWithCopyWarning: \n",
      "A value is trying to be set on a copy of a slice from a DataFrame.\n",
      "Try using .loc[row_indexer,col_indexer] = value instead\n",
      "\n",
      "See the caveats in the documentation: http://pandas.pydata.org/pandas-docs/stable/indexing.html#indexing-view-versus-copy\n",
      "  after removing the cwd from sys.path.\n"
     ]
    },
    {
     "data": {
      "text/html": [
       "<div>\n",
       "<style scoped>\n",
       "    .dataframe tbody tr th:only-of-type {\n",
       "        vertical-align: middle;\n",
       "    }\n",
       "\n",
       "    .dataframe tbody tr th {\n",
       "        vertical-align: top;\n",
       "    }\n",
       "\n",
       "    .dataframe thead th {\n",
       "        text-align: right;\n",
       "    }\n",
       "</style>\n",
       "<table border=\"1\" class=\"dataframe\">\n",
       "  <thead>\n",
       "    <tr style=\"text-align: right;\">\n",
       "      <th></th>\n",
       "      <th>name</th>\n",
       "      <th>state</th>\n",
       "    </tr>\n",
       "  </thead>\n",
       "  <tbody>\n",
       "    <tr>\n",
       "      <th>0</th>\n",
       "      <td>[The, Songs, of, Adelaide, &amp;, Abullah]</td>\n",
       "      <td>0</td>\n",
       "    </tr>\n",
       "    <tr>\n",
       "      <th>1</th>\n",
       "      <td>[Greeting, From, Earth:, ZGAC, Arts, Capsule, ...</td>\n",
       "      <td>0</td>\n",
       "    </tr>\n",
       "    <tr>\n",
       "      <th>3</th>\n",
       "      <td>[ToshiCapital, Rekordz, Needs, Help, to, Compl...</td>\n",
       "      <td>0</td>\n",
       "    </tr>\n",
       "    <tr>\n",
       "      <th>6</th>\n",
       "      <td>[Support, Solar, Roasted, Coffee, &amp;, Green, En...</td>\n",
       "      <td>1</td>\n",
       "    </tr>\n",
       "    <tr>\n",
       "      <th>7</th>\n",
       "      <td>[Chaser, Strips., Our, Strips, make, Shots, th...</td>\n",
       "      <td>0</td>\n",
       "    </tr>\n",
       "    <tr>\n",
       "      <th>10</th>\n",
       "      <td>[Of, Jesus, and, Madmen]</td>\n",
       "      <td>0</td>\n",
       "    </tr>\n",
       "    <tr>\n",
       "      <th>11</th>\n",
       "      <td>[Lisa, Lim, New, CD!]</td>\n",
       "      <td>1</td>\n",
       "    </tr>\n",
       "    <tr>\n",
       "      <th>12</th>\n",
       "      <td>[The, Cottage, Market]</td>\n",
       "      <td>0</td>\n",
       "    </tr>\n",
       "    <tr>\n",
       "      <th>14</th>\n",
       "      <td>[Tombstone:, Old, West, tabletop, game, and, m...</td>\n",
       "      <td>1</td>\n",
       "    </tr>\n",
       "    <tr>\n",
       "      <th>15</th>\n",
       "      <td>[Survival, Rings]</td>\n",
       "      <td>0</td>\n",
       "    </tr>\n",
       "    <tr>\n",
       "      <th>16</th>\n",
       "      <td>[The, Beard]</td>\n",
       "      <td>0</td>\n",
       "    </tr>\n",
       "    <tr>\n",
       "      <th>17</th>\n",
       "      <td>[Notes, From, London:, Above, &amp;, Below]</td>\n",
       "      <td>0</td>\n",
       "    </tr>\n",
       "    <tr>\n",
       "      <th>18</th>\n",
       "      <td>[Mike, Corey's, Darkness, &amp;, Light, Album]</td>\n",
       "      <td>1</td>\n",
       "    </tr>\n",
       "    <tr>\n",
       "      <th>19</th>\n",
       "      <td>[Boco, Tea]</td>\n",
       "      <td>0</td>\n",
       "    </tr>\n",
       "    <tr>\n",
       "      <th>20</th>\n",
       "      <td>[CMUK., Shoes:, Take, on, Life, Feet, First.]</td>\n",
       "      <td>1</td>\n",
       "    </tr>\n",
       "    <tr>\n",
       "      <th>21</th>\n",
       "      <td>[MikeyJ, clothing, brand, fundraiser]</td>\n",
       "      <td>0</td>\n",
       "    </tr>\n",
       "    <tr>\n",
       "      <th>22</th>\n",
       "      <td>[Alice, in, Wonderland, in, G, Minor]</td>\n",
       "      <td>0</td>\n",
       "    </tr>\n",
       "    <tr>\n",
       "      <th>23</th>\n",
       "      <td>[Mountain, brew:, A, quest, for, alcohol, sust...</td>\n",
       "      <td>0</td>\n",
       "    </tr>\n",
       "    <tr>\n",
       "      <th>24</th>\n",
       "      <td>[The, Book, Zoo, -, A, Mini-Comic]</td>\n",
       "      <td>1</td>\n",
       "    </tr>\n",
       "    <tr>\n",
       "      <th>25</th>\n",
       "      <td>[Matt, Cavenaugh, &amp;, Jenny, Powers, make, thei...</td>\n",
       "      <td>1</td>\n",
       "    </tr>\n",
       "    <tr>\n",
       "      <th>26</th>\n",
       "      <td>[Superhero, Teddy, Bear]</td>\n",
       "      <td>0</td>\n",
       "    </tr>\n",
       "    <tr>\n",
       "      <th>27</th>\n",
       "      <td>[Permaculture, Skills]</td>\n",
       "      <td>1</td>\n",
       "    </tr>\n",
       "    <tr>\n",
       "      <th>28</th>\n",
       "      <td>[Rebel, Army, Origins:, The, Heroic, Story, Of...</td>\n",
       "      <td>1</td>\n",
       "    </tr>\n",
       "    <tr>\n",
       "      <th>30</th>\n",
       "      <td>[Daily, Brew, Coffee]</td>\n",
       "      <td>0</td>\n",
       "    </tr>\n",
       "    <tr>\n",
       "      <th>31</th>\n",
       "      <td>[Ledr, workbook:, one, tough, journal!]</td>\n",
       "      <td>1</td>\n",
       "    </tr>\n",
       "    <tr>\n",
       "      <th>32</th>\n",
       "      <td>[Feather, Cast, Furled, Fly, Fishing, Leaders]</td>\n",
       "      <td>1</td>\n",
       "    </tr>\n",
       "    <tr>\n",
       "      <th>33</th>\n",
       "      <td>[BB130A]</td>\n",
       "      <td>0</td>\n",
       "    </tr>\n",
       "    <tr>\n",
       "      <th>34</th>\n",
       "      <td>[Chris, Eger, Band, -, New, Nashville, Record!]</td>\n",
       "      <td>1</td>\n",
       "    </tr>\n",
       "    <tr>\n",
       "      <th>35</th>\n",
       "      <td>[Squatch, Watchers]</td>\n",
       "      <td>0</td>\n",
       "    </tr>\n",
       "    <tr>\n",
       "      <th>36</th>\n",
       "      <td>[Arrows, &amp;, Sound, Debut, Album]</td>\n",
       "      <td>1</td>\n",
       "    </tr>\n",
       "    <tr>\n",
       "      <th>...</th>\n",
       "      <td>...</td>\n",
       "      <td>...</td>\n",
       "    </tr>\n",
       "    <tr>\n",
       "      <th>378623</th>\n",
       "      <td>[BETTER, DESPERATE]</td>\n",
       "      <td>1</td>\n",
       "    </tr>\n",
       "    <tr>\n",
       "      <th>378625</th>\n",
       "      <td>[Competition, Finalist]</td>\n",
       "      <td>1</td>\n",
       "    </tr>\n",
       "    <tr>\n",
       "      <th>378627</th>\n",
       "      <td>[\"100, PHOTOGRAPHS, FOR, OUR, LIBERTIES\"]</td>\n",
       "      <td>0</td>\n",
       "    </tr>\n",
       "    <tr>\n",
       "      <th>378628</th>\n",
       "      <td>[Pug, Life, -, Inspired, by, the, Pug]</td>\n",
       "      <td>0</td>\n",
       "    </tr>\n",
       "    <tr>\n",
       "      <th>378629</th>\n",
       "      <td>[Collinwood, Needs, Coffee!!!]</td>\n",
       "      <td>0</td>\n",
       "    </tr>\n",
       "    <tr>\n",
       "      <th>378630</th>\n",
       "      <td>[PookieCat, rune, cards, -, funny, oracle, car...</td>\n",
       "      <td>1</td>\n",
       "    </tr>\n",
       "    <tr>\n",
       "      <th>378631</th>\n",
       "      <td>[MONSTROCARDS-, A, Creative, Drawing, Game, of...</td>\n",
       "      <td>1</td>\n",
       "    </tr>\n",
       "    <tr>\n",
       "      <th>378632</th>\n",
       "      <td>[\"Loreto\"]</td>\n",
       "      <td>0</td>\n",
       "    </tr>\n",
       "    <tr>\n",
       "      <th>378633</th>\n",
       "      <td>[STATE, OF, G, -, Men's, Blazer, Jacket, &amp;, Wo...</td>\n",
       "      <td>0</td>\n",
       "    </tr>\n",
       "    <tr>\n",
       "      <th>378634</th>\n",
       "      <td>[Transcaucasia]</td>\n",
       "      <td>0</td>\n",
       "    </tr>\n",
       "    <tr>\n",
       "      <th>378635</th>\n",
       "      <td>[You're, Not, Cis,, You, Just, Think, You, Are...</td>\n",
       "      <td>0</td>\n",
       "    </tr>\n",
       "    <tr>\n",
       "      <th>378636</th>\n",
       "      <td>[Little, Saturday's, Debut, Album]</td>\n",
       "      <td>1</td>\n",
       "    </tr>\n",
       "    <tr>\n",
       "      <th>378637</th>\n",
       "      <td>[Ways, to, Look, at, the, Moon]</td>\n",
       "      <td>1</td>\n",
       "    </tr>\n",
       "    <tr>\n",
       "      <th>378638</th>\n",
       "      <td>[Terminal, Uniqueness]</td>\n",
       "      <td>0</td>\n",
       "    </tr>\n",
       "    <tr>\n",
       "      <th>378639</th>\n",
       "      <td>[Superette, Tea, -, Boldly, Caffeinated, Loose...</td>\n",
       "      <td>1</td>\n",
       "    </tr>\n",
       "    <tr>\n",
       "      <th>378642</th>\n",
       "      <td>[ÉPOUVANTAILS, :, 28mm, Figurines, de, jeux, p...</td>\n",
       "      <td>1</td>\n",
       "    </tr>\n",
       "    <tr>\n",
       "      <th>378644</th>\n",
       "      <td>[The, Manual, Bar, Blade]</td>\n",
       "      <td>1</td>\n",
       "    </tr>\n",
       "    <tr>\n",
       "      <th>378645</th>\n",
       "      <td>[The, Chronicles, of, Erinoth, -, A, Graphic, ...</td>\n",
       "      <td>0</td>\n",
       "    </tr>\n",
       "    <tr>\n",
       "      <th>378646</th>\n",
       "      <td>[The, Dog, Coffee, Book]</td>\n",
       "      <td>1</td>\n",
       "    </tr>\n",
       "    <tr>\n",
       "      <th>378647</th>\n",
       "      <td>[The, Cease, is, Increase]</td>\n",
       "      <td>0</td>\n",
       "    </tr>\n",
       "    <tr>\n",
       "      <th>378649</th>\n",
       "      <td>[Colorado, International, Activism, Film, Fest...</td>\n",
       "      <td>0</td>\n",
       "    </tr>\n",
       "    <tr>\n",
       "      <th>378650</th>\n",
       "      <td>[Date, Seat, -, Boston, iOS, App]</td>\n",
       "      <td>0</td>\n",
       "    </tr>\n",
       "    <tr>\n",
       "      <th>378651</th>\n",
       "      <td>[AT, THE, BEACH]</td>\n",
       "      <td>1</td>\n",
       "    </tr>\n",
       "    <tr>\n",
       "      <th>378652</th>\n",
       "      <td>[Beach, Wrestling, Documentary]</td>\n",
       "      <td>1</td>\n",
       "    </tr>\n",
       "    <tr>\n",
       "      <th>378653</th>\n",
       "      <td>[Islanda]</td>\n",
       "      <td>0</td>\n",
       "    </tr>\n",
       "    <tr>\n",
       "      <th>378654</th>\n",
       "      <td>[Homemade, fresh, dog, food,, Cleveland, OH]</td>\n",
       "      <td>0</td>\n",
       "    </tr>\n",
       "    <tr>\n",
       "      <th>378657</th>\n",
       "      <td>[The, Tribe]</td>\n",
       "      <td>0</td>\n",
       "    </tr>\n",
       "    <tr>\n",
       "      <th>378658</th>\n",
       "      <td>[Walls, of, Remedy-, New, lesbian, Romantic, C...</td>\n",
       "      <td>0</td>\n",
       "    </tr>\n",
       "    <tr>\n",
       "      <th>378659</th>\n",
       "      <td>[BioDefense, Education, Kit]</td>\n",
       "      <td>0</td>\n",
       "    </tr>\n",
       "    <tr>\n",
       "      <th>378660</th>\n",
       "      <td>[Nou, Renmen, Ayiti!, We, Love, Haiti!]</td>\n",
       "      <td>0</td>\n",
       "    </tr>\n",
       "  </tbody>\n",
       "</table>\n",
       "<p>297201 rows × 2 columns</p>\n",
       "</div>"
      ],
      "text/plain": [
       "                                                     name  state\n",
       "0                  [The, Songs, of, Adelaide, &, Abullah]      0\n",
       "1       [Greeting, From, Earth:, ZGAC, Arts, Capsule, ...      0\n",
       "3       [ToshiCapital, Rekordz, Needs, Help, to, Compl...      0\n",
       "6       [Support, Solar, Roasted, Coffee, &, Green, En...      1\n",
       "7       [Chaser, Strips., Our, Strips, make, Shots, th...      0\n",
       "10                               [Of, Jesus, and, Madmen]      0\n",
       "11                                  [Lisa, Lim, New, CD!]      1\n",
       "12                                 [The, Cottage, Market]      0\n",
       "14      [Tombstone:, Old, West, tabletop, game, and, m...      1\n",
       "15                                      [Survival, Rings]      0\n",
       "16                                           [The, Beard]      0\n",
       "17                [Notes, From, London:, Above, &, Below]      0\n",
       "18             [Mike, Corey's, Darkness, &, Light, Album]      1\n",
       "19                                            [Boco, Tea]      0\n",
       "20          [CMUK., Shoes:, Take, on, Life, Feet, First.]      1\n",
       "21                  [MikeyJ, clothing, brand, fundraiser]      0\n",
       "22                  [Alice, in, Wonderland, in, G, Minor]      0\n",
       "23      [Mountain, brew:, A, quest, for, alcohol, sust...      0\n",
       "24                     [The, Book, Zoo, -, A, Mini-Comic]      1\n",
       "25      [Matt, Cavenaugh, &, Jenny, Powers, make, thei...      1\n",
       "26                               [Superhero, Teddy, Bear]      0\n",
       "27                                 [Permaculture, Skills]      1\n",
       "28      [Rebel, Army, Origins:, The, Heroic, Story, Of...      1\n",
       "30                                  [Daily, Brew, Coffee]      0\n",
       "31                [Ledr, workbook:, one, tough, journal!]      1\n",
       "32         [Feather, Cast, Furled, Fly, Fishing, Leaders]      1\n",
       "33                                               [BB130A]      0\n",
       "34        [Chris, Eger, Band, -, New, Nashville, Record!]      1\n",
       "35                                    [Squatch, Watchers]      0\n",
       "36                       [Arrows, &, Sound, Debut, Album]      1\n",
       "...                                                   ...    ...\n",
       "378623                                [BETTER, DESPERATE]      1\n",
       "378625                            [Competition, Finalist]      1\n",
       "378627          [\"100, PHOTOGRAPHS, FOR, OUR, LIBERTIES\"]      0\n",
       "378628             [Pug, Life, -, Inspired, by, the, Pug]      0\n",
       "378629                     [Collinwood, Needs, Coffee!!!]      0\n",
       "378630  [PookieCat, rune, cards, -, funny, oracle, car...      1\n",
       "378631  [MONSTROCARDS-, A, Creative, Drawing, Game, of...      1\n",
       "378632                                         [\"Loreto\"]      0\n",
       "378633  [STATE, OF, G, -, Men's, Blazer, Jacket, &, Wo...      0\n",
       "378634                                    [Transcaucasia]      0\n",
       "378635  [You're, Not, Cis,, You, Just, Think, You, Are...      0\n",
       "378636                 [Little, Saturday's, Debut, Album]      1\n",
       "378637                    [Ways, to, Look, at, the, Moon]      1\n",
       "378638                             [Terminal, Uniqueness]      0\n",
       "378639  [Superette, Tea, -, Boldly, Caffeinated, Loose...      1\n",
       "378642  [ÉPOUVANTAILS, :, 28mm, Figurines, de, jeux, p...      1\n",
       "378644                          [The, Manual, Bar, Blade]      1\n",
       "378645  [The, Chronicles, of, Erinoth, -, A, Graphic, ...      0\n",
       "378646                           [The, Dog, Coffee, Book]      1\n",
       "378647                         [The, Cease, is, Increase]      0\n",
       "378649  [Colorado, International, Activism, Film, Fest...      0\n",
       "378650                  [Date, Seat, -, Boston, iOS, App]      0\n",
       "378651                                   [AT, THE, BEACH]      1\n",
       "378652                    [Beach, Wrestling, Documentary]      1\n",
       "378653                                          [Islanda]      0\n",
       "378654       [Homemade, fresh, dog, food,, Cleveland, OH]      0\n",
       "378657                                       [The, Tribe]      0\n",
       "378658  [Walls, of, Remedy-, New, lesbian, Romantic, C...      0\n",
       "378659                       [BioDefense, Education, Kit]      0\n",
       "378660            [Nou, Renmen, Ayiti!, We, Love, Haiti!]      0\n",
       "\n",
       "[297201 rows x 2 columns]"
      ]
     },
     "execution_count": 27,
     "metadata": {},
     "output_type": "execute_result"
    }
   ],
   "source": [
    "# 分割してみる\n",
    "df_name = df_data[['name','state']]\n",
    "\n",
    "df_name['name'] = df_name['name'].str.split()\n",
    "df_name"
   ]
  },
  {
   "cell_type": "code",
   "execution_count": 28,
   "metadata": {},
   "outputs": [],
   "source": [
    "# chg_x = lambda x : x / x.sum()\n",
    "\n",
    "# # name_group = df_data.groupby('name')['state'].transform(chg_x)\n",
    "# df_name_group = df_data[['name','state']].dropna(axis = 0, how = 'any')\n",
    "# df_name_group\n",
    "# # name_group = df_name_group.groupby('name')['state'].transform(chg_x)\n",
    "# # name_group\n",
    "# # df_name_group.sort_values(by=[\"state\", \"name\"], ascending=True)"
   ]
  },
  {
   "cell_type": "code",
   "execution_count": 29,
   "metadata": {},
   "outputs": [],
   "source": [
    "# df.groupby('name')['weight'].filter(lambda x: x.min() > x.max()/1.3)"
   ]
  },
  {
   "cell_type": "code",
   "execution_count": 30,
   "metadata": {},
   "outputs": [],
   "source": [
    "# nameを上手く変換し活用できなかったため除く\n",
    "df_data = df_data.drop(['name'], axis=1)"
   ]
  },
  {
   "cell_type": "code",
   "execution_count": null,
   "metadata": {},
   "outputs": [],
   "source": []
  },
  {
   "cell_type": "code",
   "execution_count": 31,
   "metadata": {},
   "outputs": [
    {
     "data": {
      "text/html": [
       "<div>\n",
       "<style scoped>\n",
       "    .dataframe tbody tr th:only-of-type {\n",
       "        vertical-align: middle;\n",
       "    }\n",
       "\n",
       "    .dataframe tbody tr th {\n",
       "        vertical-align: top;\n",
       "    }\n",
       "\n",
       "    .dataframe thead th {\n",
       "        text-align: right;\n",
       "    }\n",
       "</style>\n",
       "<table border=\"1\" class=\"dataframe\">\n",
       "  <thead>\n",
       "    <tr style=\"text-align: right;\">\n",
       "      <th></th>\n",
       "      <th>state</th>\n",
       "      <th>usd_goal_real</th>\n",
       "      <th>day_diff</th>\n",
       "      <th>Art</th>\n",
       "      <th>Comics</th>\n",
       "      <th>Crafts</th>\n",
       "      <th>Dance</th>\n",
       "      <th>Design</th>\n",
       "      <th>Fashion</th>\n",
       "      <th>Film &amp; Video</th>\n",
       "      <th>...</th>\n",
       "      <th>JP</th>\n",
       "      <th>LU</th>\n",
       "      <th>MX</th>\n",
       "      <th>N,0\"</th>\n",
       "      <th>NL</th>\n",
       "      <th>NO</th>\n",
       "      <th>NZ</th>\n",
       "      <th>SE</th>\n",
       "      <th>SG</th>\n",
       "      <th>US</th>\n",
       "    </tr>\n",
       "  </thead>\n",
       "  <tbody>\n",
       "    <tr>\n",
       "      <th>46982</th>\n",
       "      <td>0</td>\n",
       "      <td>10000.0</td>\n",
       "      <td>30</td>\n",
       "      <td>0</td>\n",
       "      <td>0</td>\n",
       "      <td>0</td>\n",
       "      <td>0</td>\n",
       "      <td>0</td>\n",
       "      <td>0</td>\n",
       "      <td>0</td>\n",
       "      <td>...</td>\n",
       "      <td>0</td>\n",
       "      <td>0</td>\n",
       "      <td>0</td>\n",
       "      <td>0</td>\n",
       "      <td>0</td>\n",
       "      <td>0</td>\n",
       "      <td>0</td>\n",
       "      <td>0</td>\n",
       "      <td>0</td>\n",
       "      <td>1</td>\n",
       "    </tr>\n",
       "    <tr>\n",
       "      <th>107299</th>\n",
       "      <td>0</td>\n",
       "      <td>4500.0</td>\n",
       "      <td>25</td>\n",
       "      <td>0</td>\n",
       "      <td>0</td>\n",
       "      <td>0</td>\n",
       "      <td>0</td>\n",
       "      <td>0</td>\n",
       "      <td>0</td>\n",
       "      <td>0</td>\n",
       "      <td>...</td>\n",
       "      <td>0</td>\n",
       "      <td>0</td>\n",
       "      <td>0</td>\n",
       "      <td>0</td>\n",
       "      <td>0</td>\n",
       "      <td>0</td>\n",
       "      <td>0</td>\n",
       "      <td>0</td>\n",
       "      <td>0</td>\n",
       "      <td>1</td>\n",
       "    </tr>\n",
       "    <tr>\n",
       "      <th>371960</th>\n",
       "      <td>1</td>\n",
       "      <td>9165.3</td>\n",
       "      <td>30</td>\n",
       "      <td>0</td>\n",
       "      <td>0</td>\n",
       "      <td>0</td>\n",
       "      <td>0</td>\n",
       "      <td>0</td>\n",
       "      <td>0</td>\n",
       "      <td>0</td>\n",
       "      <td>...</td>\n",
       "      <td>0</td>\n",
       "      <td>0</td>\n",
       "      <td>0</td>\n",
       "      <td>0</td>\n",
       "      <td>0</td>\n",
       "      <td>0</td>\n",
       "      <td>0</td>\n",
       "      <td>0</td>\n",
       "      <td>0</td>\n",
       "      <td>0</td>\n",
       "    </tr>\n",
       "    <tr>\n",
       "      <th>28126</th>\n",
       "      <td>0</td>\n",
       "      <td>614.0</td>\n",
       "      <td>20</td>\n",
       "      <td>0</td>\n",
       "      <td>1</td>\n",
       "      <td>0</td>\n",
       "      <td>0</td>\n",
       "      <td>0</td>\n",
       "      <td>0</td>\n",
       "      <td>0</td>\n",
       "      <td>...</td>\n",
       "      <td>0</td>\n",
       "      <td>0</td>\n",
       "      <td>0</td>\n",
       "      <td>0</td>\n",
       "      <td>0</td>\n",
       "      <td>0</td>\n",
       "      <td>0</td>\n",
       "      <td>0</td>\n",
       "      <td>0</td>\n",
       "      <td>0</td>\n",
       "    </tr>\n",
       "    <tr>\n",
       "      <th>187583</th>\n",
       "      <td>0</td>\n",
       "      <td>900.0</td>\n",
       "      <td>30</td>\n",
       "      <td>1</td>\n",
       "      <td>0</td>\n",
       "      <td>0</td>\n",
       "      <td>0</td>\n",
       "      <td>0</td>\n",
       "      <td>0</td>\n",
       "      <td>0</td>\n",
       "      <td>...</td>\n",
       "      <td>0</td>\n",
       "      <td>0</td>\n",
       "      <td>0</td>\n",
       "      <td>0</td>\n",
       "      <td>0</td>\n",
       "      <td>0</td>\n",
       "      <td>0</td>\n",
       "      <td>0</td>\n",
       "      <td>0</td>\n",
       "      <td>1</td>\n",
       "    </tr>\n",
       "  </tbody>\n",
       "</table>\n",
       "<p>5 rows × 41 columns</p>\n",
       "</div>"
      ],
      "text/plain": [
       "        state  usd_goal_real  day_diff  Art  Comics  Crafts  Dance  Design  \\\n",
       "46982       0        10000.0        30    0       0       0      0       0   \n",
       "107299      0         4500.0        25    0       0       0      0       0   \n",
       "371960      1         9165.3        30    0       0       0      0       0   \n",
       "28126       0          614.0        20    0       1       0      0       0   \n",
       "187583      0          900.0        30    1       0       0      0       0   \n",
       "\n",
       "        Fashion  Film & Video ...  JP  LU  MX  N,0\"  NL  NO  NZ  SE  SG  US  \n",
       "46982         0             0 ...   0   0   0     0   0   0   0   0   0   1  \n",
       "107299        0             0 ...   0   0   0     0   0   0   0   0   0   1  \n",
       "371960        0             0 ...   0   0   0     0   0   0   0   0   0   0  \n",
       "28126         0             0 ...   0   0   0     0   0   0   0   0   0   0  \n",
       "187583        0             0 ...   0   0   0     0   0   0   0   0   0   1  \n",
       "\n",
       "[5 rows x 41 columns]"
      ]
     },
     "execution_count": 31,
     "metadata": {},
     "output_type": "execute_result"
    }
   ],
   "source": [
    "# サンプルデータをランダムに2万件取得　\n",
    "df_data_a = df_data.sample(n=20000, random_state=123)\n",
    "df_data_a.head()"
   ]
  },
  {
   "cell_type": "code",
   "execution_count": 32,
   "metadata": {},
   "outputs": [
    {
     "data": {
      "text/html": [
       "<div>\n",
       "<style scoped>\n",
       "    .dataframe tbody tr th:only-of-type {\n",
       "        vertical-align: middle;\n",
       "    }\n",
       "\n",
       "    .dataframe tbody tr th {\n",
       "        vertical-align: top;\n",
       "    }\n",
       "\n",
       "    .dataframe thead th {\n",
       "        text-align: right;\n",
       "    }\n",
       "</style>\n",
       "<table border=\"1\" class=\"dataframe\">\n",
       "  <thead>\n",
       "    <tr style=\"text-align: right;\">\n",
       "      <th></th>\n",
       "      <th>state</th>\n",
       "      <th>usd_goal_real</th>\n",
       "      <th>day_diff</th>\n",
       "      <th>Art</th>\n",
       "      <th>Comics</th>\n",
       "      <th>Crafts</th>\n",
       "      <th>Dance</th>\n",
       "      <th>Design</th>\n",
       "      <th>Fashion</th>\n",
       "      <th>Film &amp; Video</th>\n",
       "      <th>...</th>\n",
       "      <th>JP</th>\n",
       "      <th>LU</th>\n",
       "      <th>MX</th>\n",
       "      <th>N,0\"</th>\n",
       "      <th>NL</th>\n",
       "      <th>NO</th>\n",
       "      <th>NZ</th>\n",
       "      <th>SE</th>\n",
       "      <th>SG</th>\n",
       "      <th>US</th>\n",
       "    </tr>\n",
       "  </thead>\n",
       "  <tbody>\n",
       "    <tr>\n",
       "      <th>count</th>\n",
       "      <td>20000.000000</td>\n",
       "      <td>20000.000000</td>\n",
       "      <td>20000.000000</td>\n",
       "      <td>20000.000000</td>\n",
       "      <td>20000.000000</td>\n",
       "      <td>20000.000000</td>\n",
       "      <td>20000.000000</td>\n",
       "      <td>20000.000000</td>\n",
       "      <td>20000.000000</td>\n",
       "      <td>20000.000000</td>\n",
       "      <td>...</td>\n",
       "      <td>20000.000000</td>\n",
       "      <td>20000.000000</td>\n",
       "      <td>20000.000000</td>\n",
       "      <td>20000.000000</td>\n",
       "      <td>20000.00000</td>\n",
       "      <td>20000.000000</td>\n",
       "      <td>20000.000000</td>\n",
       "      <td>20000.000000</td>\n",
       "      <td>20000.000000</td>\n",
       "      <td>20000.000000</td>\n",
       "    </tr>\n",
       "    <tr>\n",
       "      <th>mean</th>\n",
       "      <td>0.422350</td>\n",
       "      <td>7731.243744</td>\n",
       "      <td>33.498800</td>\n",
       "      <td>0.082350</td>\n",
       "      <td>0.031100</td>\n",
       "      <td>0.024600</td>\n",
       "      <td>0.011150</td>\n",
       "      <td>0.073500</td>\n",
       "      <td>0.059050</td>\n",
       "      <td>0.162900</td>\n",
       "      <td>...</td>\n",
       "      <td>0.000150</td>\n",
       "      <td>0.000200</td>\n",
       "      <td>0.004350</td>\n",
       "      <td>0.000650</td>\n",
       "      <td>0.00705</td>\n",
       "      <td>0.002250</td>\n",
       "      <td>0.003550</td>\n",
       "      <td>0.004000</td>\n",
       "      <td>0.000950</td>\n",
       "      <td>0.787350</td>\n",
       "    </tr>\n",
       "    <tr>\n",
       "      <th>std</th>\n",
       "      <td>0.493946</td>\n",
       "      <td>8388.977830</td>\n",
       "      <td>12.584555</td>\n",
       "      <td>0.274904</td>\n",
       "      <td>0.173592</td>\n",
       "      <td>0.154907</td>\n",
       "      <td>0.105006</td>\n",
       "      <td>0.260962</td>\n",
       "      <td>0.235724</td>\n",
       "      <td>0.369284</td>\n",
       "      <td>...</td>\n",
       "      <td>0.012247</td>\n",
       "      <td>0.014141</td>\n",
       "      <td>0.065813</td>\n",
       "      <td>0.025487</td>\n",
       "      <td>0.08367</td>\n",
       "      <td>0.047382</td>\n",
       "      <td>0.059478</td>\n",
       "      <td>0.063121</td>\n",
       "      <td>0.030808</td>\n",
       "      <td>0.409192</td>\n",
       "    </tr>\n",
       "    <tr>\n",
       "      <th>min</th>\n",
       "      <td>0.000000</td>\n",
       "      <td>0.010000</td>\n",
       "      <td>1.000000</td>\n",
       "      <td>0.000000</td>\n",
       "      <td>0.000000</td>\n",
       "      <td>0.000000</td>\n",
       "      <td>0.000000</td>\n",
       "      <td>0.000000</td>\n",
       "      <td>0.000000</td>\n",
       "      <td>0.000000</td>\n",
       "      <td>...</td>\n",
       "      <td>0.000000</td>\n",
       "      <td>0.000000</td>\n",
       "      <td>0.000000</td>\n",
       "      <td>0.000000</td>\n",
       "      <td>0.00000</td>\n",
       "      <td>0.000000</td>\n",
       "      <td>0.000000</td>\n",
       "      <td>0.000000</td>\n",
       "      <td>0.000000</td>\n",
       "      <td>0.000000</td>\n",
       "    </tr>\n",
       "    <tr>\n",
       "      <th>25%</th>\n",
       "      <td>0.000000</td>\n",
       "      <td>1635.412500</td>\n",
       "      <td>30.000000</td>\n",
       "      <td>0.000000</td>\n",
       "      <td>0.000000</td>\n",
       "      <td>0.000000</td>\n",
       "      <td>0.000000</td>\n",
       "      <td>0.000000</td>\n",
       "      <td>0.000000</td>\n",
       "      <td>0.000000</td>\n",
       "      <td>...</td>\n",
       "      <td>0.000000</td>\n",
       "      <td>0.000000</td>\n",
       "      <td>0.000000</td>\n",
       "      <td>0.000000</td>\n",
       "      <td>0.00000</td>\n",
       "      <td>0.000000</td>\n",
       "      <td>0.000000</td>\n",
       "      <td>0.000000</td>\n",
       "      <td>0.000000</td>\n",
       "      <td>1.000000</td>\n",
       "    </tr>\n",
       "    <tr>\n",
       "      <th>50%</th>\n",
       "      <td>0.000000</td>\n",
       "      <td>5000.000000</td>\n",
       "      <td>30.000000</td>\n",
       "      <td>0.000000</td>\n",
       "      <td>0.000000</td>\n",
       "      <td>0.000000</td>\n",
       "      <td>0.000000</td>\n",
       "      <td>0.000000</td>\n",
       "      <td>0.000000</td>\n",
       "      <td>0.000000</td>\n",
       "      <td>...</td>\n",
       "      <td>0.000000</td>\n",
       "      <td>0.000000</td>\n",
       "      <td>0.000000</td>\n",
       "      <td>0.000000</td>\n",
       "      <td>0.00000</td>\n",
       "      <td>0.000000</td>\n",
       "      <td>0.000000</td>\n",
       "      <td>0.000000</td>\n",
       "      <td>0.000000</td>\n",
       "      <td>1.000000</td>\n",
       "    </tr>\n",
       "    <tr>\n",
       "      <th>75%</th>\n",
       "      <td>1.000000</td>\n",
       "      <td>10000.000000</td>\n",
       "      <td>35.000000</td>\n",
       "      <td>0.000000</td>\n",
       "      <td>0.000000</td>\n",
       "      <td>0.000000</td>\n",
       "      <td>0.000000</td>\n",
       "      <td>0.000000</td>\n",
       "      <td>0.000000</td>\n",
       "      <td>0.000000</td>\n",
       "      <td>...</td>\n",
       "      <td>0.000000</td>\n",
       "      <td>0.000000</td>\n",
       "      <td>0.000000</td>\n",
       "      <td>0.000000</td>\n",
       "      <td>0.00000</td>\n",
       "      <td>0.000000</td>\n",
       "      <td>0.000000</td>\n",
       "      <td>0.000000</td>\n",
       "      <td>0.000000</td>\n",
       "      <td>1.000000</td>\n",
       "    </tr>\n",
       "    <tr>\n",
       "      <th>max</th>\n",
       "      <td>1.000000</td>\n",
       "      <td>39999.000000</td>\n",
       "      <td>92.000000</td>\n",
       "      <td>1.000000</td>\n",
       "      <td>1.000000</td>\n",
       "      <td>1.000000</td>\n",
       "      <td>1.000000</td>\n",
       "      <td>1.000000</td>\n",
       "      <td>1.000000</td>\n",
       "      <td>1.000000</td>\n",
       "      <td>...</td>\n",
       "      <td>1.000000</td>\n",
       "      <td>1.000000</td>\n",
       "      <td>1.000000</td>\n",
       "      <td>1.000000</td>\n",
       "      <td>1.00000</td>\n",
       "      <td>1.000000</td>\n",
       "      <td>1.000000</td>\n",
       "      <td>1.000000</td>\n",
       "      <td>1.000000</td>\n",
       "      <td>1.000000</td>\n",
       "    </tr>\n",
       "  </tbody>\n",
       "</table>\n",
       "<p>8 rows × 41 columns</p>\n",
       "</div>"
      ],
      "text/plain": [
       "              state  usd_goal_real      day_diff           Art        Comics  \\\n",
       "count  20000.000000   20000.000000  20000.000000  20000.000000  20000.000000   \n",
       "mean       0.422350    7731.243744     33.498800      0.082350      0.031100   \n",
       "std        0.493946    8388.977830     12.584555      0.274904      0.173592   \n",
       "min        0.000000       0.010000      1.000000      0.000000      0.000000   \n",
       "25%        0.000000    1635.412500     30.000000      0.000000      0.000000   \n",
       "50%        0.000000    5000.000000     30.000000      0.000000      0.000000   \n",
       "75%        1.000000   10000.000000     35.000000      0.000000      0.000000   \n",
       "max        1.000000   39999.000000     92.000000      1.000000      1.000000   \n",
       "\n",
       "             Crafts         Dance        Design       Fashion  Film & Video  \\\n",
       "count  20000.000000  20000.000000  20000.000000  20000.000000  20000.000000   \n",
       "mean       0.024600      0.011150      0.073500      0.059050      0.162900   \n",
       "std        0.154907      0.105006      0.260962      0.235724      0.369284   \n",
       "min        0.000000      0.000000      0.000000      0.000000      0.000000   \n",
       "25%        0.000000      0.000000      0.000000      0.000000      0.000000   \n",
       "50%        0.000000      0.000000      0.000000      0.000000      0.000000   \n",
       "75%        0.000000      0.000000      0.000000      0.000000      0.000000   \n",
       "max        1.000000      1.000000      1.000000      1.000000      1.000000   \n",
       "\n",
       "           ...                 JP            LU            MX          N,0\"  \\\n",
       "count      ...       20000.000000  20000.000000  20000.000000  20000.000000   \n",
       "mean       ...           0.000150      0.000200      0.004350      0.000650   \n",
       "std        ...           0.012247      0.014141      0.065813      0.025487   \n",
       "min        ...           0.000000      0.000000      0.000000      0.000000   \n",
       "25%        ...           0.000000      0.000000      0.000000      0.000000   \n",
       "50%        ...           0.000000      0.000000      0.000000      0.000000   \n",
       "75%        ...           0.000000      0.000000      0.000000      0.000000   \n",
       "max        ...           1.000000      1.000000      1.000000      1.000000   \n",
       "\n",
       "                NL            NO            NZ            SE            SG  \\\n",
       "count  20000.00000  20000.000000  20000.000000  20000.000000  20000.000000   \n",
       "mean       0.00705      0.002250      0.003550      0.004000      0.000950   \n",
       "std        0.08367      0.047382      0.059478      0.063121      0.030808   \n",
       "min        0.00000      0.000000      0.000000      0.000000      0.000000   \n",
       "25%        0.00000      0.000000      0.000000      0.000000      0.000000   \n",
       "50%        0.00000      0.000000      0.000000      0.000000      0.000000   \n",
       "75%        0.00000      0.000000      0.000000      0.000000      0.000000   \n",
       "max        1.00000      1.000000      1.000000      1.000000      1.000000   \n",
       "\n",
       "                 US  \n",
       "count  20000.000000  \n",
       "mean       0.787350  \n",
       "std        0.409192  \n",
       "min        0.000000  \n",
       "25%        1.000000  \n",
       "50%        1.000000  \n",
       "75%        1.000000  \n",
       "max        1.000000  \n",
       "\n",
       "[8 rows x 41 columns]"
      ]
     },
     "execution_count": 32,
     "metadata": {},
     "output_type": "execute_result"
    }
   ],
   "source": [
    "df_data_a.describe()"
   ]
  },
  {
   "cell_type": "markdown",
   "metadata": {},
   "source": [
    "#### 目的変数と各説明変数の関係を調査する"
   ]
  },
  {
   "cell_type": "code",
   "execution_count": 33,
   "metadata": {},
   "outputs": [],
   "source": [
    "# 相関係数を確認\n",
    "# df_data_a.corr()"
   ]
  },
  {
   "cell_type": "code",
   "execution_count": 34,
   "metadata": {},
   "outputs": [],
   "source": [
    "# 相関係数をヒートマップにして可視化\n",
    "# sns.heatmap(df_data_a.corr())\n",
    "# plt.show()"
   ]
  },
  {
   "cell_type": "code",
   "execution_count": null,
   "metadata": {},
   "outputs": [],
   "source": []
  },
  {
   "cell_type": "markdown",
   "metadata": {},
   "source": [
    "### ホールドアウト法\n",
    "- データを事前に学習用とテスト用に分割し、テスト用データで学習済みモデルの汎化誤差を評価する方法のこと"
   ]
  },
  {
   "cell_type": "code",
   "execution_count": 35,
   "metadata": {},
   "outputs": [],
   "source": [
    "y = df_data_a.loc[:,['state']].values\n",
    "X = df_data_a.drop('state', axis=1).values\n",
    "#学習用データとテスト用データを分ける\n",
    "X_train, X_test, y_train, y_test = train_test_split(X, y, test_size = 0.2, random_state=123)"
   ]
  },
  {
   "cell_type": "code",
   "execution_count": 36,
   "metadata": {},
   "outputs": [],
   "source": [
    "#データの標準化\n",
    "scl = StandardScaler()\n",
    "X_train_std = scl.fit_transform(X_train)\n",
    "X_test_std = scl.transform(X_test)"
   ]
  },
  {
   "cell_type": "code",
   "execution_count": 37,
   "metadata": {},
   "outputs": [
    {
     "data": {
      "text/plain": [
       "(array([7.74937399e+03, 3.35374375e+01, 8.21875000e-02, 3.18125000e-02,\n",
       "        2.53125000e-02, 1.11875000e-02, 7.33125000e-02, 5.73750000e-02,\n",
       "        1.65687500e-01, 6.33750000e-02, 7.90625000e-02, 1.28750000e-02,\n",
       "        1.50500000e-01, 3.24375000e-02, 1.15687500e-01, 6.41875000e-02,\n",
       "        3.50000000e-02, 1.25000000e-03, 2.12500000e-02, 9.37500000e-04,\n",
       "        3.80000000e-02, 2.25000000e-03, 9.00000000e-03, 2.00000000e-03,\n",
       "        5.81250000e-03, 7.43750000e-03, 8.98750000e-02, 1.50000000e-03,\n",
       "        1.62500000e-03, 7.12500000e-03, 1.87500000e-04, 1.87500000e-04,\n",
       "        4.25000000e-03, 5.62500000e-04, 6.93750000e-03, 2.31250000e-03,\n",
       "        3.62500000e-03, 3.62500000e-03, 1.06250000e-03, 7.89187500e-01]),\n",
       " array([8.39299705e+03, 1.25782788e+01, 2.74650168e-01, 1.75500612e-01,\n",
       "        1.57072523e-01, 1.05177658e-01, 2.60648762e-01, 2.32557755e-01,\n",
       "        3.71799882e-01, 2.43636223e-01, 2.69836286e-01, 1.12735240e-01,\n",
       "        3.57560834e-01, 1.77158992e-01, 3.19849812e-01, 2.45086648e-01,\n",
       "        1.83779759e-01, 3.53332351e-02, 1.44216634e-01, 3.06042659e-02,\n",
       "        1.91196234e-01, 4.73807714e-02, 9.44404574e-02, 4.46766158e-02,\n",
       "        7.60178587e-02, 8.59196345e-02, 2.86002595e-01, 3.87007752e-02,\n",
       "        4.02785225e-02, 8.41084679e-02, 1.36917802e-02, 1.36917802e-02,\n",
       "        6.50533435e-02, 2.37104111e-02, 8.30022355e-02, 4.80328257e-02,\n",
       "        6.00987469e-02, 6.00987469e-02, 3.25786908e-02, 4.07885511e-01]))"
      ]
     },
     "execution_count": 37,
     "metadata": {},
     "output_type": "execute_result"
    }
   ],
   "source": [
    "scl.mean_, scl.scale_"
   ]
  },
  {
   "cell_type": "markdown",
   "metadata": {},
   "source": [
    "2値のエントロピー"
   ]
  },
  {
   "cell_type": "code",
   "execution_count": 38,
   "metadata": {},
   "outputs": [],
   "source": [
    "def entropy(px):\n",
    "    \"\"\"\n",
    "    px : array like\n",
    "    \"\"\"\n",
    "    px = np.array(px).astype(float)\n",
    "    px[px==0] = 1e-10 #logx(0)は計算できないため、小さな値に置き換えておく\n",
    "    return -1 * np.sum(px*np.log2(px))\n",
    "\n",
    "def gini_index(px):\n",
    "    \"\"\"\n",
    "    px : array like\n",
    "    \"\"\"\n",
    "    px = np.array(px).astype(float)\n",
    "    return 1 - np.sum(px ** 2)\n",
    "\n",
    "def entropy_and_gini_index_plot(px):\n",
    "    pd.DataFrame(px).plot.bar(figsize=(7,2))\n",
    "    plt.ylim([0,1.0])\n",
    "    plt.ylabel(\"p(x)\")\n",
    "    plt.xlabel(\"Discrete probablity variable\")\n",
    "    title = \"Entropy = %s  \"% round(entropy(px),4) + \"Gini index = %s\"% round(gini_index(px),4)\n",
    "    plt.title(title)\n",
    "    plt.show()"
   ]
  },
  {
   "cell_type": "code",
   "execution_count": 39,
   "metadata": {},
   "outputs": [
    {
     "data": {
      "image/png": "[encoded data removed]",
      "text/plain": [
       "<matplotlib.figure.Figure at 0x1a3bc84d68>"
      ]
     },
     "metadata": {},
     "output_type": "display_data"
    },
    {
     "data": {
      "image/png": "[encoded data removed]",
      "text/plain": [
       "<matplotlib.figure.Figure at 0x1a1ae4eb70>"
      ]
     },
     "metadata": {},
     "output_type": "display_data"
    }
   ],
   "source": [
    "p1 = len(y_train[y_train == 0]) / len(y_train)\n",
    "p2 = 1 - p1\n",
    "p3 = len(y_test[y_test == 0]) / len(y_test)\n",
    "p4 = 1- p3\n",
    "\n",
    "entropy_and_gini_index_plot([p1, p2])\n",
    "entropy_and_gini_index_plot([p3, p4])"
   ]
  },
  {
   "cell_type": "code",
   "execution_count": null,
   "metadata": {},
   "outputs": [],
   "source": []
  },
  {
   "cell_type": "markdown",
   "metadata": {},
   "source": [
    "## ロジスティック回帰を使って学習"
   ]
  },
  {
   "cell_type": "code",
   "execution_count": 40,
   "metadata": {},
   "outputs": [
    {
     "name": "stderr",
     "output_type": "stream",
     "text": [
      "/Users/giraffe/.pyenv/versions/anaconda3-5.1.0/lib/python3.6/site-packages/sklearn/utils/validation.py:578: DataConversionWarning: A column-vector y was passed when a 1d array was expected. Please change the shape of y to (n_samples, ), for example using ravel().\n",
      "  y = column_or_1d(y, warn=True)\n"
     ]
    },
    {
     "data": {
      "text/plain": [
       "SGDClassifier(alpha=0.0001, average=False, class_weight=None, epsilon=0.1,\n",
       "       eta0=0.0, fit_intercept=True, l1_ratio=0.15,\n",
       "       learning_rate='optimal', loss='log', max_iter=10000, n_iter=None,\n",
       "       n_jobs=1, penalty='none', power_t=0.5, random_state=123,\n",
       "       shuffle=True, tol=None, verbose=0, warm_start=False)"
      ]
     },
     "execution_count": 40,
     "metadata": {},
     "output_type": "execute_result"
    }
   ],
   "source": [
    "# ロジスティック回帰\n",
    "clf = SGDClassifier(loss='log', penalty='none', max_iter=10000, fit_intercept=True, random_state=123)\n",
    "clf.fit(X_train_std, y_train)"
   ]
  },
  {
   "cell_type": "code",
   "execution_count": 41,
   "metadata": {},
   "outputs": [],
   "source": [
    "# ラベルを予測\n",
    "y_pred = clf.predict(X_test_std)"
   ]
  },
  {
   "cell_type": "code",
   "execution_count": 42,
   "metadata": {},
   "outputs": [
    {
     "name": "stdout",
     "output_type": "stream",
     "text": [
      "対数尤度 = -13.038\n",
      "正答率（Accuracy） = 62.250%\n",
      "適合率（Precision） = 65.145%\n",
      "再現率（Recall） = 76.641%\n",
      "F1値（F1-score） = 70.427%\n"
     ]
    }
   ],
   "source": [
    "# 対数尤度を表示\n",
    "print('対数尤度 = {:.3f}'.format(- log_loss(y_test, y_pred)))\n",
    "# 正答率を表示\n",
    "print('正答率（Accuracy） = {:.3f}%'.format(100 * accuracy_score(y_test, y_pred)))\n",
    "# Precision, Recall, F1-scoreを計算\n",
    "precision, recall, f1_score, _ = precision_recall_fscore_support(y_test, y_pred)\n",
    "# Precision, Recall, F1-scoreを表示\n",
    "print('適合率（Precision） = {:.3f}%'.format(100 * precision[0]))\n",
    "print('再現率（Recall） = {:.3f}%'.format(100 * recall[0]))\n",
    "print('F1値（F1-score） = {:.3f}%'.format(100 * f1_score[0]))"
   ]
  },
  {
   "cell_type": "code",
   "execution_count": 43,
   "metadata": {},
   "outputs": [
    {
     "data": {
      "text/html": [
       "<div>\n",
       "<style scoped>\n",
       "    .dataframe tbody tr th:only-of-type {\n",
       "        vertical-align: middle;\n",
       "    }\n",
       "\n",
       "    .dataframe tbody tr th {\n",
       "        vertical-align: top;\n",
       "    }\n",
       "\n",
       "    .dataframe thead th {\n",
       "        text-align: right;\n",
       "    }\n",
       "</style>\n",
       "<table border=\"1\" class=\"dataframe\">\n",
       "  <thead>\n",
       "    <tr style=\"text-align: right;\">\n",
       "      <th></th>\n",
       "      <th>予測 = 成功</th>\n",
       "      <th>予測 = 失敗</th>\n",
       "    </tr>\n",
       "  </thead>\n",
       "  <tbody>\n",
       "    <tr>\n",
       "      <th>正解 = 成功</th>\n",
       "      <td>1798</td>\n",
       "      <td>548</td>\n",
       "    </tr>\n",
       "    <tr>\n",
       "      <th>正解 = 失敗</th>\n",
       "      <td>962</td>\n",
       "      <td>692</td>\n",
       "    </tr>\n",
       "  </tbody>\n",
       "</table>\n",
       "</div>"
      ],
      "text/plain": [
       "         予測 = 成功  予測 = 失敗\n",
       "正解 = 成功     1798      548\n",
       "正解 = 失敗      962      692"
      ]
     },
     "execution_count": 43,
     "metadata": {},
     "output_type": "execute_result"
    }
   ],
   "source": [
    "# 予測値と正解のクロス集計\n",
    "conf_mat = pd.DataFrame(confusion_matrix(y_test, y_pred, labels=[0,1]), \n",
    "                        index=['正解 = 成功', '正解 = 失敗'], \n",
    "                        columns=['予測 = 成功', '予測 = 失敗'])\n",
    "conf_mat"
   ]
  },
  {
   "cell_type": "code",
   "execution_count": 44,
   "metadata": {},
   "outputs": [
    {
     "name": "stdout",
     "output_type": "stream",
     "text": [
      "学習データ識別精度= 0.6266875\n",
      "テストデータ識別精度= 0.6225\n"
     ]
    }
   ],
   "source": [
    "print(\"学習データ識別精度=\",clf.score(X_train_std, y_train))\n",
    "print(\"テストデータ識別精度=\",clf.score(X_test_std, y_test))"
   ]
  },
  {
   "cell_type": "code",
   "execution_count": 45,
   "metadata": {},
   "outputs": [
    {
     "data": {
      "text/plain": [
       "array([[-2.50821031e-01, -1.97628990e-01,  6.36726421e-03,\n",
       "         9.34342063e-02, -1.38658023e-01,  9.78833773e-02,\n",
       "         5.75149336e-02, -1.43925511e-01,  5.08716233e-02,\n",
       "        -6.93404018e-02,  5.32898089e-02, -7.68919110e-02,\n",
       "         1.63065117e-01, -5.21458981e-02, -1.12020182e-01,\n",
       "        -1.51828215e-01,  1.52678837e-01,  2.78850570e-02,\n",
       "         2.50464212e-02,  1.66575672e-02,  6.70147344e-02,\n",
       "         4.20053837e-02,  1.64793186e-02,  2.81093086e-02,\n",
       "        -4.54144739e-02,  4.88295898e-02,  1.41447102e-01,\n",
       "         3.98230595e-02,  5.52131473e-03, -2.30117423e-02,\n",
       "        -1.61989357e-03, -1.31249054e+01, -3.44295142e-03,\n",
       "         1.26160626e-02,  2.03680264e-02,  4.49261761e-02,\n",
       "         3.18478258e-02,  4.06537891e-02,  2.39186781e-02,\n",
       "         2.62125901e-01]])"
      ]
     },
     "execution_count": 45,
     "metadata": {},
     "output_type": "execute_result"
    }
   ],
   "source": [
    "# モデルの傾き\n",
    "clf.coef_"
   ]
  },
  {
   "cell_type": "code",
   "execution_count": 46,
   "metadata": {},
   "outputs": [
    {
     "data": {
      "text/plain": [
       "array([-0.51254664])"
      ]
     },
     "execution_count": 46,
     "metadata": {},
     "output_type": "execute_result"
    }
   ],
   "source": [
    "# モデルの切片\n",
    "clf.intercept_"
   ]
  },
  {
   "cell_type": "markdown",
   "metadata": {},
   "source": [
    "重みが0.1以下を省いてみる"
   ]
  },
  {
   "cell_type": "code",
   "execution_count": 47,
   "metadata": {},
   "outputs": [
    {
     "data": {
      "text/html": [
       "<div>\n",
       "<style scoped>\n",
       "    .dataframe tbody tr th:only-of-type {\n",
       "        vertical-align: middle;\n",
       "    }\n",
       "\n",
       "    .dataframe tbody tr th {\n",
       "        vertical-align: top;\n",
       "    }\n",
       "\n",
       "    .dataframe thead th {\n",
       "        text-align: right;\n",
       "    }\n",
       "</style>\n",
       "<table border=\"1\" class=\"dataframe\">\n",
       "  <thead>\n",
       "    <tr style=\"text-align: right;\">\n",
       "      <th></th>\n",
       "      <th>state</th>\n",
       "      <th>usd_goal_real</th>\n",
       "      <th>day_diff</th>\n",
       "      <th>Art</th>\n",
       "      <th>Comics</th>\n",
       "      <th>Crafts</th>\n",
       "      <th>Dance</th>\n",
       "      <th>Design</th>\n",
       "      <th>Fashion</th>\n",
       "      <th>Film &amp; Video</th>\n",
       "      <th>...</th>\n",
       "      <th>JP</th>\n",
       "      <th>LU</th>\n",
       "      <th>MX</th>\n",
       "      <th>N,0\"</th>\n",
       "      <th>NL</th>\n",
       "      <th>NO</th>\n",
       "      <th>NZ</th>\n",
       "      <th>SE</th>\n",
       "      <th>SG</th>\n",
       "      <th>US</th>\n",
       "    </tr>\n",
       "  </thead>\n",
       "  <tbody>\n",
       "    <tr>\n",
       "      <th>46982</th>\n",
       "      <td>0</td>\n",
       "      <td>10000.0</td>\n",
       "      <td>30</td>\n",
       "      <td>0</td>\n",
       "      <td>0</td>\n",
       "      <td>0</td>\n",
       "      <td>0</td>\n",
       "      <td>0</td>\n",
       "      <td>0</td>\n",
       "      <td>0</td>\n",
       "      <td>...</td>\n",
       "      <td>0</td>\n",
       "      <td>0</td>\n",
       "      <td>0</td>\n",
       "      <td>0</td>\n",
       "      <td>0</td>\n",
       "      <td>0</td>\n",
       "      <td>0</td>\n",
       "      <td>0</td>\n",
       "      <td>0</td>\n",
       "      <td>1</td>\n",
       "    </tr>\n",
       "    <tr>\n",
       "      <th>107299</th>\n",
       "      <td>0</td>\n",
       "      <td>4500.0</td>\n",
       "      <td>25</td>\n",
       "      <td>0</td>\n",
       "      <td>0</td>\n",
       "      <td>0</td>\n",
       "      <td>0</td>\n",
       "      <td>0</td>\n",
       "      <td>0</td>\n",
       "      <td>0</td>\n",
       "      <td>...</td>\n",
       "      <td>0</td>\n",
       "      <td>0</td>\n",
       "      <td>0</td>\n",
       "      <td>0</td>\n",
       "      <td>0</td>\n",
       "      <td>0</td>\n",
       "      <td>0</td>\n",
       "      <td>0</td>\n",
       "      <td>0</td>\n",
       "      <td>1</td>\n",
       "    </tr>\n",
       "    <tr>\n",
       "      <th>371960</th>\n",
       "      <td>1</td>\n",
       "      <td>9165.3</td>\n",
       "      <td>30</td>\n",
       "      <td>0</td>\n",
       "      <td>0</td>\n",
       "      <td>0</td>\n",
       "      <td>0</td>\n",
       "      <td>0</td>\n",
       "      <td>0</td>\n",
       "      <td>0</td>\n",
       "      <td>...</td>\n",
       "      <td>0</td>\n",
       "      <td>0</td>\n",
       "      <td>0</td>\n",
       "      <td>0</td>\n",
       "      <td>0</td>\n",
       "      <td>0</td>\n",
       "      <td>0</td>\n",
       "      <td>0</td>\n",
       "      <td>0</td>\n",
       "      <td>0</td>\n",
       "    </tr>\n",
       "    <tr>\n",
       "      <th>28126</th>\n",
       "      <td>0</td>\n",
       "      <td>614.0</td>\n",
       "      <td>20</td>\n",
       "      <td>0</td>\n",
       "      <td>1</td>\n",
       "      <td>0</td>\n",
       "      <td>0</td>\n",
       "      <td>0</td>\n",
       "      <td>0</td>\n",
       "      <td>0</td>\n",
       "      <td>...</td>\n",
       "      <td>0</td>\n",
       "      <td>0</td>\n",
       "      <td>0</td>\n",
       "      <td>0</td>\n",
       "      <td>0</td>\n",
       "      <td>0</td>\n",
       "      <td>0</td>\n",
       "      <td>0</td>\n",
       "      <td>0</td>\n",
       "      <td>0</td>\n",
       "    </tr>\n",
       "    <tr>\n",
       "      <th>187583</th>\n",
       "      <td>0</td>\n",
       "      <td>900.0</td>\n",
       "      <td>30</td>\n",
       "      <td>1</td>\n",
       "      <td>0</td>\n",
       "      <td>0</td>\n",
       "      <td>0</td>\n",
       "      <td>0</td>\n",
       "      <td>0</td>\n",
       "      <td>0</td>\n",
       "      <td>...</td>\n",
       "      <td>0</td>\n",
       "      <td>0</td>\n",
       "      <td>0</td>\n",
       "      <td>0</td>\n",
       "      <td>0</td>\n",
       "      <td>0</td>\n",
       "      <td>0</td>\n",
       "      <td>0</td>\n",
       "      <td>0</td>\n",
       "      <td>1</td>\n",
       "    </tr>\n",
       "  </tbody>\n",
       "</table>\n",
       "<p>5 rows × 41 columns</p>\n",
       "</div>"
      ],
      "text/plain": [
       "        state  usd_goal_real  day_diff  Art  Comics  Crafts  Dance  Design  \\\n",
       "46982       0        10000.0        30    0       0       0      0       0   \n",
       "107299      0         4500.0        25    0       0       0      0       0   \n",
       "371960      1         9165.3        30    0       0       0      0       0   \n",
       "28126       0          614.0        20    0       1       0      0       0   \n",
       "187583      0          900.0        30    1       0       0      0       0   \n",
       "\n",
       "        Fashion  Film & Video ...  JP  LU  MX  N,0\"  NL  NO  NZ  SE  SG  US  \n",
       "46982         0             0 ...   0   0   0     0   0   0   0   0   0   1  \n",
       "107299        0             0 ...   0   0   0     0   0   0   0   0   0   1  \n",
       "371960        0             0 ...   0   0   0     0   0   0   0   0   0   0  \n",
       "28126         0             0 ...   0   0   0     0   0   0   0   0   0   0  \n",
       "187583        0             0 ...   0   0   0     0   0   0   0   0   0   1  \n",
       "\n",
       "[5 rows x 41 columns]"
      ]
     },
     "metadata": {},
     "output_type": "display_data"
    }
   ],
   "source": [
    "display(df_data_a.head())\n",
    "# 除く\n",
    "# Art, Comics, Dancd, Fashion, Food, Journalism, publishing\n",
    "# df_data_a = df_data_a.drop(['Art',  'Fashion', 'Food', 'Journalism', 'Publishing'], axis=1)"
   ]
  },
  {
   "cell_type": "code",
   "execution_count": 48,
   "metadata": {},
   "outputs": [],
   "source": [
    "# X = df_data_a.drop('state', axis=1).values\n",
    "# #学習用データとテスト用データを分ける\n",
    "# X_train, X_test, y_train, y_test = train_test_split(X, y, test_size = 0.2, random_state=123)\n",
    "\n",
    "# #データの標準化\n",
    "# X_train_std2 = scl.fit_transform(X_train)\n",
    "# X_test_std2 = scl.transform(X_test)"
   ]
  },
  {
   "cell_type": "code",
   "execution_count": 49,
   "metadata": {},
   "outputs": [],
   "source": [
    "# # ロジスティック回帰\n",
    "# clf = SGDClassifier(loss='log', penalty='none', max_iter=10000, fit_intercept=True, random_state=123)\n",
    "# clf.fit(X_train_std2, y_train)\n",
    "# # ラベルを予測\n",
    "# y_pred = clf.predict(X_test_std2)\n",
    "# # 対数尤度を表示\n",
    "# print('対数尤度 = {:.3f}'.format(- log_loss(y_test, y_pred)))\n",
    "# # 正答率を表示\n",
    "# print('正答率（Accuracy） = {:.3f}%'.format(100 * accuracy_score(y_test, y_pred)))\n",
    "# # Precision, Recall, F1-scoreを計算\n",
    "# precision, recall, f1_score, _ = precision_recall_fscore_support(y_test, y_pred)\n",
    "# # Precision, Recall, F1-scoreを表示\n",
    "# print('適合率（Precision） = {:.3f}%'.format(100 * precision[0]))\n",
    "# print('再現率（Recall） = {:.3f}%'.format(100 * recall[0]))\n",
    "# print('F1値（F1-score） = {:.3f}%'.format(100 * f1_score[0]))\n"
   ]
  },
  {
   "cell_type": "code",
   "execution_count": 50,
   "metadata": {},
   "outputs": [],
   "source": [
    "# # 予測値と正解のクロス集計\n",
    "# conf_mat = pd.DataFrame(confusion_matrix(y_test, y_pred, labels=[0,1]), \n",
    "#                         index=['正解 = 成功', '正解 = 失敗'], \n",
    "#                         columns=['予測 = 成功', '予測 = 失敗'])\n",
    "# conf_mat"
   ]
  },
  {
   "cell_type": "code",
   "execution_count": 51,
   "metadata": {},
   "outputs": [],
   "source": [
    "# print(\"学習データ識別精度=\",clf.score(X_train_std2, y_train))\n",
    "# print(\"テストデータ識別精度=\",clf.score(X_test_std2, y_test))"
   ]
  },
  {
   "cell_type": "code",
   "execution_count": null,
   "metadata": {},
   "outputs": [],
   "source": []
  },
  {
   "cell_type": "markdown",
   "metadata": {},
   "source": [
    "## サポートベクターマシーン"
   ]
  },
  {
   "cell_type": "code",
   "execution_count": 52,
   "metadata": {},
   "outputs": [],
   "source": [
    "# クラウドファウンディングが成功：１、失敗：-1に変換\n",
    "y_train[y_train == 0] = -1\n",
    "y_test[y_test == 0] = -1"
   ]
  },
  {
   "cell_type": "markdown",
   "metadata": {},
   "source": [
    "#### グリッドサーチ"
   ]
  },
  {
   "cell_type": "code",
   "execution_count": 53,
   "metadata": {},
   "outputs": [
    {
     "name": "stderr",
     "output_type": "stream",
     "text": [
      "/Users/giraffe/.pyenv/versions/anaconda3-5.1.0/lib/python3.6/site-packages/sklearn/utils/validation.py:578: DataConversionWarning: A column-vector y was passed when a 1d array was expected. Please change the shape of y to (n_samples, ), for example using ravel().\n",
      "  y = column_or_1d(y, warn=True)\n",
      "/Users/giraffe/.pyenv/versions/anaconda3-5.1.0/lib/python3.6/site-packages/sklearn/utils/validation.py:578: DataConversionWarning: A column-vector y was passed when a 1d array was expected. Please change the shape of y to (n_samples, ), for example using ravel().\n",
      "  y = column_or_1d(y, warn=True)\n",
      "/Users/giraffe/.pyenv/versions/anaconda3-5.1.0/lib/python3.6/site-packages/sklearn/utils/validation.py:578: DataConversionWarning: A column-vector y was passed when a 1d array was expected. Please change the shape of y to (n_samples, ), for example using ravel().\n",
      "  y = column_or_1d(y, warn=True)\n",
      "/Users/giraffe/.pyenv/versions/anaconda3-5.1.0/lib/python3.6/site-packages/sklearn/utils/validation.py:578: DataConversionWarning: A column-vector y was passed when a 1d array was expected. Please change the shape of y to (n_samples, ), for example using ravel().\n",
      "  y = column_or_1d(y, warn=True)\n",
      "/Users/giraffe/.pyenv/versions/anaconda3-5.1.0/lib/python3.6/site-packages/sklearn/utils/validation.py:578: DataConversionWarning: A column-vector y was passed when a 1d array was expected. Please change the shape of y to (n_samples, ), for example using ravel().\n",
      "  y = column_or_1d(y, warn=True)\n",
      "/Users/giraffe/.pyenv/versions/anaconda3-5.1.0/lib/python3.6/site-packages/sklearn/utils/validation.py:578: DataConversionWarning: A column-vector y was passed when a 1d array was expected. Please change the shape of y to (n_samples, ), for example using ravel().\n",
      "  y = column_or_1d(y, warn=True)\n",
      "/Users/giraffe/.pyenv/versions/anaconda3-5.1.0/lib/python3.6/site-packages/sklearn/utils/validation.py:578: DataConversionWarning: A column-vector y was passed when a 1d array was expected. Please change the shape of y to (n_samples, ), for example using ravel().\n",
      "  y = column_or_1d(y, warn=True)\n"
     ]
    },
    {
     "name": "stdout",
     "output_type": "stream",
     "text": [
      "{'C': 0.1, 'gamma': 1, 'kernel': 'rbf'} 0.62375\n",
      "CPU times: user 1min 38s, sys: 1.1 s, total: 1min 39s\n",
      "Wall time: 1min 38s\n"
     ]
    }
   ],
   "source": [
    "%%time\n",
    "parameters = {'kernel':['linear', 'rbf'], 'C':[0.1], 'gamma':[1]} # グリッドサーチの結果、左記が最適だった\n",
    "#parameters = {'kernel':['linear', 'rbf'], 'C':[0.5], 'gamma':[1]} \n",
    "#parameters = {'kernel':['rbf'], 'C':[0.1, 0.5, 1], 'gamma':[1]} \n",
    "\n",
    "model = SVC()\n",
    "clf3 = GridSearchCV(model, parameters, cv=3,)\n",
    "clf3.fit(X_train_std, y_train)\n",
    "print(clf3.best_params_, clf3.best_score_)"
   ]
  },
  {
   "cell_type": "code",
   "execution_count": 54,
   "metadata": {},
   "outputs": [
    {
     "name": "stderr",
     "output_type": "stream",
     "text": [
      "/Users/giraffe/.pyenv/versions/anaconda3-5.1.0/lib/python3.6/site-packages/sklearn/utils/validation.py:578: DataConversionWarning: A column-vector y was passed when a 1d array was expected. Please change the shape of y to (n_samples, ), for example using ravel().\n",
      "  y = column_or_1d(y, warn=True)\n"
     ]
    },
    {
     "name": "stdout",
     "output_type": "stream",
     "text": [
      "学習データ識別精度= 0.6294375\n",
      "テストデータ識別精度= 0.61725\n"
     ]
    }
   ],
   "source": [
    "# 最適パラメータを用いて識別する\n",
    "clf4 = SVC(**clf3.best_params_)\n",
    "clf4.fit(X_train_std, y_train)\n",
    "print(\"学習データ識別精度=\",clf4.score(X_train_std, y_train))\n",
    "print(\"テストデータ識別精度=\",clf4.score(X_test_std, y_test))"
   ]
  },
  {
   "cell_type": "code",
   "execution_count": 55,
   "metadata": {},
   "outputs": [
    {
     "name": "stderr",
     "output_type": "stream",
     "text": [
      "/Users/giraffe/.pyenv/versions/anaconda3-5.1.0/lib/python3.6/site-packages/sklearn/utils/validation.py:578: DataConversionWarning: A column-vector y was passed when a 1d array was expected. Please change the shape of y to (n_samples, ), for example using ravel().\n",
      "  y = column_or_1d(y, warn=True)\n"
     ]
    },
    {
     "name": "stdout",
     "output_type": "stream",
     "text": [
      "[-1 -1 -1 ...  1 -1 -1]\n"
     ]
    }
   ],
   "source": [
    "# SVMの実行\n",
    "C = 0.1\n",
    "kernel = \"rbf\"\n",
    "gamma = 1\n",
    "clf2 = SVC(C=C, kernel=kernel, gamma=gamma)\n",
    "clf2.fit(X_train_std, y_train)\n",
    "\n",
    "# 未知のデータを識別する\n",
    "print(clf2.predict(X_test_std))"
   ]
  },
  {
   "cell_type": "code",
   "execution_count": 56,
   "metadata": {},
   "outputs": [
    {
     "name": "stdout",
     "output_type": "stream",
     "text": [
      "対数尤度 = -13.220\n",
      "正答率（Accuracy） = 61.725%\n",
      "適合率（Precision） = 62.990%\n",
      "再現率（Recall） = 84.228%\n",
      "F1値（F1-score） = 72.077%\n"
     ]
    }
   ],
   "source": [
    "# ラベルを予測\n",
    "y_pred = clf2.predict(X_test_std)\n",
    "# 対数尤度を表示\n",
    "print('対数尤度 = {:.3f}'.format(- log_loss(y_test, y_pred)))\n",
    "# 正答率を表示\n",
    "print('正答率（Accuracy） = {:.3f}%'.format(100 * accuracy_score(y_test, y_pred)))\n",
    "# Precision, Recall, F1-scoreを計算\n",
    "precision, recall, f1_score, _ = precision_recall_fscore_support(y_test, y_pred)\n",
    "# Precision, Recall, F1-scoreを表示\n",
    "print('適合率（Precision） = {:.3f}%'.format(100 * precision[0]))\n",
    "print('再現率（Recall） = {:.3f}%'.format(100 * recall[0]))\n",
    "print('F1値（F1-score） = {:.3f}%'.format(100 * f1_score[0]))"
   ]
  },
  {
   "cell_type": "code",
   "execution_count": 57,
   "metadata": {},
   "outputs": [
    {
     "data": {
      "text/html": [
       "<div>\n",
       "<style scoped>\n",
       "    .dataframe tbody tr th:only-of-type {\n",
       "        vertical-align: middle;\n",
       "    }\n",
       "\n",
       "    .dataframe tbody tr th {\n",
       "        vertical-align: top;\n",
       "    }\n",
       "\n",
       "    .dataframe thead th {\n",
       "        text-align: right;\n",
       "    }\n",
       "</style>\n",
       "<table border=\"1\" class=\"dataframe\">\n",
       "  <thead>\n",
       "    <tr style=\"text-align: right;\">\n",
       "      <th></th>\n",
       "      <th>予測 = 成功</th>\n",
       "      <th>予測 = 失敗</th>\n",
       "    </tr>\n",
       "  </thead>\n",
       "  <tbody>\n",
       "    <tr>\n",
       "      <th>正解 = 成功</th>\n",
       "      <td>1976</td>\n",
       "      <td>370</td>\n",
       "    </tr>\n",
       "    <tr>\n",
       "      <th>正解 = 失敗</th>\n",
       "      <td>1161</td>\n",
       "      <td>493</td>\n",
       "    </tr>\n",
       "  </tbody>\n",
       "</table>\n",
       "</div>"
      ],
      "text/plain": [
       "         予測 = 成功  予測 = 失敗\n",
       "正解 = 成功     1976      370\n",
       "正解 = 失敗     1161      493"
      ]
     },
     "execution_count": 57,
     "metadata": {},
     "output_type": "execute_result"
    }
   ],
   "source": [
    "# 予測値と正解のクロス集計\n",
    "conf_mat = pd.DataFrame(confusion_matrix(y_test, y_pred, labels=[-1,1]), \n",
    "                        index=['正解 = 成功', '正解 = 失敗'], \n",
    "                        columns=['予測 = 成功', '予測 = 失敗'])\n",
    "conf_mat"
   ]
  },
  {
   "cell_type": "code",
   "execution_count": 58,
   "metadata": {},
   "outputs": [
    {
     "name": "stdout",
     "output_type": "stream",
     "text": [
      "学習データ識別精度= 0.6294375\n",
      "テストデータ識別精度= 0.61725\n"
     ]
    }
   ],
   "source": [
    "print(\"学習データ識別精度=\",clf2.score(X_train_std, y_train))\n",
    "print(\"テストデータ識別精度=\",clf2.score(X_test_std, y_test))"
   ]
  },
  {
   "cell_type": "markdown",
   "metadata": {},
   "source": [
    "→　ロジスティック回帰の方がSVMより少し精度が高くなった。しかし、特徴量を色々変えてみるとSVMの方が精度が高い場合もある。"
   ]
  },
  {
   "cell_type": "code",
   "execution_count": null,
   "metadata": {},
   "outputs": [],
   "source": []
  },
  {
   "cell_type": "code",
   "execution_count": null,
   "metadata": {},
   "outputs": [],
   "source": []
  },
  {
   "cell_type": "code",
   "execution_count": null,
   "metadata": {},
   "outputs": [],
   "source": []
  },
  {
   "cell_type": "markdown",
   "metadata": {},
   "source": [
    "L1正則化を用いて説明変数を減らす"
   ]
  },
  {
   "cell_type": "code",
   "execution_count": 59,
   "metadata": {},
   "outputs": [
    {
     "name": "stdout",
     "output_type": "stream",
     "text": [
      "Training accuracy: 0.6258125\n",
      "Test accuracy: 0.62075\n"
     ]
    },
    {
     "name": "stderr",
     "output_type": "stream",
     "text": [
      "/Users/giraffe/.pyenv/versions/anaconda3-5.1.0/lib/python3.6/site-packages/sklearn/utils/validation.py:578: DataConversionWarning: A column-vector y was passed when a 1d array was expected. Please change the shape of y to (n_samples, ), for example using ravel().\n",
      "  y = column_or_1d(y, warn=True)\n"
     ]
    }
   ],
   "source": [
    "LogisticRegression(penalty='l1')\n",
    "lr = LogisticRegression(penalty='l1', C=0.1)\n",
    "lr.fit(X_train_std, y_train)\n",
    "print('Training accuracy:', lr.score(X_train_std, y_train))\n",
    "print('Test accuracy:', lr.score(X_test_std, y_test))"
   ]
  },
  {
   "cell_type": "code",
   "execution_count": 60,
   "metadata": {},
   "outputs": [
    {
     "data": {
      "text/plain": [
       "array([[-0.24724378, -0.19486612,  0.        ,  0.08506757, -0.14005918,\n",
       "         0.09165619,  0.04645107, -0.14898256,  0.0362903 , -0.07451079,\n",
       "         0.04124114, -0.07729044,  0.14937641, -0.0549983 , -0.11955381,\n",
       "        -0.15706197,  0.14426062,  0.00796936, -0.04424814,  0.        ,\n",
       "        -0.02478436,  0.01525285, -0.02678135,  0.00260905, -0.07839844,\n",
       "         0.00348952,  0.        ,  0.01838053, -0.0113485 , -0.0607284 ,\n",
       "        -0.00630961, -0.03217576, -0.03188627,  0.        , -0.01757466,\n",
       "         0.01766875,  0.        ,  0.00783361,  0.00530656,  0.0574866 ]])"
      ]
     },
     "execution_count": 60,
     "metadata": {},
     "output_type": "execute_result"
    }
   ],
   "source": [
    "# 係数\n",
    "lr.coef_"
   ]
  },
  {
   "cell_type": "code",
   "execution_count": 61,
   "metadata": {},
   "outputs": [
    {
     "data": {
      "text/plain": [
       "array([-0.32898917])"
      ]
     },
     "execution_count": 61,
     "metadata": {},
     "output_type": "execute_result"
    }
   ],
   "source": [
    "# 切片\n",
    "lr.intercept_"
   ]
  },
  {
   "cell_type": "markdown",
   "metadata": {},
   "source": [
    "係数が0になった説明変数を除いて検証してみる"
   ]
  },
  {
   "cell_type": "code",
   "execution_count": 62,
   "metadata": {},
   "outputs": [
    {
     "data": {
      "text/plain": [
       "Index(['state', 'usd_goal_real', 'day_diff', 'Art', 'Comics', 'Crafts',\n",
       "       'Dance', 'Design', 'Fashion', 'Film & Video', 'Food', 'Games',\n",
       "       'Journalism', 'Music', 'Photography', 'Publishing', 'Technology',\n",
       "       'Theater', 'AT', 'AU', 'BE', 'CA', 'CH', 'DE', 'DK', 'ES', 'FR', 'GB',\n",
       "       'HK', 'IE', 'IT', 'JP', 'LU', 'MX', 'N,0\"', 'NL', 'NO', 'NZ', 'SE',\n",
       "       'SG', 'US'],\n",
       "      dtype='object')"
      ]
     },
     "execution_count": 62,
     "metadata": {},
     "output_type": "execute_result"
    }
   ],
   "source": [
    "df_data_a.columns"
   ]
  },
  {
   "cell_type": "code",
   "execution_count": 63,
   "metadata": {},
   "outputs": [],
   "source": [
    "# 0.01以下を除く\n",
    "# Art, AT, BE, DK, FR, GB, JP, N,0\" , NZ, SE, SG\n",
    "df_data_a = df_data_a.drop(['Art', 'AT', 'BE', 'DK', 'FR', 'GB', 'JP', 'N,0\"', 'NZ','SE', 'SG'], axis=1)"
   ]
  },
  {
   "cell_type": "code",
   "execution_count": 64,
   "metadata": {},
   "outputs": [],
   "source": [
    "X = df_data_a.drop('state', axis=1).values\n",
    "#学習用データとテスト用データを分ける\n",
    "X_train, X_test, y_train, y_test = train_test_split(X, y, test_size = 0.2, random_state=123)\n",
    "#データの標準化\n",
    "X_train_std3 = scl.fit_transform(X_train)\n",
    "X_test_std3 = scl.transform(X_test)"
   ]
  },
  {
   "cell_type": "code",
   "execution_count": 65,
   "metadata": {},
   "outputs": [
    {
     "name": "stderr",
     "output_type": "stream",
     "text": [
      "/Users/giraffe/.pyenv/versions/anaconda3-5.1.0/lib/python3.6/site-packages/sklearn/utils/validation.py:578: DataConversionWarning: A column-vector y was passed when a 1d array was expected. Please change the shape of y to (n_samples, ), for example using ravel().\n",
      "  y = column_or_1d(y, warn=True)\n"
     ]
    }
   ],
   "source": [
    "# ロジスティック回帰\n",
    "clf = SGDClassifier(loss='log', penalty='none', max_iter=10000, fit_intercept=True, random_state=123)\n",
    "clf.fit(X_train_std3, y_train)\n",
    "# ラベルを予測\n",
    "y_pred = clf.predict(X_test_std3)"
   ]
  },
  {
   "cell_type": "code",
   "execution_count": 66,
   "metadata": {},
   "outputs": [
    {
     "name": "stdout",
     "output_type": "stream",
     "text": [
      "対数尤度 = -12.969\n",
      "正答率（Accuracy） = 62.450%\n",
      "適合率（Precision） = 65.301%\n",
      "再現率（Recall） = 76.769%\n",
      "F1値（F1-score） = 70.572%\n"
     ]
    }
   ],
   "source": [
    "# 対数尤度を表示\n",
    "print('対数尤度 = {:.3f}'.format(- log_loss(y_test, y_pred)))\n",
    "# 正答率を表示\n",
    "print('正答率（Accuracy） = {:.3f}%'.format(100 * accuracy_score(y_test, y_pred)))\n",
    "# Precision, Recall, F1-scoreを計算\n",
    "precision, recall, f1_score, _ = precision_recall_fscore_support(y_test, y_pred)\n",
    "# Precision, Recall, F1-scoreを表示\n",
    "print('適合率（Precision） = {:.3f}%'.format(100 * precision[0]))\n",
    "print('再現率（Recall） = {:.3f}%'.format(100 * recall[0]))\n",
    "print('F1値（F1-score） = {:.3f}%'.format(100 * f1_score[0]))"
   ]
  },
  {
   "cell_type": "code",
   "execution_count": 67,
   "metadata": {},
   "outputs": [
    {
     "name": "stdout",
     "output_type": "stream",
     "text": [
      "学習データ識別精度= 0.627\n",
      "テストデータ識別精度= 0.6245\n"
     ]
    }
   ],
   "source": [
    "print(\"学習データ識別精度=\",clf.score(X_train_std3, y_train))\n",
    "print(\"テストデータ識別精度=\",clf.score(X_test_std3, y_test))"
   ]
  },
  {
   "cell_type": "markdown",
   "metadata": {},
   "source": [
    "#### →　L1によって求めた重みが0.01以下の説明変数を排除し、ロジスティック回帰で比較すると精度が上がった"
   ]
  },
  {
   "cell_type": "code",
   "execution_count": null,
   "metadata": {},
   "outputs": [],
   "source": []
  }
 ],
 "metadata": {
  "kernelspec": {
   "display_name": "Python 3",
   "language": "python",
   "name": "python3"
  },
  "language_info": {
   "codemirror_mode": {
    "name": "ipython",
    "version": 3
   },
   "file_extension": ".py",
   "mimetype": "text/x-python",
   "name": "python",
   "nbconvert_exporter": "python",
   "pygments_lexer": "ipython3",
   "version": "3.6.4"
  }
 },
 "nbformat": 4,
 "nbformat_minor": 2
}
